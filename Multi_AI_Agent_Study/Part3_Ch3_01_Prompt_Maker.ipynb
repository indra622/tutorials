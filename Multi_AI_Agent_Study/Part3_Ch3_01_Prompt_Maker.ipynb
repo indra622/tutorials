{
  "nbformat": 4,
  "nbformat_minor": 0,
  "metadata": {
    "colab": {
      "provenance": [],
      "authorship_tag": "ABX9TyND/4V/EZIXvJOm7aJvKpoM",
      "include_colab_link": true
    },
    "kernelspec": {
      "name": "python3",
      "display_name": "Python 3"
    },
    "language_info": {
      "name": "python"
    }
  },
  "cells": [
    {
      "cell_type": "markdown",
      "metadata": {
        "id": "view-in-github",
        "colab_type": "text"
      },
      "source": [
        "<a href=\"https://colab.research.google.com/github/indra622/tutorials/blob/master/Multi_AI_Agent_Study/Part3_Ch3_01_Prompt_Maker.ipynb\" target=\"_parent\"><img src=\"https://colab.research.google.com/assets/colab-badge.svg\" alt=\"Open In Colab\"/></a>"
      ]
    },
    {
      "cell_type": "code",
      "execution_count": 3,
      "metadata": {
        "id": "bqqekllksumJ"
      },
      "outputs": [],
      "source": [
        "!pip install -q langchain langchain-openai langgraph python-dotenv"
      ]
    },
    {
      "cell_type": "code",
      "source": [
        "from dotenv import load_dotenv\n",
        "load_dotenv()"
      ],
      "metadata": {
        "colab": {
          "base_uri": "https://localhost:8080/"
        },
        "id": "xdC91ZE1tFOb",
        "outputId": "a4ac8c4f-7ab0-4db0-ed8d-3a501f5f8d8c"
      },
      "execution_count": 4,
      "outputs": [
        {
          "output_type": "execute_result",
          "data": {
            "text/plain": [
              "True"
            ]
          },
          "metadata": {},
          "execution_count": 4
        }
      ]
    },
    {
      "cell_type": "code",
      "source": [
        "from typing import List, Annotated, Literal, TypedDict\n",
        "from langchain_openai import ChatOpenAI\n",
        "from langchain_core.messages import AIMessage, SystemMessage, HumanMessage, ToolMessage\n",
        "from langgraph.checkpoint.memory import MemorySaver\n",
        "from langgraph.graph import StateGraph, START, END\n",
        "from langgraph.graph.message import add_messages\n",
        "from pydantic import BaseModel"
      ],
      "metadata": {
        "id": "CzGoHPijtO7-"
      },
      "execution_count": 5,
      "outputs": []
    },
    {
      "cell_type": "code",
      "source": [
        "template = \"\"\"Your job is to get information from a user about what type of prompt template they want to create.\n",
        "\n",
        "You should get the following information from them:\n",
        "\n",
        "- What the objective of the prompt is\n",
        "- What variables will be passed into the prompt template\n",
        "- Any constraints for what the output should NOT do\n",
        "- Any requirements that the output MUST adhere to\n",
        "\n",
        "If you are not able to discern this info, ask them to clarify! Do not attempt to wildly guess.\n",
        "\n",
        "After you are able to discern all the information, call the relevant tool.\"\"\"\n",
        "\n",
        "\n",
        "def get_messages_info(messages):\n",
        "    return [SystemMessage(content=template)] + messages\n",
        "\n",
        "\n",
        "class PromptInstructions(BaseModel):\n",
        "    \"\"\"Instructions on how to prompt the LLM.\"\"\"\n",
        "\n",
        "    objective: str\n",
        "    variables: List[str]\n",
        "    constraints: List[str]\n",
        "    requirements: List[str]\n",
        "\n",
        "\n",
        "llm = ChatOpenAI(model=\"gpt-4o-mini\",temperature=0)\n",
        "llm_with_tool = llm.bind_tools([PromptInstructions])\n",
        "\n",
        "\n",
        "def info_chain(state):\n",
        "    messages = get_messages_info(state[\"messages\"])\n",
        "    response = llm_with_tool.invoke(messages)\n",
        "    return {\"messages\": [response]}"
      ],
      "metadata": {
        "id": "b0xGjpGxtohh"
      },
      "execution_count": 6,
      "outputs": []
    },
    {
      "cell_type": "code",
      "source": [
        "from langchain_core.messages import AIMessage, HumanMessage, ToolMessage\n",
        "\n",
        "# New system prompt\n",
        "prompt_system = \"\"\"Based on the following requirements, write a good prompt template:\n",
        "\n",
        "{reqs}\"\"\"\n",
        "\n",
        "\n",
        "# Function to get the messages for the prompt\n",
        "# Will only get messages AFTER the tool call\n",
        "def get_prompt_messages(messages: list):\n",
        "    tool_call = None\n",
        "    other_msgs = []\n",
        "    for m in messages:\n",
        "        if isinstance(m, AIMessage) and m.tool_calls:\n",
        "            tool_call = m.tool_calls[0][\"args\"]\n",
        "            print(tool_call)\n",
        "        elif isinstance(m, ToolMessage):\n",
        "            continue\n",
        "        elif tool_call is not None:\n",
        "            other_msgs.append(m)\n",
        "    return [SystemMessage(content=prompt_system.format(reqs=tool_call))] + other_msgs\n",
        "\n",
        "\n",
        "def prompt_gen_chain(state):\n",
        "    messages = get_prompt_messages(state[\"messages\"])\n",
        "    response = llm.invoke(messages)\n",
        "    return {\"messages\": [response]}"
      ],
      "metadata": {
        "id": "zezl8KCZtt_m"
      },
      "execution_count": 7,
      "outputs": []
    },
    {
      "cell_type": "code",
      "source": [
        "from typing import Literal\n",
        "from langgraph.graph import END\n",
        "\n",
        "def get_state(state) -> Literal[\"prompt\", \"info\", \"__end__\"]:\n",
        "    messages = state[\"messages\"]\n",
        "    if isinstance(messages[-1], AIMessage) and messages[-1].tool_calls:\n",
        "        return \"prompt\"\n",
        "    elif not isinstance(messages[-1], HumanMessage):\n",
        "        return END\n",
        "    return \"info\""
      ],
      "metadata": {
        "id": "i8XTrqNRt3hq"
      },
      "execution_count": 8,
      "outputs": []
    },
    {
      "cell_type": "code",
      "source": [
        "class State(TypedDict):\n",
        "    messages: Annotated[list, add_messages]\n",
        "\n",
        "memory = MemorySaver()\n",
        "workflow = StateGraph(State)\n",
        "\n",
        "# 노드 추가\n",
        "workflow.add_node(\"info\", info_chain)\n",
        "workflow.add_node(\"prompt\", prompt_gen_chain)\n",
        "\n",
        "# 엣지 및 조건부 엣지 추가\n",
        "workflow.add_conditional_edges(\"info\", get_state)\n",
        "workflow.add_edge(\"prompt\", END)\n",
        "workflow.add_edge(START, \"info\")\n",
        "\n",
        "# 그래프 컴파일\n",
        "graph = workflow.compile(checkpointer=memory)"
      ],
      "metadata": {
        "id": "t4zAgTciuVvs"
      },
      "execution_count": 9,
      "outputs": []
    },
    {
      "cell_type": "code",
      "source": [
        "from IPython.display import Image, display\n",
        "\n",
        "display(Image(graph.get_graph().draw_mermaid_png()))"
      ],
      "metadata": {
        "colab": {
          "base_uri": "https://localhost:8080/",
          "height": 350
        },
        "id": "QuKtT3o2uXY0",
        "outputId": "8717ba92-ec2f-43d1-dbdb-1c53eb35422c"
      },
      "execution_count": 10,
      "outputs": [
        {
          "output_type": "display_data",
          "data": {
            "image/png": "[encoded data removed]",
            "text/plain": [
              "<IPython.core.display.Image object>"
            ]
          },
          "metadata": {}
        }
      ]
    },
    {
      "cell_type": "code",
      "source": [
        "import uuid\n",
        "\n",
        "config = {\"configurable\": {\"thread_id\": str(uuid.uuid4())}}\n",
        "while True:\n",
        "    user = input(\"User (q/Q to quit): \")\n",
        "    if user in {\"q\", \"Q\"}:\n",
        "        print(\"AI: Byebye\")\n",
        "        break\n",
        "    output = None\n",
        "    for output in graph.stream(\n",
        "        {\"messages\": [HumanMessage(content=user)]}, config=config, stream_mode=\"updates\"\n",
        "    ):\n",
        "        last_message = next(iter(output.values()))[\"messages\"][-1]\n",
        "        last_message.pretty_print()\n",
        "\n",
        "    if output and \"prompt\" in output:\n",
        "        print(\"Done!\")"
      ],
      "metadata": {
        "colab": {
          "base_uri": "https://localhost:8080/"
        },
        "id": "OCaDYN4Puais",
        "outputId": "34be2be2-b6bd-474a-b636-56990d5f8276"
      },
      "execution_count": 11,
      "outputs": [
        {
          "output_type": "stream",
          "name": "stdout",
          "text": [
            "User (q/Q to quit): 시를 쓰는 프롬프트를 만들어줘\n",
            "==================================\u001b[1m Ai Message \u001b[0m==================================\n",
            "\n",
            "시를 쓰기 위한 프롬프트를 만들기 위해 몇 가지 정보를 더 필요로 합니다. 다음 질문에 답해 주실 수 있나요?\n",
            "\n",
            "1. 시의 목적은 무엇인가요? (예: 감정 표현, 특정 주제에 대한 탐구 등)\n",
            "2. 프롬프트 템플릿에 어떤 변수를 포함할 건가요? (예: 주제, 감정, 특정 단어 등)\n",
            "3. 출력에서 피해야 할 제약 조건이 있나요? (예: 특정 단어 사용 금지, 특정 형식 준수 등)\n",
            "4. 출력이 반드시 따라야 할 요구 사항이 있나요? (예: 특정 길이, 특정 스타일 등)\n",
            "\n",
            "이 정보를 제공해 주시면, 적절한 프롬프트를 만들어 드리겠습니다!\n",
            "User (q/Q to quit): 프롬프트의 목적은 사용자로부터 입력받은 감정에 알맞은 시를 작성하는거야. 변수는 감정이고, 나머지는 알아서 설정해줘.\n",
            "==================================\u001b[1m Ai Message \u001b[0m==================================\n",
            "\n",
            "감정에 알맞은 시를 작성하는 프롬프트를 만들기 위해 추가적인 정보를 요청드립니다.\n",
            "\n",
            "1. 출력에서 피해야 할 제약 조건이 있나요? (예: 특정 단어 사용 금지, 특정 형식 준수 등)\n",
            "2. 출력이 반드시 따라야 할 요구 사항이 있나요? (예: 특정 길이, 특정 스타일 등)\n",
            "\n",
            "이 두 가지 정보를 제공해 주시면, 프롬프트를 완성할 수 있습니다!\n",
            "User (q/Q to quit): 그냥 넘어가줘 알아서 해줘\n",
            "==================================\u001b[1m Ai Message \u001b[0m==================================\n",
            "Tool Calls:\n",
            "  PromptInstructions (call_kVeY2327yHuBALLpIM6iPFpR)\n",
            " Call ID: call_kVeY2327yHuBALLpIM6iPFpR\n",
            "  Args:\n",
            "    objective: 사용자에게 입력받은 감정에 알맞은 시를 작성한다.\n",
            "    variables: ['감정']\n",
            "    constraints: ['특정 단어 사용 금지', '부정적인 감정 표현 금지']\n",
            "    requirements: ['4행 이상의 시 형식', '감정에 대한 깊은 통찰 제공']\n",
            "{'objective': '사용자에게 입력받은 감정에 알맞은 시를 작성한다.', 'variables': ['감정'], 'constraints': ['특정 단어 사용 금지', '부정적인 감정 표현 금지'], 'requirements': ['4행 이상의 시 형식', '감정에 대한 깊은 통찰 제공']}\n",
            "==================================\u001b[1m Ai Message \u001b[0m==================================\n",
            "\n",
            "**Prompt Template:**\n",
            "\n",
            "\"사용자가 입력한 감정에 맞춰, 다음의 조건을 충족하는 시를 작성해 주세요. \n",
            "\n",
            "1. 감정: [사용자가 입력한 감정]\n",
            "2. 특정 단어 사용 금지: [사용자가 원하지 않는 특정 단어]\n",
            "3. 부정적인 감정 표현 금지\n",
            "4. 시 형식: 4행 이상의 형식으로 작성\n",
            "5. 감정에 대한 깊은 통찰 제공\n",
            "\n",
            "이러한 조건을 바탕으로, 감정의 본질을 탐구하고 긍정적인 시각을 담은 시를 만들어 주세요.\"\n",
            "Done!\n",
            "User (q/Q to quit): q\n",
            "AI: Byebye\n"
          ]
        }
      ]
    },
    {
      "cell_type": "code",
      "source": [],
      "metadata": {
        "id": "vLQWXw8awAr7"
      },
      "execution_count": null,
      "outputs": []
    }
  ]
}