{
  "nbformat": 4,
  "nbformat_minor": 0,
  "metadata": {
    "colab": {
      "provenance": [],
      "authorship_tag": "ABX9TyPcpJeFksw19FgeIoUtQBg1",
      "include_colab_link": true
    },
    "kernelspec": {
      "name": "python3",
      "display_name": "Python 3"
    },
    "language_info": {
      "name": "python"
    }
  },
  "cells": [
    {
      "cell_type": "markdown",
      "metadata": {
        "id": "view-in-github",
        "colab_type": "text"
      },
      "source": [
        "<a href=\"https://colab.research.google.com/github/indra622/tutorials/blob/master/Multi_AI_Agent_Study/Part3_Ch3_03_gen_report_docx_agent.ipynb\" target=\"_parent\"><img src=\"https://colab.research.google.com/assets/colab-badge.svg\" alt=\"Open In Colab\"/></a>"
      ]
    },
    {
      "cell_type": "code",
      "execution_count": 1,
      "metadata": {
        "colab": {
          "base_uri": "https://localhost:8080/"
        },
        "id": "My2EzncYtjrn",
        "outputId": "ea66f533-e7a3-453a-bb00-335bfbf47420"
      },
      "outputs": [
        {
          "output_type": "stream",
          "name": "stdout",
          "text": [
            "\u001b[?25l   \u001b[90m━━━━━━━━━━━━━━━━━━━━━━━━━━━━━━━━━━━━━━━━\u001b[0m \u001b[32m0.0/55.3 kB\u001b[0m \u001b[31m?\u001b[0m eta \u001b[36m-:--:--\u001b[0m\r\u001b[2K   \u001b[90m━━━━━━━━━━━━━━━━━━━━━━━━━━━━━━━━━━━━━━━━\u001b[0m \u001b[32m55.3/55.3 kB\u001b[0m \u001b[31m2.0 MB/s\u001b[0m eta \u001b[36m0:00:00\u001b[0m\n",
            "\u001b[2K   \u001b[90m━━━━━━━━━━━━━━━━━━━━━━━━━━━━━━━━━━━━━━━━\u001b[0m \u001b[32m130.9/130.9 kB\u001b[0m \u001b[31m5.3 MB/s\u001b[0m eta \u001b[36m0:00:00\u001b[0m\n",
            "\u001b[2K   \u001b[90m━━━━━━━━━━━━━━━━━━━━━━━━━━━━━━━━━━━━━━━━\u001b[0m \u001b[32m2.5/2.5 MB\u001b[0m \u001b[31m32.4 MB/s\u001b[0m eta \u001b[36m0:00:00\u001b[0m\n",
            "\u001b[2K   \u001b[90m━━━━━━━━━━━━━━━━━━━━━━━━━━━━━━━━━━━━━━━━\u001b[0m \u001b[32m209.2/209.2 kB\u001b[0m \u001b[31m15.8 MB/s\u001b[0m eta \u001b[36m0:00:00\u001b[0m\n",
            "\u001b[2K   \u001b[90m━━━━━━━━━━━━━━━━━━━━━━━━━━━━━━━━━━━━━━━━\u001b[0m \u001b[32m244.3/244.3 kB\u001b[0m \u001b[31m17.4 MB/s\u001b[0m eta \u001b[36m0:00:00\u001b[0m\n",
            "\u001b[2K   \u001b[90m━━━━━━━━━━━━━━━━━━━━━━━━━━━━━━━━━━━━━━━━\u001b[0m \u001b[32m45.4/45.4 kB\u001b[0m \u001b[31m3.5 MB/s\u001b[0m eta \u001b[36m0:00:00\u001b[0m\n",
            "\u001b[2K   \u001b[90m━━━━━━━━━━━━━━━━━━━━━━━━━━━━━━━━━━━━━━━━\u001b[0m \u001b[32m1.2/1.2 MB\u001b[0m \u001b[31m38.5 MB/s\u001b[0m eta \u001b[36m0:00:00\u001b[0m\n",
            "\u001b[2K   \u001b[90m━━━━━━━━━━━━━━━━━━━━━━━━━━━━━━━━━━━━━━━━\u001b[0m \u001b[32m50.9/50.9 kB\u001b[0m \u001b[31m4.1 MB/s\u001b[0m eta \u001b[36m0:00:00\u001b[0m\n",
            "\u001b[?25h"
          ]
        }
      ],
      "source": [
        "!pip install -q langchain langchain-openai langgraph python-dotenv langchain-community langchain-experimental python-docx"
      ]
    },
    {
      "cell_type": "code",
      "source": [
        "import warnings\n",
        "warnings.filterwarnings('ignore')\n",
        "\n",
        "from dotenv import load_dotenv\n",
        "load_dotenv()"
      ],
      "metadata": {
        "colab": {
          "base_uri": "https://localhost:8080/"
        },
        "id": "80QtZOrXt0nl",
        "outputId": "f0e37149-bc37-425c-b21b-b5798a10a86a"
      },
      "execution_count": 2,
      "outputs": [
        {
          "output_type": "execute_result",
          "data": {
            "text/plain": [
              "True"
            ]
          },
          "metadata": {},
          "execution_count": 2
        }
      ]
    },
    {
      "cell_type": "code",
      "source": [
        "from typing import Annotated, TypedDict, List, Dict, Sequence\n",
        "from langgraph.graph import StateGraph, START, END\n",
        "from langgraph.graph.message import add_messages\n",
        "from langchain_core.messages import BaseMessage\n",
        "\n",
        "# State definition\n",
        "class State(TypedDict):\n",
        "    messages: Annotated[Sequence[BaseMessage], add_messages]\n",
        "    outline: Dict[str, str]\n",
        "    current_section: int\n",
        "    section_content: str\n",
        "    section_image: str\n",
        "    image_prompt: str\n",
        "    total_sections: int\n",
        "    full_report: List[Dict[str, str]]\n",
        "\n",
        "# Graph builder initialization\n",
        "graph_builder = StateGraph(State)"
      ],
      "metadata": {
        "id": "1fvcPkVSuFBZ"
      },
      "execution_count": 3,
      "outputs": []
    },
    {
      "cell_type": "code",
      "source": [
        "from langchain_community.tools.tavily_search import TavilySearchResults\n",
        "\n",
        "search = TavilySearchResults(max_results=3)"
      ],
      "metadata": {
        "id": "q8Bip23au2p6"
      },
      "execution_count": 4,
      "outputs": []
    },
    {
      "cell_type": "code",
      "source": [
        "from pydantic import BaseModel, Field, create_model\n",
        "\n",
        "def create_outline_model(section_count: int):\n",
        "    fields = {f\"section{i}\":\n",
        "              (str, Field(description=f\"Title for section {i}\")) for i in range(1, section_count + 1)}\n",
        "    return create_model(\"DynamicOutline\", **fields)"
      ],
      "metadata": {
        "id": "epnxIdpDu6j7"
      },
      "execution_count": 5,
      "outputs": []
    },
    {
      "cell_type": "code",
      "source": [
        "fields = {f\"section{i}\":\n",
        "              (str, Field(description=f\"Title for section {i}\")) for i in range(1, 3 + 1)}\n",
        "\n",
        "DynamicOutline = create_model(\"DynamicOutline\", **fields)\n",
        "\n",
        "for key, value in DynamicOutline.model_fields.items():\n",
        "    print(f\"key:{key}\\n\")\n",
        "    print(f\"value:{value}\\n\")"
      ],
      "metadata": {
        "colab": {
          "base_uri": "https://localhost:8080/"
        },
        "id": "zik_fniHvRk_",
        "outputId": "11fbea94-9d75-43ff-f965-23aaa58bfefb"
      },
      "execution_count": 6,
      "outputs": [
        {
          "output_type": "stream",
          "name": "stdout",
          "text": [
            "key:section1\n",
            "\n",
            "value:annotation=str required=True description='Title for section 1'\n",
            "\n",
            "key:section2\n",
            "\n",
            "value:annotation=str required=True description='Title for section 2'\n",
            "\n",
            "key:section3\n",
            "\n",
            "value:annotation=str required=True description='Title for section 3'\n",
            "\n"
          ]
        }
      ]
    },
    {
      "cell_type": "code",
      "source": [
        "DynamicOutline = create_outline_model(5)\n",
        "for key, value in DynamicOutline.model_fields.items():\n",
        "    print(f\"key:{key}\\n\")\n",
        "    print(f\"value:{value}\\n\")"
      ],
      "metadata": {
        "colab": {
          "base_uri": "https://localhost:8080/"
        },
        "id": "8e9f9e3TvXPh",
        "outputId": "8b9b10c6-8628-4267-e299-eabb9c308d0c"
      },
      "execution_count": 7,
      "outputs": [
        {
          "output_type": "stream",
          "name": "stdout",
          "text": [
            "key:section1\n",
            "\n",
            "value:annotation=str required=True description='Title for section 1'\n",
            "\n",
            "key:section2\n",
            "\n",
            "value:annotation=str required=True description='Title for section 2'\n",
            "\n",
            "key:section3\n",
            "\n",
            "value:annotation=str required=True description='Title for section 3'\n",
            "\n",
            "key:section4\n",
            "\n",
            "value:annotation=str required=True description='Title for section 4'\n",
            "\n",
            "key:section5\n",
            "\n",
            "value:annotation=str required=True description='Title for section 5'\n",
            "\n"
          ]
        }
      ]
    },
    {
      "cell_type": "code",
      "source": [
        "from langchain_openai import ChatOpenAI\n",
        "\n",
        "llm = ChatOpenAI(model=\"gpt-4o-mini\")"
      ],
      "metadata": {
        "id": "kg1X9g9OwV76"
      },
      "execution_count": 8,
      "outputs": []
    },
    {
      "cell_type": "code",
      "source": [
        "#from langchain_core.messages import HumanMessage, AIMessage\n",
        "from langchain_core.output_parsers import JsonOutputParser\n",
        "from langchain_core.prompts import PromptTemplate\n",
        "\n",
        "def outline_generator(state: State):\n",
        "    DynamicOutline = create_outline_model(state[\"total_sections\"])\n",
        "    outline_parser = JsonOutputParser(pydantic_object=DynamicOutline)\n",
        "\n",
        "    outline_prompt = PromptTemplate(\n",
        "        template=\"\"\"\n",
        "        Create an outline for a detailed report with exactly {section_count} main sections.\n",
        "        {format_instructions}\n",
        "        The topic is: {topic}\n",
        "        \"\"\",\n",
        "        input_variables=[\"section_count\", \"topic\"],\n",
        "        partial_variables={\"format_instructions\": outline_parser.get_format_instructions()},\n",
        "    )\n",
        "\n",
        "    chain = outline_prompt | llm | outline_parser\n",
        "\n",
        "    outline = chain.invoke({\n",
        "        \"section_count\": state[\"total_sections\"],\n",
        "        \"topic\": state[\"messages\"][-1].content\n",
        "    })\n",
        "    return {\"outline\": outline}"
      ],
      "metadata": {
        "id": "meFXh0PnveCX"
      },
      "execution_count": 9,
      "outputs": []
    },
    {
      "cell_type": "code",
      "source": [
        "from openai import OpenAI\n",
        "from langchain_core.tools import tool\n",
        "from langchain_core.messages import HumanMessage, AIMessage\n",
        "\n",
        "client = OpenAI()\n",
        "\n",
        "def generate_image(prompt):\n",
        "    \"\"\"Generate an image using DALL-E based on the given prompt.\"\"\"\n",
        "    response = client.images.generate(\n",
        "        model=\"dall-e-3\",\n",
        "        prompt=prompt,\n",
        "        size=\"1024x1024\",\n",
        "        quality=\"standard\",\n",
        "        n=1\n",
        "    )\n",
        "    return response.data[0].url\n",
        "\n",
        "def image_generator(state: State):\n",
        "\n",
        "    prompt_template = PromptTemplate(\n",
        "        template=\"\"\"\n",
        "        Based on the following section content, create a prompt for generating an infographic that represents this section.\n",
        "\n",
        "        Section content:\n",
        "\n",
        "        {section_content}\n",
        "\n",
        "        Image generation prompt(under 500 characters):\"\"\",\n",
        "        input_variables=[\"section_content\"],\n",
        "    )\n",
        "\n",
        "    image_prompt = llm.invoke(prompt_template.format(section_content=state[\"section_content\"]))\n",
        "    image_url = generate_image(image_prompt.content)\n",
        "\n",
        "    current_section = {\n",
        "        \"title\": state['outline'][f\"section{state['current_section']}\"],\n",
        "        \"content\": state['section_content'],\n",
        "        \"image_url\": image_url,\n",
        "        \"image_prompt\": image_prompt.content if isinstance(image_prompt, AIMessage) else image_prompt\n",
        "    }\n",
        "\n",
        "    updated_full_report = state.get(\"full_report\", []) + [current_section]\n",
        "\n",
        "    print(f\"Completed section {state['current_section']} of {state['total_sections']}\")\n",
        "\n",
        "    return {\n",
        "        \"image_prompt\": image_prompt.content if isinstance(image_prompt, AIMessage) else image_prompt,\n",
        "        \"section_image\": image_url,\n",
        "        \"current_section\": state[\"current_section\"] + 1,\n",
        "        \"full_report\": updated_full_report\n",
        "    }\n"
      ],
      "metadata": {
        "id": "tC4l-ED_wev3"
      },
      "execution_count": 11,
      "outputs": []
    },
    {
      "cell_type": "code",
      "source": [
        "def contents_writer(state: State):\n",
        "    if \"error\" in state:\n",
        "        return {\"messages\": [AIMessage(content=f\"An error occurred: {state['error']}\")]}\n",
        "\n",
        "    if state[\"current_section\"] > state[\"total_sections\"]:\n",
        "        return {\"messages\": [AIMessage(content=\"Report completed.\")]}\n",
        "\n",
        "    current_section_key = f\"section{state['current_section']}\"\n",
        "    current_topic = state[\"outline\"][current_section_key]\n",
        "    search_results = search.invoke(current_topic)\n",
        "\n",
        "    previous_sections_content = []\n",
        "    for i in range(1, state['current_section']):\n",
        "        section_key = f\"section{i}\"\n",
        "        if section_key in state[\"section_content\"]:\n",
        "            previous_sections_content.append(f\"\"\"\n",
        "            Section {i}:\n",
        "            {state['outline'][section_key]}\n",
        "            {state['section_content'][section_key]}\n",
        "            \"\"\")\n",
        "\n",
        "    previous_sections = \"\\n\\n\".join(previous_sections_content)\n",
        "\n",
        "    section_prompt = PromptTemplate(\n",
        "        template=\"\"\"\n",
        "        Write a detailed section for the topic: {topic}.\n",
        "\n",
        "        Use the following search results for information: {search_results}\n",
        "\n",
        "        Previous sections:\n",
        "        {previous_sections}\n",
        "        Write only the content for this section,\n",
        "        do not include any image prompts or suggestions.\n",
        "        Detailed statistics or information is needed,\n",
        "        so you should include collected information from search result.\"\"\",\n",
        "        input_variables=[\"topic\", \"search_results\", \"previous_sections\"],\n",
        "    )\n",
        "    section_content = llm.invoke(section_prompt.format(\n",
        "        topic=current_topic,\n",
        "        search_results=search_results,\n",
        "        previous_sections=previous_sections\n",
        "    ))\n",
        "\n",
        "    return {\n",
        "        \"section_content\": section_content.content,\n",
        "        \"current_section\": state[\"current_section\"]\n",
        "    }\n"
      ],
      "metadata": {
        "id": "hhZ-KkKjwi76"
      },
      "execution_count": 12,
      "outputs": []
    },
    {
      "cell_type": "code",
      "source": [
        "from docx import Document\n",
        "from docx.shared import Inches\n",
        "import requests\n",
        "from io import BytesIO\n",
        "\n",
        "def report_generator(state: State):\n",
        "    doc = Document()\n",
        "    doc.add_heading(f\"Report: {state['messages'][0].content}\", 0)\n",
        "\n",
        "    for section in state['full_report']:\n",
        "        doc.add_heading(section['title'], level=1)\n",
        "        doc.add_paragraph(section['content'])\n",
        "\n",
        "        # 이미지 추가\n",
        "        if section['image_url'] != \"Image generation failed\":\n",
        "            try:\n",
        "                response = requests.get(section['image_url'])\n",
        "                image = BytesIO(response.content)\n",
        "                doc.add_picture(image, width=Inches(6))\n",
        "                doc.add_paragraph(f\"Image prompt: {section['image_prompt']}\")\n",
        "            except Exception as e:\n",
        "                doc.add_paragraph(f\"Failed to add image: {str(e)}\")\n",
        "\n",
        "        doc.add_page_break()\n",
        "\n",
        "    # 보고서 저장\n",
        "    filename = f\"report_{state['messages'][0].content}.docx\".replace(\" \", \"_\")\n",
        "    doc.save(filename)\n",
        "\n",
        "    return {\n",
        "        \"messages\": [AIMessage(content=f\"Report finalized and saved as {filename}.\")],\n",
        "        \"report_file\": filename\n",
        "    }\n"
      ],
      "metadata": {
        "id": "0HZ3maiZ1lo2"
      },
      "execution_count": 13,
      "outputs": []
    },
    {
      "cell_type": "code",
      "source": [
        "# Add nodes\n",
        "graph_builder.add_node(\"outline_generator\", outline_generator)\n",
        "graph_builder.add_node(\"contents_writer\", contents_writer)\n",
        "graph_builder.add_node(\"image_generator\", image_generator)\n",
        "graph_builder.add_node(\"report_generator\", report_generator)\n",
        "\n",
        "# Add edges\n",
        "graph_builder.add_edge(START, \"outline_generator\")\n",
        "graph_builder.add_edge(\"outline_generator\", \"contents_writer\")\n",
        "graph_builder.add_edge(\"contents_writer\", \"image_generator\")\n",
        "graph_builder.add_edge(\"report_generator\", END)\n",
        "# Add conditional edges\n",
        "def should_continue_writing(state: State):\n",
        "    if state[\"current_section\"] <= state[\"total_sections\"]:\n",
        "        return \"write_section\"\n",
        "    else:\n",
        "        return \"finalize_report\"\n",
        "\n",
        "graph_builder.add_conditional_edges(\n",
        "    \"image_generator\",\n",
        "    should_continue_writing,\n",
        "    {\n",
        "        \"write_section\": \"contents_writer\",\n",
        "        \"finalize_report\": \"report_generator\"\n",
        "    }\n",
        ")\n",
        "\n",
        "# Compile graph\n",
        "graph = graph_builder.compile()"
      ],
      "metadata": {
        "id": "243dYJG71p-a"
      },
      "execution_count": 14,
      "outputs": []
    },
    {
      "cell_type": "code",
      "source": [
        "from IPython.display import Image, display\n",
        "\n",
        "try:\n",
        "    display(Image(graph.get_graph().draw_mermaid_png()))\n",
        "except Exception:\n",
        "    # This requires some extra dependencies and is optional\n",
        "    pass"
      ],
      "metadata": {
        "colab": {
          "base_uri": "https://localhost:8080/",
          "height": 596
        },
        "id": "EvSKdbfp1rey",
        "outputId": "5587d667-b4c9-42ef-c48f-60373a54f6a4"
      },
      "execution_count": 15,
      "outputs": [
        {
          "output_type": "display_data",
          "data": {
            "image/png": "[encoded data removed]",
            "text/plain": [
              "<IPython.core.display.Image object>"
            ]
          },
          "metadata": {}
        }
      ]
    },
    {
      "cell_type": "code",
      "source": [
        "import os\n",
        "from langchain_core.messages import HumanMessage\n",
        "\n",
        "current_directory = os.getcwd()\n",
        "print(f\"현재 작업 디렉토리: {current_directory}\")\n",
        "\n",
        "\n",
        "\n",
        "# 사용자 입력 받기\n",
        "topic = input(\"보고서 주제를 입력하세요: \")\n",
        "total_sections = int(input(\"생성할 섹션의 수를 입력하세요: \"))\n",
        "\n",
        "# 초기 상태 설정\n",
        "initial_state = {\n",
        "    \"messages\": [HumanMessage(content=topic)],\n",
        "    \"total_sections\": total_sections,\n",
        "    \"current_section\": 1,\n",
        "}\n",
        "\n",
        "# 그래프 실행\n",
        "for chunk in graph.stream(initial_state,stream_mode=\"update\"):\n",
        "    print(chunk)\n",
        "\n",
        "print(\"\\n=== 보고서 생성 완료 ===\")"
      ],
      "metadata": {
        "colab": {
          "base_uri": "https://localhost:8080/"
        },
        "id": "nb2AvwHK1shy",
        "outputId": "d77d133b-7b6f-4698-c9fb-ba5d30c488b2"
      },
      "execution_count": 16,
      "outputs": [
        {
          "output_type": "stream",
          "name": "stdout",
          "text": [
            "현재 작업 디렉토리: /content\n",
            "보고서 주제를 입력하세요: 한국 출산율\n",
            "생성할 섹션의 수를 입력하세요: 3\n",
            "Completed section 1 of 3\n",
            "Completed section 2 of 3\n",
            "Completed section 3 of 3\n",
            "\n",
            "=== 보고서 생성 완료 ===\n"
          ]
        }
      ]
    },
    {
      "cell_type": "code",
      "source": [],
      "metadata": {
        "id": "J0Wf39oi12tz"
      },
      "execution_count": null,
      "outputs": []
    }
  ]
}