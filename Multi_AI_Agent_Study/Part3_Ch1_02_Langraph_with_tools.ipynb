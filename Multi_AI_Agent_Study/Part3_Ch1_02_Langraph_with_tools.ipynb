{
  "nbformat": 4,
  "nbformat_minor": 0,
  "metadata": {
    "colab": {
      "provenance": [],
      "authorship_tag": "ABX9TyNP2LdjYVcrDXXp2VNLGzSG",
      "include_colab_link": true
    },
    "kernelspec": {
      "name": "python3",
      "display_name": "Python 3"
    },
    "language_info": {
      "name": "python"
    }
  },
  "cells": [
    {
      "cell_type": "markdown",
      "metadata": {
        "id": "view-in-github",
        "colab_type": "text"
      },
      "source": [
        "<a href=\"https://colab.research.google.com/github/indra622/tutorials/blob/master/Multi_AI_Agent_Study/Part3_Ch1_02_Langraph_with_tools.ipynb\" target=\"_parent\"><img src=\"https://colab.research.google.com/assets/colab-badge.svg\" alt=\"Open In Colab\"/></a>"
      ]
    },
    {
      "cell_type": "code",
      "execution_count": 8,
      "metadata": {
        "colab": {
          "base_uri": "https://localhost:8080/"
        },
        "id": "djRdJsVzsp5L",
        "outputId": "05987fdb-c69c-4d2d-b084-fe9599d1b219"
      },
      "outputs": [
        {
          "output_type": "stream",
          "name": "stdout",
          "text": [
            "\u001b[?25l   \u001b[90m━━━━━━━━━━━━━━━━━━━━━━━━━━━━━━━━━━━━━━━━\u001b[0m \u001b[32m0.0/54.5 kB\u001b[0m \u001b[31m?\u001b[0m eta \u001b[36m-:--:--\u001b[0m\r\u001b[2K   \u001b[90m━━━━━━━━━━━━━━━━━━━━━━━━━━━━━━━━━━━━━━━━\u001b[0m \u001b[32m54.5/54.5 kB\u001b[0m \u001b[31m3.5 MB/s\u001b[0m eta \u001b[36m0:00:00\u001b[0m\n",
            "\u001b[?25h\u001b[?25l   \u001b[90m━━━━━━━━━━━━━━━━━━━━━━━━━━━━━━━━━━━━━━━━\u001b[0m \u001b[32m0.0/412.7 kB\u001b[0m \u001b[31m?\u001b[0m eta \u001b[36m-:--:--\u001b[0m\r\u001b[2K   \u001b[91m━━━━━━━━━━━━━━━━━━━━━━━━━━━━━━━━━━━━━━━\u001b[0m\u001b[91m╸\u001b[0m \u001b[32m409.6/412.7 kB\u001b[0m \u001b[31m18.6 MB/s\u001b[0m eta \u001b[36m0:00:01\u001b[0m\r\u001b[2K   \u001b[90m━━━━━━━━━━━━━━━━━━━━━━━━━━━━━━━━━━━━━━━━\u001b[0m \u001b[32m412.7/412.7 kB\u001b[0m \u001b[31m11.0 MB/s\u001b[0m eta \u001b[36m0:00:00\u001b[0m\n",
            "\u001b[?25h\u001b[?25l   \u001b[90m━━━━━━━━━━━━━━━━━━━━━━━━━━━━━━━━━━━━━━━━\u001b[0m \u001b[32m0.0/1.2 MB\u001b[0m \u001b[31m?\u001b[0m eta \u001b[36m-:--:--\u001b[0m\r\u001b[2K   \u001b[90m━━━━━━━━━━━━━━━━━━━━━━━━━━━━━━━━━━━━━━━━\u001b[0m \u001b[32m1.2/1.2 MB\u001b[0m \u001b[31m33.4 MB/s\u001b[0m eta \u001b[36m0:00:00\u001b[0m\n",
            "\u001b[?25h"
          ]
        }
      ],
      "source": [
        "!pip install -q langgraph langchain python-dotenv langchain-openai"
      ]
    },
    {
      "cell_type": "code",
      "source": [
        "import os\n",
        "from dotenv import load_dotenv\n",
        "\n",
        "load_dotenv()"
      ],
      "metadata": {
        "colab": {
          "base_uri": "https://localhost:8080/"
        },
        "id": "TG8PCZQ_v5T5",
        "outputId": "d80606a4-b391-4e39-9e51-e958e149269a"
      },
      "execution_count": 4,
      "outputs": [
        {
          "output_type": "execute_result",
          "data": {
            "text/plain": [
              "True"
            ]
          },
          "metadata": {},
          "execution_count": 4
        }
      ]
    },
    {
      "cell_type": "code",
      "source": [
        "from langchain_core.messages import AIMessage\n",
        "from langchain_core.tools import tool\n",
        "\n",
        "from langgraph.prebuilt import ToolNode"
      ],
      "metadata": {
        "id": "87Sjx-ynwAYT"
      },
      "execution_count": 5,
      "outputs": []
    },
    {
      "cell_type": "code",
      "source": [
        "@tool\n",
        "def get_weather(location: str):\n",
        "  \"\"\" Call to get the weather\"\"\"\n",
        "  if location in [\"서울\", \"인천\"]:\n",
        "    return \"It's 60 degress and foggy.\"\n",
        "  else:\n",
        "    return \"It's 90 degress and sunny.\"\n",
        "\n",
        "@tool\n",
        "def get_coolest_cities():\n",
        "  \"\"\"Get a list of coolest cities\"\"\"\n",
        "  return \"서울, 고성\"\n",
        "\n"
      ],
      "metadata": {
        "id": "Jk6gd3RWwPi2"
      },
      "execution_count": 6,
      "outputs": []
    },
    {
      "cell_type": "code",
      "source": [
        "tools = [get_weather, get_coolest_cities]\n",
        "tool_node = ToolNode(tools)"
      ],
      "metadata": {
        "id": "sRR0cSq5w3BG"
      },
      "execution_count": 7,
      "outputs": []
    },
    {
      "cell_type": "code",
      "source": [
        "from langchain_openai import ChatOpenAI\n",
        "\n",
        "model_with_tools = ChatOpenAI(\n",
        "    model = 'gpt-4o-mini', temperature = 0\n",
        ").bind_tools(tools)"
      ],
      "metadata": {
        "id": "luzCQ3eiw6fy"
      },
      "execution_count": 10,
      "outputs": []
    },
    {
      "cell_type": "code",
      "source": [
        "model_with_tools.invoke(\"서울의 날씨는 어때?\").tool_calls"
      ],
      "metadata": {
        "colab": {
          "base_uri": "https://localhost:8080/"
        },
        "id": "FyCIPW6PxJRO",
        "outputId": "b80c37ea-558e-452e-fc84-625f9ec445b2"
      },
      "execution_count": 11,
      "outputs": [
        {
          "output_type": "execute_result",
          "data": {
            "text/plain": [
              "[{'name': 'get_weather',\n",
              "  'args': {'location': '서울'},\n",
              "  'id': 'call_BOKlshts00kBU8qko5q3KtUH',\n",
              "  'type': 'tool_call'}]"
            ]
          },
          "metadata": {},
          "execution_count": 11
        }
      ]
    },
    {
      "cell_type": "code",
      "source": [
        "model_with_tools.invoke(\"한국에서 가장 추운 도시는?\").tool_calls"
      ],
      "metadata": {
        "colab": {
          "base_uri": "https://localhost:8080/"
        },
        "id": "6HbCWW7dxQRL",
        "outputId": "8916f8b2-d734-4374-d0b5-aef22cfdc85f"
      },
      "execution_count": 12,
      "outputs": [
        {
          "output_type": "execute_result",
          "data": {
            "text/plain": [
              "[{'name': 'get_coolest_cities',\n",
              "  'args': {},\n",
              "  'id': 'call_UFnHFWQ3HkclKQk8jCju24GV',\n",
              "  'type': 'tool_call'}]"
            ]
          },
          "metadata": {},
          "execution_count": 12
        }
      ]
    },
    {
      "cell_type": "code",
      "source": [
        "tool_node.invoke({\"messages\": [model_with_tools.invoke(\"서울 날씨는 어때?\")]})"
      ],
      "metadata": {
        "colab": {
          "base_uri": "https://localhost:8080/"
        },
        "id": "No6IIIPFxX8S",
        "outputId": "c4a5fc93-0759-4888-a73b-9196a757c4d9"
      },
      "execution_count": 13,
      "outputs": [
        {
          "output_type": "execute_result",
          "data": {
            "text/plain": [
              "{'messages': [ToolMessage(content=\"It's 60 degress and foggy.\", name='get_weather', tool_call_id='call_7rvZGXkOxbwO5Gl2JrTRxVjE')]}"
            ]
          },
          "metadata": {},
          "execution_count": 13
        }
      ]
    },
    {
      "cell_type": "code",
      "source": [
        "from typing import Annotated, Literal, TypedDict\n",
        "from langchain_core.messages import HumanMessage\n",
        "from langchain_core.tools import tool\n",
        "from langgraph.graph import END, START, StateGraph, MessagesState\n",
        "\n",
        "def should_continue(state: MessagesState) -> Literal[\"tools\", END]:\n",
        "  messages = state['messages']\n",
        "  last_message = messages[-1]\n",
        "  if last_message.tool_calls:\n",
        "    return \"tools\"\n",
        "  return END\n",
        "\n",
        "def call_model(state: MessagesState):\n",
        "  messages = state['messages']\n",
        "  response = model_with_tools.invoke(messages)\n",
        "  return {\"messages\": [response]}\n",
        "\n",
        "\n",
        "workflow = StateGraph(MessagesState)\n",
        "\n",
        "workflow.add_node('agent', call_model)\n",
        "workflow.add_node('tools', tool_node)\n",
        "\n",
        "workflow.add_edge(START, 'agent')\n",
        "\n",
        "workflow.add_conditional_edges(\n",
        "    'agent',\n",
        "    should_continue,\n",
        ")\n",
        "\n",
        "workflow.add_edge(\"tools\", 'agent')\n",
        "\n",
        "app=workflow.compile()"
      ],
      "metadata": {
        "id": "-yr7gkWkxh1l"
      },
      "execution_count": 17,
      "outputs": []
    },
    {
      "cell_type": "code",
      "source": [
        "from IPython.display import display, Image\n",
        "\n",
        "display(Image(app.get_graph().draw_mermaid_png()))"
      ],
      "metadata": {
        "colab": {
          "base_uri": "https://localhost:8080/",
          "height": 266
        },
        "id": "j0Uah_B3ywGa",
        "outputId": "4c7e0dcf-6ad1-426c-e982-857af872323e"
      },
      "execution_count": 21,
      "outputs": [
        {
          "output_type": "display_data",
          "data": {
            "image/png": "[encoded data removed]",
            "text/plain": [
              "<IPython.core.display.Image object>"
            ]
          },
          "metadata": {}
        }
      ]
    },
    {
      "cell_type": "code",
      "source": [
        "final_state = app.invoke(\n",
        "    {\"messages\": [HumanMessage(content=\"서울의 날씨는 어때?\")]}\n",
        ")\n",
        "final_state[\"messages\"][-1].content"
      ],
      "metadata": {
        "colab": {
          "base_uri": "https://localhost:8080/",
          "height": 35
        },
        "id": "uBv6vwtqzJKS",
        "outputId": "c80fa745-a181-4cf5-f7b8-72cf62a1960d"
      },
      "execution_count": 22,
      "outputs": [
        {
          "output_type": "execute_result",
          "data": {
            "text/plain": [
              "'서울의 날씨는 60도(약 15도)이며 안개가 낀 상태입니다.'"
            ],
            "application/vnd.google.colaboratory.intrinsic+json": {
              "type": "string"
            }
          },
          "metadata": {},
          "execution_count": 22
        }
      ]
    },
    {
      "cell_type": "code",
      "source": [
        "for chunk in app.stream(\n",
        "    {\"messages\": [(\"human\", \"가장 추운 도시의 날씨는 어때?\")]},\n",
        "    stream_mode=\"values\",\n",
        "):\n",
        "  chunk[\"messages\"][-1].pretty_print()"
      ],
      "metadata": {
        "colab": {
          "base_uri": "https://localhost:8080/"
        },
        "id": "YQs1RXnCzkfR",
        "outputId": "ac6f3146-6e6a-485a-d985-486184ca9d99"
      },
      "execution_count": 23,
      "outputs": [
        {
          "output_type": "stream",
          "name": "stdout",
          "text": [
            "================================\u001b[1m Human Message \u001b[0m=================================\n",
            "\n",
            "가장 추운 도시의 날씨는 어때?\n",
            "==================================\u001b[1m Ai Message \u001b[0m==================================\n",
            "Tool Calls:\n",
            "  get_coolest_cities (call_WPuRTBVdtOHzKfrnK8qsMi4F)\n",
            " Call ID: call_WPuRTBVdtOHzKfrnK8qsMi4F\n",
            "  Args:\n",
            "=================================\u001b[1m Tool Message \u001b[0m=================================\n",
            "Name: get_coolest_cities\n",
            "\n",
            "서울, 고성\n",
            "==================================\u001b[1m Ai Message \u001b[0m==================================\n",
            "Tool Calls:\n",
            "  get_weather (call_IsCE0DMBvPjeYdfFIAYcNZrk)\n",
            " Call ID: call_IsCE0DMBvPjeYdfFIAYcNZrk\n",
            "  Args:\n",
            "    location: 서울\n",
            "  get_weather (call_FA82GeV78QuRrOJpjBdCjdU7)\n",
            " Call ID: call_FA82GeV78QuRrOJpjBdCjdU7\n",
            "  Args:\n",
            "    location: 고성\n",
            "=================================\u001b[1m Tool Message \u001b[0m=================================\n",
            "Name: get_weather\n",
            "\n",
            "It's 90 degress and sunny.\n",
            "==================================\u001b[1m Ai Message \u001b[0m==================================\n",
            "\n",
            "가장 추운 도시인 서울의 날씨는 60도이며 안개가 낀 상태입니다. 반면, 고성의 날씨는 90도이며 맑은 날씨입니다.\n"
          ]
        }
      ]
    },
    {
      "cell_type": "code",
      "source": [],
      "metadata": {
        "id": "vnuEd886zxaQ"
      },
      "execution_count": null,
      "outputs": []
    }
  ]
}