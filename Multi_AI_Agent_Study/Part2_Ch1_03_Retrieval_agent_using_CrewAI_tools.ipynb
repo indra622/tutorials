{
  "nbformat": 4,
  "nbformat_minor": 0,
  "metadata": {
    "colab": {
      "provenance": [],
      "authorship_tag": "ABX9TyPYWJlIJ3LX22F3+cU10kip",
      "include_colab_link": true
    },
    "kernelspec": {
      "name": "python3",
      "display_name": "Python 3"
    },
    "language_info": {
      "name": "python"
    }
  },
  "cells": [
    {
      "cell_type": "markdown",
      "metadata": {
        "id": "view-in-github",
        "colab_type": "text"
      },
      "source": [
        "<a href=\"https://colab.research.google.com/github/indra622/tutorials/blob/master/Multi_AI_Agent_Study/Part2_Ch1_03_Retrieval_agent_using_CrewAI_tools.ipynb\" target=\"_parent\"><img src=\"https://colab.research.google.com/assets/colab-badge.svg\" alt=\"Open In Colab\"/></a>"
      ]
    },
    {
      "cell_type": "code",
      "source": [
        "!pip install -q crewai crewai-tools"
      ],
      "metadata": {
        "id": "U46oB0dgnNO4"
      },
      "execution_count": 1,
      "outputs": []
    },
    {
      "cell_type": "code",
      "execution_count": 3,
      "metadata": {
        "id": "11D69w-TdUhn"
      },
      "outputs": [],
      "source": [
        "import os\n",
        "import warnings\n",
        "warnings.filterwarnings('ignore')\n",
        "from dotenv import load_dotenv\n",
        "load_dotenv()\n",
        "\n",
        "os.environ[\"OPENAI_API_KEY\"] = os.getenv(\"OPENAI_API_KEY\")\n",
        "os.environ[\"SERPER_API_KEY\"] = os.getenv(\"SERPER_API_KEY\")"
      ]
    },
    {
      "cell_type": "code",
      "source": [
        "from crewai import Agent, Task, Crew\n",
        "from crewai.process import Process\n",
        "\n",
        "from crewai_tools import (\n",
        "    SerperDevTool,\n",
        "    WebsiteSearchTool,\n",
        "    ScrapeWebsiteTool\n",
        ")"
      ],
      "metadata": {
        "id": "FdCf9RcNnHc9"
      },
      "execution_count": 4,
      "outputs": []
    },
    {
      "cell_type": "code",
      "source": [
        "from langchain_openai import ChatOpenAI\n",
        "\n",
        "llm = ChatOpenAI(model = 'gpt-4o-mini')\n",
        "\n",
        "search_tool = SerperDevTool()\n",
        "web_rag_tool = WebsiteSearchTool()\n",
        "scrap_tool = ScrapeWebsiteTool()\n",
        "\n",
        "researcher = Agent(\n",
        "    role = '테크 트렌드 연구원',\n",
        "    goal = '인공지능 분야의 최신 기술 트렌드를 한국어로 제공합니다. 지금은 2025년 1월입니다.',\n",
        "    backstory = '기술 트렌드에 예리한 안목을 지닌 전문 분석가이자 AI 개발자입니다.',\n",
        "    tools = [search_tool, web_rag_tool],\n",
        "    verbose=True,\n",
        "    max_iters=5,\n",
        "    llm = llm\n",
        ")\n",
        "\n",
        "writer = Agent(\n",
        "    role='뉴스레터 작성자',\n",
        "    goal = '최신 AI 기술 트렌드에 대한 매력적인 테크 뉴스레터를 한국어로 작성하세요. 지금은 2025년 1월입니다.',\n",
        "    backstory = '기술에 대한 열정을 가진 숙련된 작가입니다.',\n",
        "    verbose=True,\n",
        "    allow_delegation=False,\n",
        "    llm = llm\n",
        ")\n",
        "\n",
        "research = Task(\n",
        "    description='AI 업계의 최신 기술 동향을 조사하고 요약을 제공하세요.',\n",
        "    expected_output='AI 업계에서 가장 주목받는 3대 기술 개발 동향과 그 중요성에 대한 신선한 관점을 요약한 글',\n",
        "    agent=researcher\n",
        ")\n",
        "\n",
        "write = Task(\n",
        "    description=\"\"\"테크 트렌드 연구원의 요약을 바탕으로 AI 산업에 대한 매력적인 테크 뉴스레터를 작성하세요. 테크 뉴스레터이므로 전문적인 용어를 사용해도 괜찮습니다. \"\"\",\n",
        "    expected_output=\"최신 기술 관련 소식을 재밌는 말투로 소개하는 4문단짜리 마크다운 형식 뉴스레터\",\n",
        "    agent=writer,\n",
        "    output_file='new_post.md'\n",
        ")\n",
        "\n",
        "crew = Crew(\n",
        "    agents=[researcher, writer],\n",
        "    tasks=[research, write],\n",
        "    verbose=True,\n",
        "    process=Process.sequential\n",
        ")\n",
        "\n",
        "result = crew.kickoff()"
      ],
      "metadata": {
        "colab": {
          "base_uri": "https://localhost:8080/"
        },
        "id": "BtSu4b8Dn7aj",
        "outputId": "ba07388d-8390-432e-cf53-f236a7a21428"
      },
      "execution_count": 7,
      "outputs": [
        {
          "output_type": "stream",
          "name": "stdout",
          "text": [
            "LLM value is an unknown object\n",
            "LLM value is an unknown object\n",
            "\u001b[1m\u001b[95m# Agent:\u001b[00m \u001b[1m\u001b[92m테크 트렌드 연구원\u001b[00m\n",
            "\u001b[95m## Task:\u001b[00m \u001b[92mAI 업계의 최신 기술 동향을 조사하고 요약으 제공하세요.\u001b[00m\n",
            "\n",
            "\n",
            "\u001b[1m\u001b[95m# Agent:\u001b[00m \u001b[1m\u001b[92m테크 트렌드 연구원\u001b[00m\n",
            "\u001b[95m## Using tool:\u001b[00m \u001b[92mSearch the internet with Serper\u001b[00m\n",
            "\u001b[95m## Tool Input:\u001b[00m \u001b[92m\n",
            "\"{\\\"search_query\\\": \\\"2025 AI technology trends\\\"}\"\u001b[00m\n",
            "\u001b[95m## Tool Output:\u001b[00m \u001b[92m\n",
            "{'searchParameters': {'q': '2025 AI technology trends', 'type': 'search', 'num': 10, 'engine': 'google'}, 'organic': [{'title': 'Five AI Trends To Expect In 2025: Beyond ChatGPT And Friends', 'link': 'https://www.forbes.com/sites/nishatalagala/2024/12/30/five-ai-trends-to-expect-in-2025-beyond-chatgpt-and-friends/', 'snippet': 'AI Trend 1: Agents Everywhere · AI Trend 2: Transformation Of The Education System · AI Trend 3: AI In Science · AI Trend 4: Running Out Of (Easy) ...', 'position': 1}, {'title': \"6 AI trends you'll see more of in 2025 - Microsoft News\", 'link': 'https://news.microsoft.com/source/features/ai/6-ai-trends-youll-see-more-of-in-2025/', 'snippet': 'In 2025, AI will evolve from a tool for work and home to an integral part of both. AI-powered agents will do more with greater autonomy and help simplify your ...', 'position': 2}, {'title': 'Five Trends in AI and Data Science for 2025', 'link': 'https://sloanreview.mit.edu/article/five-trends-in-ai-and-data-science-for-2025/', 'snippet': 'AI experts Thomas H. Davenport and Randy Bean explain the top AI trends leaders should watch in the new year.', 'position': 3}, {'title': \"5 predictions for emerging '25 technology trends | CIO\", 'link': 'https://www.cio.com/article/3801804/5-predictions-for-emerging-25-technology-trends.html', 'snippet': 'AI and data innovations are set to transform and define business success, setting the stage for a pivotal year ahead.', 'position': 4}, {'title': '5 AI Trends That Will Dominate 2025, From Apple to Agents and ...', 'link': 'https://www.adweek.com/media/5-ai-trends-2025/', 'snippet': 'In 2025, generative artificial intelligence will shift from a behind-the-scenes tool to a central driver of innovation in marketing.', 'position': 5}, {'title': \"What are 2025's emerging technology trends? - Lorien\", 'link': 'https://www.lorienglobal.com/insights/2025-emerging-tech-trends', 'snippet': 'There are a few subsections of AI which are emerging as trends in 2025. The first of those is agentic AI, which is expected to revolutionise ...', 'position': 6}, {'title': 'Tech Trends 2025 | Deloitte Insights', 'link': 'https://www2.deloitte.com/us/en/insights/focus/tech-trends.html', 'snippet': 'TECH TRENDS 2025. Introduction. Tech Trends 2025 reveals the extent to which AI is being woven into the fabric of our lives.', 'position': 7, 'sitelinks': [{'title': 'Continue The Conversation', 'link': 'https://www2.deloitte.com/us/en/insights/focus/tech-trends.html#:~:text=Continue%20the%20conversation'}, {'title': 'Meet The Industry Leaders', 'link': 'https://www2.deloitte.com/us/en/insights/focus/tech-trends.html#:~:text=Meet%20the%20industry%20leaders'}, {'title': 'Stanley Porter', 'link': 'https://www2.deloitte.com/us/en/insights/focus/tech-trends.html#:~:text=Stanley%20Porter'}]}, {'title': 'Google Cloud predicts AI trends for businesses in 2025 - The Keyword', 'link': 'https://blog.google/products/google-cloud/ai-trends-business-2025/', 'snippet': '5 ways AI will shape businesses in 2025 · 1. Multimodal AI will deliver more context · 2. AI agents will simplify complex tasks · 3. Enterprise ...', 'position': 8}, {'title': '20/25 Vision: A Clear Look at the Technology Trends that will Define ...', 'link': 'https://blogs.cisco.com/news/20-25-vision-a-clear-look-at-the-technology-trends-that-will-define-2025', 'snippet': \"In 2025, AI won't just be a tool; it will be a collaborator. Many AI-powered tools in use today are based on static rules or datasets. Agentic ...\", 'position': 9, 'sitelinks': [{'title': '20/25 Vision: A Clear Look...', 'link': 'https://blogs.cisco.com/news/20-25-vision-a-clear-look-at-the-technology-trends-that-will-define-2025#:~:text=20%2F25%20Vision%3A%20A%20Clear%20Look%20at%20the%20Technology%20Trends%20that%20will%20Define%202025,-6%20min%20read'}, {'title': '1. Agentic Ai Will Take...', 'link': 'https://blogs.cisco.com/news/20-25-vision-a-clear-look-at-the-technology-trends-that-will-define-2025#:~:text=1.%20Agentic%20AI%20will%20take%20center%20stage%2C%20delivering%20on%20AI%27s%20long%2Dpromised%20vision%20of%20personalization%20and%20efficiency.'}, {'title': '3. Ai Will Surface Tough...', 'link': 'https://blogs.cisco.com/news/20-25-vision-a-clear-look-at-the-technology-trends-that-will-define-2025#:~:text=3.%20AI%20will%20surface%20tough%20reality%20checks%20for%20companies%20as%20they%20face%20the%20challenges%20of%20AI%20implementation%20%2D%2D%20especially%20around%20infrastructure%20and%20data%20readiness.'}]}], 'peopleAlsoAsk': [{'question': 'What is the AI trend in 2025?', 'snippet': 'Organizations will increasingly deploy AI agents that can coordinate multiple tasks, manage resources, and even collaborate with other AI systems, creating a new paradigm in human-AI interaction and enterprise automation. The future is all about building robust agentic applications.', 'title': '7 AI Trends & Predictions for 2025 Everyone Should Know! - LinkedIn', 'link': 'https://www.linkedin.com/pulse/7-ai-trends-predictions-2025-everyone-should-know-pavan-belagatti-ikfnc'}, {'question': 'What new technology is coming out in 2025?', 'snippet': 'Augmented Reality (AR)\\\\n\\\\n In 2025, Augmented Reality (AR) is poised to be a major tech trend, further integrating into consumer and enterprise applications. With the evolution of hardware, such as advanced AR glasses and improvements in mobile devices, AR will offer more immersive, interactive experiences.', 'title': '25 New Technology Trends for 2025 - Simplilearn.com', 'link': 'https://www.simplilearn.com/top-technology-trends-and-jobs-article'}, {'question': 'How will AI impact in next 5 years?', 'snippet': 'Impact of AI\\\\n\\\\n As the future of AI replaces tedious or dangerous tasks, the human workforce is liberated to focus on tasks for which they are more equipped, such as those requiring creativity and empathy. People employed in more rewarding jobs may be happier and more satisfied.', 'title': 'Future of AI: Trends, Impacts, and Predictions - Simplilearn.com', 'link': 'https://www.simplilearn.com/future-of-artificial-intelligence-article'}, {'question': 'What are the future trends of artificial intelligence?', 'snippet': 'Automated AI Development\\\\n\\\\n At a certain level, AI can develop its algorithms to solve problems, increase efficiency, and provide humans with useful research data. Using automated AI will allow even non-experts to use AI algorithms and techniques.', 'title': 'Latest Trends in Artificial Intelligence | element14 India', 'link': 'https://in.element14.com/latest-trends-in-artificial-intelligence'}], 'relatedSearches': [{'query': '2025 ai technology trends companies'}, {'query': '2025 ai technology trends pdf'}], 'credits': 1}\u001b[00m\n"
          ]
        },
        {
          "output_type": "stream",
          "name": "stderr",
          "text": [
            "Inserting batches in chromadb: 100%|██████████| 1/1 [00:00<00:00,  1.30it/s]\n",
            "WARNING:chromadb.segment.impl.vector.local_persistent_hnsw:Number of requested results 3 is greater than number of elements in index 2, updating n_results = 2\n"
          ]
        },
        {
          "output_type": "stream",
          "name": "stdout",
          "text": [
            "\n",
            "\n",
            "\u001b[1m\u001b[95m# Agent:\u001b[00m \u001b[1m\u001b[92m테크 트렌드 연구원\u001b[00m\n",
            "\u001b[95m## Using tool:\u001b[00m \u001b[92mSearch in a specific website\u001b[00m\n",
            "\u001b[95m## Tool Input:\u001b[00m \u001b[92m\n",
            "\"{\\\"search_query\\\": \\\"2025 AI trends\\\", \\\"website\\\": \\\"https://www.forbes.com\\\"}\"\u001b[00m\n",
            "\u001b[95m## Tool Output:\u001b[00m \u001b[92m\n",
            "Relevant Content:\n",
            "Billion On AI This Year, Zuckerberg Says—After Trump Announces Stargate Deal With OpenAI+1 day agoNBA, NFL Subreddits Among Largest To Ban X Links After Elon Musk’s Controversial SaluteShow MoreU.S. EditionU.S.AsiaEuropeWhy Older Homes Burn So Fast—And The Cost Of Building Ones That Don’tByRichard OlsenForbes StaffFor more than a century, American homeowners could have built fire-resistant homes. For many reasons, they didn’t. Now the market might start offering them no other choice.With NIH In Chaos, Scientists Fear Trump Will Hamstring Critical Medical ResearchThe Trump Administration’s abrupt cancellation of National Institutes of Health meetings and grant reviews has sparked concerns that medical breakthroughs will be stalled and DEI initiatives shut down.QUOTE OF THE DAY“Nothing is more difficult, and therefore more precious, than to be able to decide.”Napoleon BonaparteSHARE THISTrendingEditors’ PicksPremiumFeatured2025 Best In State Wealth Management Teams ListAmerican Express FORBES INSIGHTS | Paid Program5 Findings That Could Reveal Your Company’s Path To Payment InnovationC-Suite Data Reveals AI’s Nuanced Impact & A Quest To Quantify ItMoneyForbes VettedVideoWATCHOpenAI’s New AI Assistant Is Capable Of Ordering Groceries, Making ReservationsMORE TO WATCHWATCHInside The 2025 VW Tiguan: A New Era Of Luxury And Tech For VolkswagenWATCHThis Mijenta Tequila Ambassador Shares Her Recipe For SuccessWATCHHow Tales Of The Cocktail Changed This Bartender's Career For The BetterSee AllLifestyleLeadershipInnovationBusinessSmall BusinessBillionairesAdvisorHome Improvement\n",
            "\n",
            "ForbesBREAKING4 hours agoTulsi Gabbard Confirmation: Lindsey Graham Hesitant About Trump’s Pick For Spy Chief7 hours agoEverything To Know About Trump’s ‘Mass Deportation’ Plans: ICE Planning Over 1,200 Daily Arrests, Report Says7 hours agoTrump Hits Colombia With Tariffs For Rejecting Deportation Flights—In First Clash Over Crackdown8 hours agoCalifornia Wildfire Updates: Fires Near Full Containment—As Officials Warn Of Flooding, Mudslides11 hours agoTrump Says He’s Spoken To ‘Many People’ About TikTok Sale—But Not Oracle12 hours agoThese Billionaires, Companies And Investors Could Buy TikTok—As Oracle Reportedly Weighs Deal With Trump+1 day agoElon Musk Addresses Germany’s Far-Right AfD Party In Surprise Rally Appearance—Amid ‘Nazi Salute’ Controversy+1 day agoTrump Accused Of ‘Dismantling Checks On His Power’ After Firing Inspectors General—Here’s What To Know+1 day agoPete Hegseth Sworn In As Defense Secretary After JD Vance Cast Tie-Breaking Vote—Here’s What To Know+1 day agoNorthern Lights Forecast: Geomagnetic Storm Could Bring Aurora Borealis To These States Tonight+1 day agoFlood Watch Issued For Fire-Stricken Los Angeles Areas—Here’s Why Rain Might Be An Issue+1 day agoMexico Denied A U.S. Deportation Flight As Deportees Are Flown Out Of Country By The Hundreds, Report Says+1 day agoTrump’s State Department Pauses Foreign Aid — Impact On Ukraine Unclear+1 day agoDEI Under Fire: Target Rolls Back Diversity Plans As Costco Keeps Them—Here’s The List Of Major Companies Dropping DEI+1 day agoTarget Drops Diversity Initiatives—After It Previously Caved To Pressure From Pride Month Collection+1 day agoFauci Loses His Security Detail—Here’s Who Else Trump Has Pulled Protection For+1 day agoTrump Suggests Abolishing FEMA In Latest Call To Overhaul Agency+1 day agoU.S. House Oversight Committee Launches Probe Into Debanking Allegations In Tech And Crypto+1 day agoNo, Trump Won’t Likely Get To Run For A Third Term: Here’s Why+1 day agoMeta Will Spend Record $60\u001b[00m\n",
            "\n",
            "\n",
            "\u001b[1m\u001b[95m# Agent:\u001b[00m \u001b[1m\u001b[92m테크 트렌드 연구원\u001b[00m\n",
            "\u001b[95m## Using tool:\u001b[00m \u001b[92mSearch the internet with Serper\u001b[00m\n",
            "\u001b[95m## Tool Input:\u001b[00m \u001b[92m\n",
            "\"{\\\"search_query\\\": \\\"AI trends 2025 summary\\\"}\"\u001b[00m\n",
            "\u001b[95m## Tool Output:\u001b[00m \u001b[92m\n",
            "{'searchParameters': {'q': 'AI trends 2025 summary', 'type': 'search', 'num': 10, 'engine': 'google'}, 'organic': [{'title': 'Five Trends in AI and Data Science for 2025', 'link': 'https://sloanreview.mit.edu/article/five-trends-in-ai-and-data-science-for-2025/', 'snippet': 'AI experts Thomas H. Davenport and Randy Bean explain the top AI trends leaders should watch in the new year.', 'position': 1}, {'title': 'Five AI Trends To Expect In 2025: Beyond ChatGPT And Friends', 'link': 'https://www.forbes.com/sites/nishatalagala/2024/12/30/five-ai-trends-to-expect-in-2025-beyond-chatgpt-and-friends/', 'snippet': 'Five AI Trends To Expect In 2025: Beyond ChatGPT And Friends · AI Trend 1: Agents Everywhere · AI Trend 2: Transformation Of The Education System.', 'position': 2}, {'title': \"What's next for AI in 2025 | MIT Technology Review\", 'link': 'https://www.technologyreview.com/2025/01/08/1109188/whats-next-for-ai-in-2025/', 'snippet': 'You already know that agents and small language models are the next big things. Here are five other hot trends you should watch out for this ...', 'position': 3}, {'title': \"6 AI trends you'll see more of in 2025 - Microsoft News\", 'link': 'https://news.microsoft.com/source/features/ai/6-ai-trends-youll-see-more-of-in-2025/', 'snippet': 'In 2025, AI will evolve from a tool for work and home to an integral part of both. AI-powered agents will do more with greater autonomy and help simplify your ...', 'position': 4}, {'title': \"We asked OpenAI's o1 about the top AI trends in 2025 - VentureBeat\", 'link': 'https://venturebeat.com/ai/we-asked-openais-o1-about-the-top-ai-trends-in-2025-heres-a-look-into-our-conversation/', 'snippet': 'AI is already reshaping industries and society on a global scale. IDC predicts that AI will contribute $19.9 trillion to the global economy by ...', 'position': 5}, {'title': '5 AI Trends That Will Dominate 2025, From Apple to Agents and ...', 'link': 'https://www.adweek.com/media/5-ai-trends-2025/', 'snippet': 'In 2025, generative artificial intelligence will shift from a behind-the-scenes tool to a central driver of innovation in marketing.', 'position': 6}, {'title': 'AI Marketing Trends in 2025 - Smart Insights', 'link': 'https://www.smartinsights.com/digital-marketing-strategy/ai-marketing-trends-2025/', 'snippet': \"10 Actionable Digital Marketing Trends for 2025. Dr Dave Chaffey's practical review of the marketing trends that will matter for B2C and B2B ...\", 'position': 7}, {'title': \"AI's impact on industries in 2025 | Google Cloud Blog\", 'link': 'https://cloud.google.com/transform/ai-impact-industries-2025', 'snippet': 'Generative AI has gone from a futuristic idea to a key business strategy, changing industries with practical uses while boosting efficiency and customer ...', 'position': 8, 'sitelinks': [{'title': 'Generative Ai Has Gone From...', 'link': 'https://cloud.google.com/transform/ai-impact-industries-2025#:~:text=Generative%20AI%20has%20gone%20from%20a%20futuristic%20idea%20to%20a%20key%20business%20strategy%2C%20changing%20industries%20with%20practical%20uses%20while%20boosting%20efficiency%20and%20customer%20engagement.'}, {'title': 'Financial Services', 'link': 'https://cloud.google.com/transform/ai-impact-industries-2025#:~:text=Financial%20services,-As%20a%20historically%20data%2D'}, {'title': 'Healthcare', 'link': 'https://cloud.google.com/transform/ai-impact-industries-2025#:~:text=Healthcare,-Faced%20with%20an%20increasingly%20challenging'}]}, {'title': 'Top AI CX Trends for 2025: How AI is Transforming CX - NICE', 'link': 'https://www.nice.com/info/top-ai-cx-trends-for-2025-how-artificial-intelligence-is-transforming-customer-experience', 'snippet': 'In 2025, hyper-personalization, emotional intelligence, and omnichannel AI integration will enable companies to deliver smarter, more empathetic, and more ...', 'position': 9, 'sitelinks': [{'title': 'Ai Cx Trends To Watch For In...', 'link': 'https://www.nice.com/info/top-ai-cx-trends-for-2025-how-artificial-intelligence-is-transforming-customer-experience#:~:text=AI%20CX%20Trends%20to%20Watch%20for%20in%202025,-Artificial%20Intelligence%20%28AI%29'}, {'title': 'Key Benefits Of Ai For...', 'link': 'https://www.nice.com/info/top-ai-cx-trends-for-2025-how-artificial-intelligence-is-transforming-customer-experience#:~:text=Key%20Benefits%20of%20AI%20for%20Customer%20Experience%3A'}, {'title': '4. Generative Ai For...', 'link': 'https://www.nice.com/info/top-ai-cx-trends-for-2025-how-artificial-intelligence-is-transforming-customer-experience#:~:text=4.%20Generative%20AI%20for%20Customer%20Interaction'}]}], 'peopleAlsoAsk': [{'question': 'What are the predictions for AI in 2025?', 'snippet': '\"2025 predictions: \"Multimodal AI takes center stage as generative tools will evolve beyond text — introducing audio, video, and image-based learning. \"Expect a shift from flashy AI tutors to practical, efficiency-boosting tools that streamline administrative tasks.', 'title': \"2025 Predictions: AI's Impact on Education -- THE Journal\", 'link': 'https://thejournal.com/Articles/2025/01/23/2025-Predictions-AIs-Impact-on-Education.aspx'}, {'question': 'What is the AI market forecast for 2025?', 'snippet': 'Artificial Intelligence - Worldwide\\\\n\\\\n The market size in the Artificial Intelligence market is projected to reach US$243.70bn in 2025. The market size is expected to show an annual growth rate (CAGR 2025-2030) of 27.67%, resulting in a market volume of US$826.70bn by 2030.', 'title': 'Artificial Intelligence - Global | Statista Market Forecast', 'link': 'https://www.statista.com/outlook/tmo/artificial-intelligence/worldwide'}, {'question': 'What are the future trends of artificial intelligence?', 'snippet': 'Automated AI Development\\\\n\\\\n At a certain level, AI can develop its algorithms to solve problems, increase efficiency, and provide humans with useful research data. Using automated AI will allow even non-experts to use AI algorithms and techniques.', 'title': 'Latest Trends in Artificial Intelligence | element14 India', 'link': 'https://in.element14.com/latest-trends-in-artificial-intelligence'}, {'question': 'What are the Microsoft technology trends in 2025?', 'snippet': 'The focus for 2025 is on further integrating AI with cloud services to offer more adaptive and scalable solutions. This will provide businesses with unprecedented flexibility and efficiency, streamlining operations and enabling more sophisticated data analysis.', 'title': 'Top Microsoft Technologies to Watch 2025 - CIO Business World', 'link': 'https://ciobusinessworld.com/top-microsoft-technologies-to-watch-2025-technologies-to-watch/'}], 'credits': 1}\n",
            "\n",
            "\n",
            "You ONLY have access to the following tools, and should NEVER make up tools that are not listed here:\n",
            "\n",
            "Tool Name: Search the internet with Serper\n",
            "Tool Arguments: {'search_query': {'description': 'Mandatory search query you want to use to search the internet', 'type': 'str'}}\n",
            "Tool Description: A tool that can be used to search the internet with a search_query. Supports different search types: 'search' (default), 'news'\n",
            "Tool Name: Search in a specific website\n",
            "Tool Arguments: {'search_query': {'description': 'Mandatory search query you want to use to search a specific website', 'type': 'str'}, 'website': {'description': 'Mandatory valid website URL you want to search on', 'type': 'str'}}\n",
            "Tool Description: A tool that can be used to semantic search a query from a specific URL content.\n",
            "\n",
            "IMPORTANT: Use the following format in your response:\n",
            "\n",
            "```\n",
            "Thought: you should always think about what to do\n",
            "Action: the action to take, only one name of [Search the internet with Serper, Search in a specific website], just the name, exactly as it's written.\n",
            "Action Input: the input to the action, just a simple JSON object, enclosed in curly braces, using \" to wrap keys and values.\n",
            "Observation: the result of the action\n",
            "```\n",
            "\n",
            "Once all necessary information is gathered, return the following format:\n",
            "\n",
            "```\n",
            "Thought: I now know the final answer\n",
            "Final Answer: the final answer to the original input question\n",
            "```\u001b[00m\n"
          ]
        },
        {
          "output_type": "stream",
          "name": "stderr",
          "text": [
            "Inserting batches in chromadb: 100%|██████████| 1/1 [00:00<00:00,  2.40it/s]\n"
          ]
        },
        {
          "output_type": "stream",
          "name": "stdout",
          "text": [
            "\n",
            "\n",
            "\u001b[1m\u001b[95m# Agent:\u001b[00m \u001b[1m\u001b[92m테크 트렌드 연구원\u001b[00m\n",
            "\u001b[95m## Using tool:\u001b[00m \u001b[92mSearch in a specific website\u001b[00m\n",
            "\u001b[95m## Tool Input:\u001b[00m \u001b[92m\n",
            "\"{\\\"search_query\\\": \\\"AI trends 2025\\\", \\\"website\\\": \\\"https://venturebeat.com\\\"}\"\u001b[00m\n",
            "\u001b[95m## Tool Output:\u001b[00m \u001b[92m\n",
            "Relevant Content:\n",
            "VentureBeat | Transformative tech coverage that matters Skip to main content DeepSeek R1’s bold bet on reinforcement learning: How it outpaced OpenAI at 3% of the cost We asked OpenAI's o1 about the top AI trends in 2025 — here's a look into our conversation Why 'prosocial AI' must be the framework for designing, deploying and governing AI × VB Daily The best of VentureBeat delivered to your inbox everyday We respect your privacy. Your email will only be used for sending our newsletter. You can unsubscribe at any time. Read our Privacy Policy. Thanks for subscribing. Check out more VB newsletters here. An error occured.\n",
            "\n",
            "Billion On AI This Year, Zuckerberg Says—After Trump Announces Stargate Deal With OpenAI+1 day agoNBA, NFL Subreddits Among Largest To Ban X Links After Elon Musk’s Controversial SaluteShow MoreU.S. EditionU.S.AsiaEuropeWhy Older Homes Burn So Fast—And The Cost Of Building Ones That Don’tByRichard OlsenForbes StaffFor more than a century, American homeowners could have built fire-resistant homes. For many reasons, they didn’t. Now the market might start offering them no other choice.With NIH In Chaos, Scientists Fear Trump Will Hamstring Critical Medical ResearchThe Trump Administration’s abrupt cancellation of National Institutes of Health meetings and grant reviews has sparked concerns that medical breakthroughs will be stalled and DEI initiatives shut down.QUOTE OF THE DAY“Nothing is more difficult, and therefore more precious, than to be able to decide.”Napoleon BonaparteSHARE THISTrendingEditors’ PicksPremiumFeatured2025 Best In State Wealth Management Teams ListAmerican Express FORBES INSIGHTS | Paid Program5 Findings That Could Reveal Your Company’s Path To Payment InnovationC-Suite Data Reveals AI’s Nuanced Impact & A Quest To Quantify ItMoneyForbes VettedVideoWATCHOpenAI’s New AI Assistant Is Capable Of Ordering Groceries, Making ReservationsMORE TO WATCHWATCHInside The 2025 VW Tiguan: A New Era Of Luxury And Tech For VolkswagenWATCHThis Mijenta Tequila Ambassador Shares Her Recipe For SuccessWATCHHow Tales Of The Cocktail Changed This Bartender's Career For The BetterSee AllLifestyleLeadershipInnovationBusinessSmall BusinessBillionairesAdvisorHome Improvement\n",
            "\n",
            "ForbesBREAKING4 hours agoTulsi Gabbard Confirmation: Lindsey Graham Hesitant About Trump’s Pick For Spy Chief7 hours agoEverything To Know About Trump’s ‘Mass Deportation’ Plans: ICE Planning Over 1,200 Daily Arrests, Report Says7 hours agoTrump Hits Colombia With Tariffs For Rejecting Deportation Flights—In First Clash Over Crackdown8 hours agoCalifornia Wildfire Updates: Fires Near Full Containment—As Officials Warn Of Flooding, Mudslides11 hours agoTrump Says He’s Spoken To ‘Many People’ About TikTok Sale—But Not Oracle12 hours agoThese Billionaires, Companies And Investors Could Buy TikTok—As Oracle Reportedly Weighs Deal With Trump+1 day agoElon Musk Addresses Germany’s Far-Right AfD Party In Surprise Rally Appearance—Amid ‘Nazi Salute’ Controversy+1 day agoTrump Accused Of ‘Dismantling Checks On His Power’ After Firing Inspectors General—Here’s What To Know+1 day agoPete Hegseth Sworn In As Defense Secretary After JD Vance Cast Tie-Breaking Vote—Here’s What To Know+1 day agoNorthern Lights Forecast: Geomagnetic Storm Could Bring Aurora Borealis To These States Tonight+1 day agoFlood Watch Issued For Fire-Stricken Los Angeles Areas—Here’s Why Rain Might Be An Issue+1 day agoMexico Denied A U.S. Deportation Flight As Deportees Are Flown Out Of Country By The Hundreds, Report Says+1 day agoTrump’s State Department Pauses Foreign Aid — Impact On Ukraine Unclear+1 day agoDEI Under Fire: Target Rolls Back Diversity Plans As Costco Keeps Them—Here’s The List Of Major Companies Dropping DEI+1 day agoTarget Drops Diversity Initiatives—After It Previously Caved To Pressure From Pride Month Collection+1 day agoFauci Loses His Security Detail—Here’s Who Else Trump Has Pulled Protection For+1 day agoTrump Suggests Abolishing FEMA In Latest Call To Overhaul Agency+1 day agoU.S. House Oversight Committee Launches Probe Into Debanking Allegations In Tech And Crypto+1 day agoNo, Trump Won’t Likely Get To Run For A Third Term: Here’s Why+1 day agoMeta Will Spend Record $60\u001b[00m\n",
            "\n",
            "\n",
            "\u001b[1m\u001b[95m# Agent:\u001b[00m \u001b[1m\u001b[92m테크 트렌드 연구원\u001b[00m\n",
            "\u001b[95m## Using tool:\u001b[00m \u001b[92mSearch the internet with Serper\u001b[00m\n",
            "\u001b[95m## Tool Input:\u001b[00m \u001b[92m\n",
            "\"{\\\"search_query\\\": \\\"top AI trends for 2025 analysis\\\"}\"\u001b[00m\n",
            "\u001b[95m## Tool Output:\u001b[00m \u001b[92m\n",
            "{'searchParameters': {'q': 'top AI trends for 2025 analysis', 'type': 'search', 'num': 10, 'engine': 'google'}, 'organic': [{'title': 'Five AI Trends To Expect In 2025: Beyond ChatGPT And Friends', 'link': 'https://www.forbes.com/sites/nishatalagala/2024/12/30/five-ai-trends-to-expect-in-2025-beyond-chatgpt-and-friends/', 'snippet': 'AI Trend 1: Agents Everywhere · AI Trend 2: Transformation Of The Education System · AI Trend 3: AI In Science · AI Trend 4: Running Out Of (Easy) ...', 'position': 1}, {'title': 'Five Trends in AI and Data Science for 2025', 'link': 'https://sloanreview.mit.edu/article/five-trends-in-ai-and-data-science-for-2025/', 'snippet': 'AI experts Thomas H. Davenport and Randy Bean explain the top AI trends leaders should watch in the new year.', 'position': 2}, {'title': \"We asked OpenAI's o1 about the top AI trends in 2025 - VentureBeat\", 'link': 'https://venturebeat.com/ai/we-asked-openais-o1-about-the-top-ai-trends-in-2025-heres-a-look-into-our-conversation/', 'snippet': \"Here's what OpenAI's o1 had to say about AI trends this year. Just how many there are is a testament to AI's general-purpose value.\", 'position': 3}, {'title': '5 AI Trends That Will Dominate 2025, From Apple to Agents and ...', 'link': 'https://www.adweek.com/media/5-ai-trends-2025/', 'snippet': 'In 2025, generative artificial intelligence will shift from a behind-the-scenes tool to a central driver of innovation in marketing.', 'position': 4}, {'title': \"6 AI trends you'll see more of in 2025 - Microsoft News\", 'link': 'https://news.microsoft.com/source/features/ai/6-ai-trends-youll-see-more-of-in-2025/', 'snippet': 'In 2025, AI will evolve from a tool for work and home to an integral part of both. AI-powered agents will do more with greater autonomy and ...', 'position': 5}, {'title': 'Top Tech Trends of 2025: AI-powered everything - Capgemini', 'link': 'https://www.capgemini.com/insights/research-library/top-tech-trends-2025/', 'snippet': 'What are the Top Tech Trends of 2025? · Generative AI: From copilots to reasoning AI agents · AI & Gen AI in cybersecurity: New defenses, new threats · AI-driven ...', 'position': 6}, {'title': '(My take) Top 5 Generative AI enterprise trends for 2025 - Reddit', 'link': 'https://www.reddit.com/r/ArtificialInteligence/comments/1hr8ykk/my_take_top_5_generative_ai_enterprise_trends_for/', 'snippet': 'Trend#1 Generative AI application development will become increasingly accessible and streamlined, driving a surge in enterprise investment and ...', 'position': 7}, {'title': '8 AI and machine learning trends to watch in 2025 | TechTarget', 'link': 'https://www.techtarget.com/searchenterpriseai/tip/9-top-AI-and-machine-learning-trends', 'snippet': 'Explore the key trends shaping AI in 2025, from multimodal models and AI agents to security challenges and evolving regulatory landscapes.', 'position': 8, 'sitelinks': [{'title': '2. Generative Ai Moves...', 'link': 'https://www.techtarget.com/searchenterpriseai/tip/9-top-AI-and-machine-learning-trends#:~:text=2.%20Generative%20AI%20moves%20beyond%20chatbots'}, {'title': '3. Ai Agents Are The Next...', 'link': 'https://www.techtarget.com/searchenterpriseai/tip/9-top-AI-and-machine-learning-trends#:~:text=3.%20AI%20agents%20are%20the%20next%20frontier'}, {'title': '6. Ai Literacy Becomes...', 'link': 'https://www.techtarget.com/searchenterpriseai/tip/9-top-AI-and-machine-learning-trends#:~:text=6.%20AI%20literacy%20becomes%20essential'}]}, {'title': 'Top 5 AI Trends in 2025 - FPT Software', 'link': 'https://fptsoftware.com/resource-center/blogs/top-5-ai-trends-in-2025', 'snippet': 'It is essential for businesses to stay updated with the five key trends this year, which include: Agentic AI, the growing use of AI in software ...', 'position': 9, 'sitelinks': [{'title': 'Top 5 Ai Trends In 2025', 'link': 'https://fptsoftware.com/resource-center/blogs/top-5-ai-trends-in-2025#:~:text=Top%205%20AI%20Trends%20in%202025,-As%20enterprises%20progress%20into%202025'}, {'title': 'The Rise Of Agentic Ai', 'link': 'https://fptsoftware.com/resource-center/blogs/top-5-ai-trends-in-2025#:~:text=The%20rise%20of%20Agentic%20AI,-Agentic%20AI%20is%20emerging%20as'}, {'title': \"Ai's Bigger Impact In...\", 'link': 'https://fptsoftware.com/resource-center/blogs/top-5-ai-trends-in-2025#:~:text=AI%27s%20bigger%20impact%20in%20sustainability,-AI'}]}], 'peopleAlsoAsk': [{'question': 'What is the AI trend in 2025?', 'snippet': 'Organizations will increasingly deploy AI agents that can coordinate multiple tasks, manage resources, and even collaborate with other AI systems, creating a new paradigm in human-AI interaction and enterprise automation. The future is all about building robust agentic applications.', 'title': '7 AI Trends & Predictions for 2025 Everyone Should Know! - LinkedIn', 'link': 'https://www.linkedin.com/pulse/7-ai-trends-predictions-2025-everyone-should-know-pavan-belagatti-ikfnc'}, {'question': 'What is the next trend in AI?', 'snippet': 'Multimodal AI\\\\n\\\\n Multimodel models in AI can grasp information from different data types, like audio, video, and images, in addition to text. This technology is enabling search and content creation tools to become more seamless and intuitive and integrate more easily into other applications we already use.', 'title': '5 AI Trends to Watch in 2025 | Coursera', 'link': 'https://www.coursera.org/articles/ai-trends'}, {'question': 'What is the hottest topic in AI?', 'snippet': 'AI Business Strategies.\\nAI Careers.\\nAI Infrastructure.\\nAI Platforms.\\nAI Technologies.\\nApplications of AI. ML Platforms.', 'title': '8 AI and machine learning trends to watch in 2025 | TechTarget', 'link': 'https://www.techtarget.com/searchenterpriseai/tip/9-top-AI-and-machine-learning-trends'}, {'question': 'Which technology is best in future 2025?', 'snippet': 'In 2025, Augmented Reality (AR) is poised to be a major tech trend, further integrating into consumer and enterprise applications. With the evolution of hardware, such as advanced AR glasses and improvements in mobile devices, AR will offer more immersive, interactive experiences.', 'title': '25 New Technology Trends for 2025 - Simplilearn.com', 'link': 'https://www.simplilearn.com/top-technology-trends-and-jobs-article'}], 'credits': 1}\u001b[00m\n"
          ]
        },
        {
          "output_type": "stream",
          "name": "stderr",
          "text": [
            "Inserting batches in chromadb: 100%|██████████| 1/1 [00:00<00:00,  4.60it/s]\n"
          ]
        },
        {
          "output_type": "stream",
          "name": "stdout",
          "text": [
            "\n",
            "\n",
            "\u001b[1m\u001b[95m# Agent:\u001b[00m \u001b[1m\u001b[92m테크 트렌드 연구원\u001b[00m\n",
            "\u001b[95m## Using tool:\u001b[00m \u001b[92mSearch in a specific website\u001b[00m\n",
            "\u001b[95m## Tool Input:\u001b[00m \u001b[92m\n",
            "\"{\\\"search_query\\\": \\\"top AI trends in 2025\\\", \\\"website\\\": \\\"https://www.adweek.com\\\"}\"\u001b[00m\n",
            "\u001b[95m## Tool Output:\u001b[00m \u001b[92m\n",
            "Relevant Content:\n",
            "VentureBeat | Transformative tech coverage that matters Skip to main content DeepSeek R1’s bold bet on reinforcement learning: How it outpaced OpenAI at 3% of the cost We asked OpenAI's o1 about the top AI trends in 2025 — here's a look into our conversation Why 'prosocial AI' must be the framework for designing, deploying and governing AI × VB Daily The best of VentureBeat delivered to your inbox everyday We respect your privacy. Your email will only be used for sending our newsletter. You can unsubscribe at any time. Read our Privacy Policy. Thanks for subscribing. Check out more VB newsletters here. An error occured.\n",
            "\n",
            "Billion On AI This Year, Zuckerberg Says—After Trump Announces Stargate Deal With OpenAI+1 day agoNBA, NFL Subreddits Among Largest To Ban X Links After Elon Musk’s Controversial SaluteShow MoreU.S. EditionU.S.AsiaEuropeWhy Older Homes Burn So Fast—And The Cost Of Building Ones That Don’tByRichard OlsenForbes StaffFor more than a century, American homeowners could have built fire-resistant homes. For many reasons, they didn’t. Now the market might start offering them no other choice.With NIH In Chaos, Scientists Fear Trump Will Hamstring Critical Medical ResearchThe Trump Administration’s abrupt cancellation of National Institutes of Health meetings and grant reviews has sparked concerns that medical breakthroughs will be stalled and DEI initiatives shut down.QUOTE OF THE DAY“Nothing is more difficult, and therefore more precious, than to be able to decide.”Napoleon BonaparteSHARE THISTrendingEditors’ PicksPremiumFeatured2025 Best In State Wealth Management Teams ListAmerican Express FORBES INSIGHTS | Paid Program5 Findings That Could Reveal Your Company’s Path To Payment InnovationC-Suite Data Reveals AI’s Nuanced Impact & A Quest To Quantify ItMoneyForbes VettedVideoWATCHOpenAI’s New AI Assistant Is Capable Of Ordering Groceries, Making ReservationsMORE TO WATCHWATCHInside The 2025 VW Tiguan: A New Era Of Luxury And Tech For VolkswagenWATCHThis Mijenta Tequila Ambassador Shares Her Recipe For SuccessWATCHHow Tales Of The Cocktail Changed This Bartender's Career For The BetterSee AllLifestyleLeadershipInnovationBusinessSmall BusinessBillionairesAdvisorHome Improvement\n",
            "\n",
            "Adweek TikTok Ban TikTok’s Resurrection Sparks Legal Uncertainty for Global Brands By Trishla Ostwal Super Bowl Commercials Homes.com Returns to Super Bowl One Year After Brand Debut By T.L. Stanley Brandshare 5 Disruptors Coming for Health Marketing in 2025 Publicis Health Media Platforms As Trump Looks for a US TikTok Buyer, 5 Details Could Really Complicate the Sale By Mark Stenberg Super Bowl Commercials David Beckham Discovers His Secret Twin Brother in Stella Artois Super Bowl Teaser By Rebecca Stewart JORDAN SHLACHTER SHELLEY ZALIS JESSICA SIBLEY CARLA HASSAN BRANDSHARE FROM KANTAR 9 Proven Ways to Gather Honest Consumer Feedback Media Plan of the Year Media Plan of the Year: 24 Campaigns That Cut Through the Noise By Aleda Stam Agency All Stars Presenting ADWEEK’s Inaugural Agency All-Stars By Adweek Staff Perspective It Started With One Beer, but Samuel Adams Is So Much More By Eva Kis Off the Clock This CCO Has Surfed 6 Continents and Even Makes the Surfboards By Eva Kis The Adweek Resource LibraryBe a better marketer and get access to the latest Adweek-created guides, exclusive research, and sponsor white papers.See What’s New\n",
            "\n",
            "\n",
            "You ONLY have access to the following tools, and should NEVER make up tools that are not listed here:\n",
            "\n",
            "Tool Name: Search the internet with Serper\n",
            "Tool Arguments: {'search_query': {'description': 'Mandatory search query you want to use to search the internet', 'type': 'str'}}\n",
            "Tool Description: A tool that can be used to search the internet with a search_query. Supports different search types: 'search' (default), 'news'\n",
            "Tool Name: Search in a specific website\n",
            "Tool Arguments: {'search_query': {'description': 'Mandatory search query you want to use to search a specific website', 'type': 'str'}, 'website': {'description': 'Mandatory valid website URL you want to search on', 'type': 'str'}}\n",
            "Tool Description: A tool that can be used to semantic search a query from a specific URL content.\n",
            "\n",
            "IMPORTANT: Use the following format in your response:\n",
            "\n",
            "```\n",
            "Thought: you should always think about what to do\n",
            "Action: the action to take, only one name of [Search the internet with Serper, Search in a specific website], just the name, exactly as it's written.\n",
            "Action Input: the input to the action, just a simple JSON object, enclosed in curly braces, using \" to wrap keys and values.\n",
            "Observation: the result of the action\n",
            "```\n",
            "\n",
            "Once all necessary information is gathered, return the following format:\n",
            "\n",
            "```\n",
            "Thought: I now know the final answer\n",
            "Final Answer: the final answer to the original input question\n",
            "```\u001b[00m\n"
          ]
        },
        {
          "output_type": "stream",
          "name": "stderr",
          "text": [
            "Inserting batches in chromadb: 100%|██████████| 1/1 [00:00<00:00,  2.00it/s]\n"
          ]
        },
        {
          "output_type": "stream",
          "name": "stdout",
          "text": [
            "\n",
            "\n",
            "\u001b[1m\u001b[95m# Agent:\u001b[00m \u001b[1m\u001b[92m테크 트렌드 연구원\u001b[00m\n",
            "\u001b[95m## Using tool:\u001b[00m \u001b[92mSearch in a specific website\u001b[00m\n",
            "\u001b[95m## Tool Input:\u001b[00m \u001b[92m\n",
            "\"{\\\"search_query\\\": \\\"AI trends 2025\\\", \\\"website\\\": \\\"https://sloanreview.mit.edu\\\"}\"\u001b[00m\n",
            "\u001b[95m## Tool Output:\u001b[00m \u001b[92m\n",
            "Relevant Content:\n",
            "Melissa Webster and George Westerman January 22, 2025 AI & Machine Learning Philosophy Eats AI Michael Schrage and David Kiron January 16, 2025 Data, AI, & Machine Learning Analytical AI: A Better Way to Identify the Right AI Projects Pedro Amorim et al. January 15, 2025 AI & Machine Learning Turbocharging Organizational Learning With GenAI Paul Baier and John J. Sviokla January 13, 2025 AI & Machine Learning When Candidates Use Generative AI for the Interview Navio Kwok January 09, 2025 AI & Machine Learning Five Trends in AI and Data Science for 2025 Thomas H. Davenport and Randy Bean January 08, 2025 AI & Machine Learning Gaining Real Business Benefits From GenAI: An MIT SMR Executive Guide Anne Stuart January 06, 2025 AI & Machine Learning MIT SMR’s 10 AI Must-Reads for 2024 William Reed December 30, 2024 AI & Machine Learning AI Leadership Challenges: Five Key Questions MIT Sloan Management Review December 23, 2024 Leadership Skills Our Guide to the Winter 2025 Issue MIT Sloan Management Review December 10, 2024 AI & Machine Learning The GenAI App Step You’re Skimping On: Evaluations Rama Ramakrishnan December 05, 2024 More on this topic Popular Topics Artificial Intelligence Leading Hybrid Teams Organizational Culture Leading Hybrid Teams More on this topic Previous Next Remote Work Building Human Connection in a Remote World Jordan Birnbaum November 13, 2024 Organizational Behavior RTO Mandates: Hard Truths for Leaders MIT Sloan Management Review November 12, 2024 Performance Management Seven Truths About Hybrid Work and Productivity Lynda Gratton August 14, 2024 Performance Management Return-to-Office Mandates: How to Lose Your Best Performers Brian Elliott November 12, 2024 Organizational Behavior Hybrid Work: How Leaders Build In-Person Moments That Matter Brian Elliott August 01, 2024 Work-Life Balance Manage Boundaries Better With Your Team Angela R. Grotto et al. October 02, 2024 Performance Management When Hybrid Work Strategy Aggravates 20-Somethings\n",
            "\n",
            "With GenAI Generative AI can greatly enhance organizational learning, but using it successfully requires the right mindset. Paul Baier and John J. Sviokla January 13, 2025 Culture How the Lego Group Built Culture Change: From the Ground Up Loren Shuster of the Lego Group shares tips on rethinking leadership behaviors at a large, global organization. Donald Sull and Charles Sull January 10, 2025 AI & Machine Learning When Candidates Use Generative AI for the Interview Key follow-up questions can help hiring managers probe beyond job seekers’ GenAI-coached responses. Navio Kwok January 09, 2025 AI & Machine Learning Five Trends in AI and Data Science for 2025 AI experts Thomas H. Davenport and Randy Bean explain the top AI trends leaders should watch in the new year. Thomas H. Davenport and Randy Bean January 08, 2025 Analytics & Business Intelligence How a 160-Year-Old Startup Uses AI: The Heineken Company’s Ronald den Elzen This Me, Myself, and AI episode features Heineken’s Ronald den Elzen in conversation with hosts Sam Ransbotham and Shervin Khodabandeh. Sam Ransbotham and Shervin Khodabandeh January 07, 2025 Leadership Skills 10 Essential Leadership Tips for 2025 Use these strategies to build your leadership skill set and solve tough challenges in the new year. Laurianne McLaughlin January 06, 2025 AI & Machine Learning Gaining Real Business Benefits From GenAI: An MIT SMR Executive Guide Many organizations aren’t sure how to reap business value from GenAI. This series offers expert insights and examples. Anne Stuart January 06, 2025 Remote Work Seven Essential Hybrid Work Tips for Leaders in 2025 Learn how to help hybrid teams develop a stronger culture and deliver more success in the year ahead. MIT SMR Editors January 02, 2025 AI & Machine Learning MIT SMR’s 10 AI Must-Reads for 2024 Catch up on MIT SMR’s most popular artificial intelligence articles and get expert advice on solving key AI problems. William Reed December 30, 2024 Performance Management Five\n",
            "\n",
            "VentureBeat | Transformative tech coverage that matters Skip to main content DeepSeek R1’s bold bet on reinforcement learning: How it outpaced OpenAI at 3% of the cost We asked OpenAI's o1 about the top AI trends in 2025 — here's a look into our conversation Why 'prosocial AI' must be the framework for designing, deploying and governing AI × VB Daily The best of VentureBeat delivered to your inbox everyday We respect your privacy. Your email will only be used for sending our newsletter. You can unsubscribe at any time. Read our Privacy Policy. Thanks for subscribing. Check out more VB newsletters here. An error occured.\u001b[00m\n",
            "\n",
            "\n",
            "\u001b[1m\u001b[95m# Agent:\u001b[00m \u001b[1m\u001b[92m테크 트렌드 연구원\u001b[00m\n",
            "\u001b[95m## Final Answer:\u001b[00m \u001b[92m\n",
            "2025년 인공지능(AI) 업계에서 주목받는 3대 기술 개발 동향과 그 중요성은 다음과 같습니다:\n",
            "\n",
            "1. **에이전틱 AI (Agentic AI)**:\n",
            "   에이전틱 AI는 AI 시스템이 인간과 협력하여 복잡한 작업을 자동화하고 관리할 수 있는 능력을 갖춘 기술입니다. 2025년에는 이러한 AI 에이전트가 다양한 산업에서 더욱 보편화될 것으로 예상되며, 이는 기업들이 효율성을 극대화하고 자원 관리를 개선하는 데 기여할 것입니다. 이러한 변화는 인간-기계 상호작용의 새로운 패러다임을 일으킬 것으로 보입니다.\n",
            "\n",
            "2. **다중 모달 AI (Multimodal AI)**:\n",
            "   다중 모달 AI는 텍스트, 이미지, 오디오 등 다양한 데이터 형식을 동시에 처리할 수 있는 능력을 강화하는 기술입니다. 이는 AI가 정보 검색 및 콘텐츠 생성 도구에서 더 직관적이고 원활하게 기능할 수 있도록 하여, 기업의 디지털 전환을 가속화하는 데 중요한 역할을 할 것입니다. 이러한 기술은 사용자 경험을 한층 향상시키고, 다양한 산업에 걸쳐 AI 솔루션의 통합을 촉진할 것입니다.\n",
            "\n",
            "3. **생성적 AI (Generative AI)**:\n",
            "   생성적 AI는 데이터에서 새로운 콘텐츠를 생성하는 능력을 지닌 AI로, 마케팅 및 창의적 분야에서 혁신적인 도구로 자리 잡고 있습니다. 2025년에는 이러한 기술이 단순한 도구에서 벗어나 혁신의 중심으로 자리 잡을 것이며, 기업들은 이를 통해 고객 맞춤형 솔루션과 새로운 비즈니스 모델을 개발할 수 있을 것입니다. 생성적 AI는 고객의 기대를 충족시키고, 기업의 경쟁력을 높이는 데 필수적인 요소가 될 것입니다.\n",
            "\n",
            "이러한 기술 동향들은 AI의 발전이 기업의 운영 방식을 혁신하고, 새로운 가치 창출의 기회를 제공하는 데 기여할 것으로 기대됩니다.\n",
            "```\u001b[00m\n",
            "\n",
            "\n",
            "\u001b[1m\u001b[95m# Agent:\u001b[00m \u001b[1m\u001b[92m뉴스레터 작성자\u001b[00m\n",
            "\u001b[95m## Task:\u001b[00m \u001b[92m테크 트렌드 연구원의 요약을 바탕으로 AI 산업에 대한 매력적인 테크 뉴스레터를 작성하세요. 테크 뉴스레터이므로 전문적인 용어를 사용해도 괜찮습니다. \u001b[00m\n",
            "\n",
            "\n",
            "\u001b[1m\u001b[95m# Agent:\u001b[00m \u001b[1m\u001b[92m뉴스레터 작성자\u001b[00m\n",
            "\u001b[95m## Final Answer:\u001b[00m \u001b[92m\n",
            "# 📰 AI 테크 뉴스레터: 2025년 AI 혁신의 물결\n",
            "\n",
            "안녕하세요, AI 애호가 여러분! 2025년이 밝아오면서 인공지능(AI) 산업에서는 뜨거운 혁신의 바람이 불고 있습니다. 오늘은 특히 주목할 만한 세 가지 기술 동향에 대해 알아보려 합니다. 에이전틱 AI, 다중 모달 AI, 그리고 생성적 AI가 어떤 매력을 지니고 있는지 함께 살펴보시죠!\n",
            "\n",
            "## 🚀 에이전틱 AI: 인간과 기계의 새로운 파트너십\n",
            "\n",
            "에이전틱 AI는 AI 시스템이 인간과 협력하여 복잡한 작업을 자동화하고 관리할 수 있는 능력을 갖춘 기술입니다. 2025년에는 이러한 AI 에이전트가 다양한 산업에서 보편화될 것으로 예상되는데요, 이는 기업들이 효율성을 극대화하고 자원 관리를 개선하는 데 큰 기여를 할 것입니다. 이제는 단순한 도구가 아닌, 진정한 파트너로서의 역할을 하게 될 에이전틱 AI! 이러한 변화는 인간-기계 상호작용의 새로운 패러다임을 열어줄 것입니다.\n",
            "\n",
            "## 🎨 다중 모달 AI: 데이터 소통의 혁신\n",
            "\n",
            "다중 모달 AI는 텍스트, 이미지, 오디오 등 다양한 데이터 형식을 동시에 처리할 수 있는 능력을 더욱 강화하고 있습니다. 이 기술은 AI가 정보 검색 및 콘텐츠 생성 도구에서 더 직관적이고 원활하게 기능할 수 있도록 하여, 기업의 디지털 전환을 가속화하는 데 중요한 역할을 할 것입니다. 다중 모달 AI 덕분에 사용자 경험은 한층 향상되고, 다양한 산업에 걸쳐 AI 솔루션의 통합이 촉진될 것입니다. 이제 AI와의 소통이 그 어느 때보다 매끄럽고 즐거워질 날이 머지않았습니다!\n",
            "\n",
            "## 🌟 생성적 AI: 혁신의 중심에 서다\n",
            "\n",
            "마지막으로, 생성적 AI는 데이터에서 새로운 콘텐츠를 생성하는 능력을 지닌 AI로, 마케팅 및 창의적 분야에서 혁신적인 도구로 자리 잡고 있습니다. 2025년에는 이러한 기술이 단순한 도구에서 벗어나 혁신의 중심으로 자리 잡을 것이며, 기업들은 이를 통해 고객 맞춤형 솔루션과 새로운 비즈니스 모델을 개발할 수 있을 것입니다. 생성적 AI는 고객의 기대를 충족시키고, 기업의 경쟁력을 높이는 데 필수적인 요소가 될 것입니다. 여러분, 이제 AI가 만들어내는 창의적인 세상에 발을 디딜 준비가 되셨나요?\n",
            "\n",
            "2025년의 AI 기술들은 기업의 운영 방식을 혁신하고, 새로운 가치 창출의 기회를 제공하는 데 기여할 것으로 기대됩니다. 앞으로도 여러분과 함께 최신 AI 트렌드를 계속해서 살펴보겠습니다. 다음 뉴스레터에서 만나요!\u001b[00m\n",
            "\n",
            "\n"
          ]
        }
      ]
    },
    {
      "cell_type": "code",
      "source": [
        "from IPython.display import display, Markdown\n",
        "\n",
        "display(Markdown(result.raw))"
      ],
      "metadata": {
        "colab": {
          "base_uri": "https://localhost:8080/",
          "height": 480
        },
        "id": "cMOwS2o3rZxl",
        "outputId": "d08a257c-a4a4-4b99-f10d-4c396651ce80"
      },
      "execution_count": 8,
      "outputs": [
        {
          "output_type": "display_data",
          "data": {
            "text/plain": [
              "<IPython.core.display.Markdown object>"
            ],
            "text/markdown": "# 📰 AI 테크 뉴스레터: 2025년 AI 혁신의 물결\n\n안녕하세요, AI 애호가 여러분! 2025년이 밝아오면서 인공지능(AI) 산업에서는 뜨거운 혁신의 바람이 불고 있습니다. 오늘은 특히 주목할 만한 세 가지 기술 동향에 대해 알아보려 합니다. 에이전틱 AI, 다중 모달 AI, 그리고 생성적 AI가 어떤 매력을 지니고 있는지 함께 살펴보시죠!\n\n## 🚀 에이전틱 AI: 인간과 기계의 새로운 파트너십\n\n에이전틱 AI는 AI 시스템이 인간과 협력하여 복잡한 작업을 자동화하고 관리할 수 있는 능력을 갖춘 기술입니다. 2025년에는 이러한 AI 에이전트가 다양한 산업에서 보편화될 것으로 예상되는데요, 이는 기업들이 효율성을 극대화하고 자원 관리를 개선하는 데 큰 기여를 할 것입니다. 이제는 단순한 도구가 아닌, 진정한 파트너로서의 역할을 하게 될 에이전틱 AI! 이러한 변화는 인간-기계 상호작용의 새로운 패러다임을 열어줄 것입니다.\n\n## 🎨 다중 모달 AI: 데이터 소통의 혁신\n\n다중 모달 AI는 텍스트, 이미지, 오디오 등 다양한 데이터 형식을 동시에 처리할 수 있는 능력을 더욱 강화하고 있습니다. 이 기술은 AI가 정보 검색 및 콘텐츠 생성 도구에서 더 직관적이고 원활하게 기능할 수 있도록 하여, 기업의 디지털 전환을 가속화하는 데 중요한 역할을 할 것입니다. 다중 모달 AI 덕분에 사용자 경험은 한층 향상되고, 다양한 산업에 걸쳐 AI 솔루션의 통합이 촉진될 것입니다. 이제 AI와의 소통이 그 어느 때보다 매끄럽고 즐거워질 날이 머지않았습니다!\n\n## 🌟 생성적 AI: 혁신의 중심에 서다\n\n마지막으로, 생성적 AI는 데이터에서 새로운 콘텐츠를 생성하는 능력을 지닌 AI로, 마케팅 및 창의적 분야에서 혁신적인 도구로 자리 잡고 있습니다. 2025년에는 이러한 기술이 단순한 도구에서 벗어나 혁신의 중심으로 자리 잡을 것이며, 기업들은 이를 통해 고객 맞춤형 솔루션과 새로운 비즈니스 모델을 개발할 수 있을 것입니다. 생성적 AI는 고객의 기대를 충족시키고, 기업의 경쟁력을 높이는 데 필수적인 요소가 될 것입니다. 여러분, 이제 AI가 만들어내는 창의적인 세상에 발을 디딜 준비가 되셨나요?\n\n2025년의 AI 기술들은 기업의 운영 방식을 혁신하고, 새로운 가치 창출의 기회를 제공하는 데 기여할 것으로 기대됩니다. 앞으로도 여러분과 함께 최신 AI 트렌드를 계속해서 살펴보겠습니다. 다음 뉴스레터에서 만나요!"
          },
          "metadata": {}
        }
      ]
    }
  ]
}