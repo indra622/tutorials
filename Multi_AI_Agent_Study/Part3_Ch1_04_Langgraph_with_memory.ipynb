{
  "nbformat": 4,
  "nbformat_minor": 0,
  "metadata": {
    "colab": {
      "provenance": [],
      "authorship_tag": "ABX9TyPFqBnWIAwqf9Jlgj7Y6+eh",
      "include_colab_link": true
    },
    "kernelspec": {
      "name": "python3",
      "display_name": "Python 3"
    },
    "language_info": {
      "name": "python"
    }
  },
  "cells": [
    {
      "cell_type": "markdown",
      "metadata": {
        "id": "view-in-github",
        "colab_type": "text"
      },
      "source": [
        "<a href=\"https://colab.research.google.com/github/indra622/tutorials/blob/master/Multi_AI_Agent_Study/Part3_Ch1_04_Langgraph_with_memory.ipynb\" target=\"_parent\"><img src=\"https://colab.research.google.com/assets/colab-badge.svg\" alt=\"Open In Colab\"/></a>"
      ]
    },
    {
      "cell_type": "code",
      "execution_count": 4,
      "metadata": {
        "colab": {
          "base_uri": "https://localhost:8080/"
        },
        "id": "LH14BAqGynlt",
        "outputId": "6880dca2-bbd0-47c4-9bc5-722deb2f2441"
      },
      "outputs": [
        {
          "output_type": "stream",
          "name": "stdout",
          "text": [
            "Requirement already satisfied: langgraph in /usr/local/lib/python3.11/dist-packages (0.2.69)\n",
            "Requirement already satisfied: langchain-openai in /usr/local/lib/python3.11/dist-packages (0.3.3)\n",
            "Requirement already satisfied: python-dotenv in /usr/local/lib/python3.11/dist-packages (1.0.1)\n",
            "Collecting langchain_community\n",
            "  Downloading langchain_community-0.3.16-py3-none-any.whl.metadata (2.9 kB)\n",
            "Requirement already satisfied: langchain-core!=0.3.0,!=0.3.1,!=0.3.10,!=0.3.11,!=0.3.12,!=0.3.13,!=0.3.14,!=0.3.15,!=0.3.16,!=0.3.17,!=0.3.18,!=0.3.19,!=0.3.2,!=0.3.20,!=0.3.21,!=0.3.22,!=0.3.3,!=0.3.4,!=0.3.5,!=0.3.6,!=0.3.7,!=0.3.8,!=0.3.9,<0.4.0,>=0.2.43 in /usr/local/lib/python3.11/dist-packages (from langgraph) (0.3.33)\n",
            "Requirement already satisfied: langgraph-checkpoint<3.0.0,>=2.0.10 in /usr/local/lib/python3.11/dist-packages (from langgraph) (2.0.10)\n",
            "Requirement already satisfied: langgraph-sdk<0.2.0,>=0.1.42 in /usr/local/lib/python3.11/dist-packages (from langgraph) (0.1.51)\n",
            "Requirement already satisfied: openai<2.0.0,>=1.58.1 in /usr/local/lib/python3.11/dist-packages (from langchain-openai) (1.59.9)\n",
            "Requirement already satisfied: tiktoken<1,>=0.7 in /usr/local/lib/python3.11/dist-packages (from langchain-openai) (0.8.0)\n",
            "Requirement already satisfied: PyYAML>=5.3 in /usr/local/lib/python3.11/dist-packages (from langchain_community) (6.0.2)\n",
            "Requirement already satisfied: SQLAlchemy<3,>=1.4 in /usr/local/lib/python3.11/dist-packages (from langchain_community) (2.0.37)\n",
            "Requirement already satisfied: aiohttp<4.0.0,>=3.8.3 in /usr/local/lib/python3.11/dist-packages (from langchain_community) (3.11.11)\n",
            "Collecting dataclasses-json<0.7,>=0.5.7 (from langchain_community)\n",
            "  Downloading dataclasses_json-0.6.7-py3-none-any.whl.metadata (25 kB)\n",
            "Collecting httpx-sse<0.5.0,>=0.4.0 (from langchain_community)\n",
            "  Downloading httpx_sse-0.4.0-py3-none-any.whl.metadata (9.0 kB)\n",
            "Requirement already satisfied: langchain<0.4.0,>=0.3.16 in /usr/local/lib/python3.11/dist-packages (from langchain_community) (0.3.16)\n",
            "Requirement already satisfied: langsmith<0.4,>=0.1.125 in /usr/local/lib/python3.11/dist-packages (from langchain_community) (0.3.2)\n",
            "Requirement already satisfied: numpy<2,>=1.22.4 in /usr/local/lib/python3.11/dist-packages (from langchain_community) (1.26.4)\n",
            "Collecting pydantic-settings<3.0.0,>=2.4.0 (from langchain_community)\n",
            "  Downloading pydantic_settings-2.7.1-py3-none-any.whl.metadata (3.5 kB)\n",
            "Requirement already satisfied: requests<3,>=2 in /usr/local/lib/python3.11/dist-packages (from langchain_community) (2.32.3)\n",
            "Requirement already satisfied: tenacity!=8.4.0,<10,>=8.1.0 in /usr/local/lib/python3.11/dist-packages (from langchain_community) (9.0.0)\n",
            "Requirement already satisfied: aiohappyeyeballs>=2.3.0 in /usr/local/lib/python3.11/dist-packages (from aiohttp<4.0.0,>=3.8.3->langchain_community) (2.4.4)\n",
            "Requirement already satisfied: aiosignal>=1.1.2 in /usr/local/lib/python3.11/dist-packages (from aiohttp<4.0.0,>=3.8.3->langchain_community) (1.3.2)\n",
            "Requirement already satisfied: attrs>=17.3.0 in /usr/local/lib/python3.11/dist-packages (from aiohttp<4.0.0,>=3.8.3->langchain_community) (25.1.0)\n",
            "Requirement already satisfied: frozenlist>=1.1.1 in /usr/local/lib/python3.11/dist-packages (from aiohttp<4.0.0,>=3.8.3->langchain_community) (1.5.0)\n",
            "Requirement already satisfied: multidict<7.0,>=4.5 in /usr/local/lib/python3.11/dist-packages (from aiohttp<4.0.0,>=3.8.3->langchain_community) (6.1.0)\n",
            "Requirement already satisfied: propcache>=0.2.0 in /usr/local/lib/python3.11/dist-packages (from aiohttp<4.0.0,>=3.8.3->langchain_community) (0.2.1)\n",
            "Requirement already satisfied: yarl<2.0,>=1.17.0 in /usr/local/lib/python3.11/dist-packages (from aiohttp<4.0.0,>=3.8.3->langchain_community) (1.18.3)\n",
            "Collecting marshmallow<4.0.0,>=3.18.0 (from dataclasses-json<0.7,>=0.5.7->langchain_community)\n",
            "  Downloading marshmallow-3.26.0-py3-none-any.whl.metadata (7.3 kB)\n",
            "Collecting typing-inspect<1,>=0.4.0 (from dataclasses-json<0.7,>=0.5.7->langchain_community)\n",
            "  Downloading typing_inspect-0.9.0-py3-none-any.whl.metadata (1.5 kB)\n",
            "Requirement already satisfied: langchain-text-splitters<0.4.0,>=0.3.3 in /usr/local/lib/python3.11/dist-packages (from langchain<0.4.0,>=0.3.16->langchain_community) (0.3.5)\n",
            "Requirement already satisfied: pydantic<3.0.0,>=2.7.4 in /usr/local/lib/python3.11/dist-packages (from langchain<0.4.0,>=0.3.16->langchain_community) (2.10.6)\n",
            "Requirement already satisfied: jsonpatch<2.0,>=1.33 in /usr/local/lib/python3.11/dist-packages (from langchain-core!=0.3.0,!=0.3.1,!=0.3.10,!=0.3.11,!=0.3.12,!=0.3.13,!=0.3.14,!=0.3.15,!=0.3.16,!=0.3.17,!=0.3.18,!=0.3.19,!=0.3.2,!=0.3.20,!=0.3.21,!=0.3.22,!=0.3.3,!=0.3.4,!=0.3.5,!=0.3.6,!=0.3.7,!=0.3.8,!=0.3.9,<0.4.0,>=0.2.43->langgraph) (1.33)\n",
            "Requirement already satisfied: packaging<25,>=23.2 in /usr/local/lib/python3.11/dist-packages (from langchain-core!=0.3.0,!=0.3.1,!=0.3.10,!=0.3.11,!=0.3.12,!=0.3.13,!=0.3.14,!=0.3.15,!=0.3.16,!=0.3.17,!=0.3.18,!=0.3.19,!=0.3.2,!=0.3.20,!=0.3.21,!=0.3.22,!=0.3.3,!=0.3.4,!=0.3.5,!=0.3.6,!=0.3.7,!=0.3.8,!=0.3.9,<0.4.0,>=0.2.43->langgraph) (24.2)\n",
            "Requirement already satisfied: typing-extensions>=4.7 in /usr/local/lib/python3.11/dist-packages (from langchain-core!=0.3.0,!=0.3.1,!=0.3.10,!=0.3.11,!=0.3.12,!=0.3.13,!=0.3.14,!=0.3.15,!=0.3.16,!=0.3.17,!=0.3.18,!=0.3.19,!=0.3.2,!=0.3.20,!=0.3.21,!=0.3.22,!=0.3.3,!=0.3.4,!=0.3.5,!=0.3.6,!=0.3.7,!=0.3.8,!=0.3.9,<0.4.0,>=0.2.43->langgraph) (4.12.2)\n",
            "Requirement already satisfied: msgpack<2.0.0,>=1.1.0 in /usr/local/lib/python3.11/dist-packages (from langgraph-checkpoint<3.0.0,>=2.0.10->langgraph) (1.1.0)\n",
            "Requirement already satisfied: httpx>=0.25.2 in /usr/local/lib/python3.11/dist-packages (from langgraph-sdk<0.2.0,>=0.1.42->langgraph) (0.28.1)\n",
            "Requirement already satisfied: orjson>=3.10.1 in /usr/local/lib/python3.11/dist-packages (from langgraph-sdk<0.2.0,>=0.1.42->langgraph) (3.10.15)\n",
            "Requirement already satisfied: requests-toolbelt<2.0.0,>=1.0.0 in /usr/local/lib/python3.11/dist-packages (from langsmith<0.4,>=0.1.125->langchain_community) (1.0.0)\n",
            "Requirement already satisfied: zstandard<0.24.0,>=0.23.0 in /usr/local/lib/python3.11/dist-packages (from langsmith<0.4,>=0.1.125->langchain_community) (0.23.0)\n",
            "Requirement already satisfied: anyio<5,>=3.5.0 in /usr/local/lib/python3.11/dist-packages (from openai<2.0.0,>=1.58.1->langchain-openai) (3.7.1)\n",
            "Requirement already satisfied: distro<2,>=1.7.0 in /usr/local/lib/python3.11/dist-packages (from openai<2.0.0,>=1.58.1->langchain-openai) (1.9.0)\n",
            "Requirement already satisfied: jiter<1,>=0.4.0 in /usr/local/lib/python3.11/dist-packages (from openai<2.0.0,>=1.58.1->langchain-openai) (0.8.2)\n",
            "Requirement already satisfied: sniffio in /usr/local/lib/python3.11/dist-packages (from openai<2.0.0,>=1.58.1->langchain-openai) (1.3.1)\n",
            "Requirement already satisfied: tqdm>4 in /usr/local/lib/python3.11/dist-packages (from openai<2.0.0,>=1.58.1->langchain-openai) (4.67.1)\n",
            "Requirement already satisfied: charset-normalizer<4,>=2 in /usr/local/lib/python3.11/dist-packages (from requests<3,>=2->langchain_community) (3.4.1)\n",
            "Requirement already satisfied: idna<4,>=2.5 in /usr/local/lib/python3.11/dist-packages (from requests<3,>=2->langchain_community) (3.10)\n",
            "Requirement already satisfied: urllib3<3,>=1.21.1 in /usr/local/lib/python3.11/dist-packages (from requests<3,>=2->langchain_community) (2.3.0)\n",
            "Requirement already satisfied: certifi>=2017.4.17 in /usr/local/lib/python3.11/dist-packages (from requests<3,>=2->langchain_community) (2024.12.14)\n",
            "Requirement already satisfied: greenlet!=0.4.17 in /usr/local/lib/python3.11/dist-packages (from SQLAlchemy<3,>=1.4->langchain_community) (3.1.1)\n",
            "Requirement already satisfied: regex>=2022.1.18 in /usr/local/lib/python3.11/dist-packages (from tiktoken<1,>=0.7->langchain-openai) (2024.11.6)\n",
            "Requirement already satisfied: httpcore==1.* in /usr/local/lib/python3.11/dist-packages (from httpx>=0.25.2->langgraph-sdk<0.2.0,>=0.1.42->langgraph) (1.0.7)\n",
            "Requirement already satisfied: h11<0.15,>=0.13 in /usr/local/lib/python3.11/dist-packages (from httpcore==1.*->httpx>=0.25.2->langgraph-sdk<0.2.0,>=0.1.42->langgraph) (0.14.0)\n",
            "Requirement already satisfied: jsonpointer>=1.9 in /usr/local/lib/python3.11/dist-packages (from jsonpatch<2.0,>=1.33->langchain-core!=0.3.0,!=0.3.1,!=0.3.10,!=0.3.11,!=0.3.12,!=0.3.13,!=0.3.14,!=0.3.15,!=0.3.16,!=0.3.17,!=0.3.18,!=0.3.19,!=0.3.2,!=0.3.20,!=0.3.21,!=0.3.22,!=0.3.3,!=0.3.4,!=0.3.5,!=0.3.6,!=0.3.7,!=0.3.8,!=0.3.9,<0.4.0,>=0.2.43->langgraph) (3.0.0)\n",
            "Requirement already satisfied: annotated-types>=0.6.0 in /usr/local/lib/python3.11/dist-packages (from pydantic<3.0.0,>=2.7.4->langchain<0.4.0,>=0.3.16->langchain_community) (0.7.0)\n",
            "Requirement already satisfied: pydantic-core==2.27.2 in /usr/local/lib/python3.11/dist-packages (from pydantic<3.0.0,>=2.7.4->langchain<0.4.0,>=0.3.16->langchain_community) (2.27.2)\n",
            "Collecting mypy-extensions>=0.3.0 (from typing-inspect<1,>=0.4.0->dataclasses-json<0.7,>=0.5.7->langchain_community)\n",
            "  Downloading mypy_extensions-1.0.0-py3-none-any.whl.metadata (1.1 kB)\n",
            "Downloading langchain_community-0.3.16-py3-none-any.whl (2.5 MB)\n",
            "\u001b[2K   \u001b[90m━━━━━━━━━━━━━━━━━━━━━━━━━━━━━━━━━━━━━━━━\u001b[0m \u001b[32m2.5/2.5 MB\u001b[0m \u001b[31m27.9 MB/s\u001b[0m eta \u001b[36m0:00:00\u001b[0m\n",
            "\u001b[?25hDownloading dataclasses_json-0.6.7-py3-none-any.whl (28 kB)\n",
            "Downloading httpx_sse-0.4.0-py3-none-any.whl (7.8 kB)\n",
            "Downloading pydantic_settings-2.7.1-py3-none-any.whl (29 kB)\n",
            "Downloading marshmallow-3.26.0-py3-none-any.whl (50 kB)\n",
            "\u001b[2K   \u001b[90m━━━━━━━━━━━━━━━━━━━━━━━━━━━━━━━━━━━━━━━━\u001b[0m \u001b[32m50.8/50.8 kB\u001b[0m \u001b[31m3.2 MB/s\u001b[0m eta \u001b[36m0:00:00\u001b[0m\n",
            "\u001b[?25hDownloading typing_inspect-0.9.0-py3-none-any.whl (8.8 kB)\n",
            "Downloading mypy_extensions-1.0.0-py3-none-any.whl (4.7 kB)\n",
            "Installing collected packages: mypy-extensions, marshmallow, httpx-sse, typing-inspect, pydantic-settings, dataclasses-json, langchain_community\n",
            "Successfully installed dataclasses-json-0.6.7 httpx-sse-0.4.0 langchain_community-0.3.16 marshmallow-3.26.0 mypy-extensions-1.0.0 pydantic-settings-2.7.1 typing-inspect-0.9.0\n"
          ]
        }
      ],
      "source": [
        "!pip install langgraph langchain-openai python-dotenv langchain_community"
      ]
    },
    {
      "cell_type": "code",
      "source": [
        "from dotenv import load_dotenv\n",
        "\n",
        "load_dotenv()"
      ],
      "metadata": {
        "colab": {
          "base_uri": "https://localhost:8080/"
        },
        "id": "BgfFyB5eyvex",
        "outputId": "7b070687-f6f4-487b-e019-00141ee3bbce"
      },
      "execution_count": 5,
      "outputs": [
        {
          "output_type": "execute_result",
          "data": {
            "text/plain": [
              "True"
            ]
          },
          "metadata": {},
          "execution_count": 5
        }
      ]
    },
    {
      "cell_type": "code",
      "source": [
        "from typing import Annotated, TypedDict\n",
        "from langgraph.graph.message import add_messages\n",
        "from langchain_community.tools.tavily_search import TavilySearchResults\n",
        "from langgraph.prebuilt import ToolNode, tools_condition\n",
        "from langchain_openai import ChatOpenAI\n",
        "from langgraph.graph import StateGraph\n",
        "\n",
        "from langgraph.checkpoint.memory import MemorySaver\n",
        "\n",
        "memory = MemorySaver()\n",
        "\n",
        "class State(TypedDict):\n",
        "  messages: Annotated[list, add_messages]\n",
        "\n",
        "\n",
        "tool = TavilySearchResults(max_results=2)\n",
        "tool_node = ToolNode([tool])\n",
        "\n",
        "llm = ChatOpenAI(model='gpt-4o-mini')\n",
        "llm_with_tools = llm.bind_tools([tool])\n",
        "\n",
        "def chatbot(state: State):\n",
        "  result = llm_with_tools.invoke(state['messages'])\n",
        "  return {\"messages\": [result]}\n",
        "\n",
        "graph_builder = StateGraph(State)\n",
        "\n",
        "graph_builder.add_node(\"chatbot\", chatbot)\n",
        "graph_builder.add_node(\"tools\", tool_node)\n",
        "\n",
        "graph_builder.add_edge(\"tools\", \"chatbot\")\n",
        "graph_builder.add_conditional_edges(\"chatbot\", tools_condition)\n",
        "\n",
        "graph_builder.set_entry_point(\"chatbot\")\n",
        "graph = graph_builder.compile(checkpointer=memory)"
      ],
      "metadata": {
        "id": "IzG4c2sJ0JFi"
      },
      "execution_count": 6,
      "outputs": []
    },
    {
      "cell_type": "code",
      "source": [
        "config = {\"configurable\": {\"thread_id\": \"1\"}}\n",
        "\n",
        "while True:\n",
        "  user_input = input(\"User: \")\n",
        "  if user_input.lower() in ['quit', 'exit', 'q']:\n",
        "    print(\"Goodbye!\")\n",
        "    break\n",
        "  for event in graph.stream({\"messages\": (\"user\", user_input)}, config):\n",
        "    for value in event.values():\n",
        "      print(\"Assistant:\", value[\"messages\"][-1].content)"
      ],
      "metadata": {
        "colab": {
          "base_uri": "https://localhost:8080/"
        },
        "id": "Ue-hfGin1gAm",
        "outputId": "2489f8b1-cfae-453b-fcea-05d23d514079"
      },
      "execution_count": 7,
      "outputs": [
        {
          "output_type": "stream",
          "name": "stdout",
          "text": [
            "User: 대한민국의 대통령은 누구야?\n",
            "Assistant: \n",
            "Assistant: [{\"url\": \"https://en.wikipedia.org/wiki/President_of_South_Korea\", \"content\": \"The current president, Yoon Suk Yeol, a former prosecutor general and member of the conservative People Power Party, assumed office on 10 May 2022,[3][4] after defeating the Democratic Party's nominee Lee Jae-myung with a narrow 48.5% plurality in the 2022 South Korean presidential election.[5]\\nHistory[edit]\\nPrior to the establishment of the First Republic in 1948, the Provisional Government of the Republic of Korea established in Shanghai in September 1919 as the continuation of several governments proclaimed in the aftermath of March 1st Movement earlier that year coordinated resistance against Japanese rule. However, such individuals are still entitled to retain security protection under the Presidential Security Act.[15]\\nOrder of succession[edit]\\nArticle 71 of the Constitution of South Korea states, 'In the event of the president not being able to discharge the duties of his/her office, the Prime Minister and ministers in line of the order of succession shall be the acting president.' Chaired by the president, the council in 1990 had as its statutory members the prime minister, the deputy prime minister, the ministers for foreign affairs, home affairs, finance, and national defense, the director of the Agency for National Security Planning (ANSP) which was known as the Korean Central Intelligence Agency (KCIA) until December 1980, and others designated by the president. In the case of the President, the motion must be proposed by a majority and approved by two thirds or more of the total members of the National Assembly, meaning that 200 of 300 members of the parliament must approve the bill. Contents\\nPresident of South Korea\\nThe president of the Republic of Korea (Korean: 대한민국 대통령; RR: Daehanmin-guk daetongnyeong), also known as the president of South Korea (Korean: 대통령), is the head of state and head of government of the Republic of Korea.\"}, {\"url\": \"https://en.wikipedia.org/wiki/List_of_presidents_of_South_Korea\", \"content\": \"List of presidents of South Korea - Wikipedia (1917–1979) | 27 December 1972 | 26 October 1979[n 1] | 6 years, 304 days | Democratic Republican | 8th (1972) (1931–2021) | 25 February 1981 | 24 February 1988 | 7 years, 0 days | Democratic Justice | 12th (1981) | (1927–2015) | 25 February 1993 | 24 February 1998 | 5 years, 0 days | Democratic Liberal |  | Conservative | 9 | 21628 days[a] | Choi Kyu-hah, Chun Doo-hwan, Kim Young-sam, Lee Myung-bak, Park Chung Hee, Park Geun-hye, Roh Tae-woo, Syngman Rhee, and Yoon Suk Yeol (incumbent) | List of presidents of South Korea by time in office List of presidents of the Provisional Government of the Republic of Korea\"}]\n",
            "Assistant: 현재 대한민국의 대통령은 윤석열입니다. 그는 2022년 5월 10일에 취임하였으며, 보수 정당인 국민의힘 소속입니다. 윤석열은 더불어민주당의 후보인 이재명과의 2022년 대통령 선거에서 근소한 차이로 승리하였습니다. \n",
            "\n",
            "자세한 내용은 [위키백과](https://en.wikipedia.org/wiki/President_of_South_Korea)에서 확인할 수 있습니다.\n",
            "User: 첫 질문이 뭐였어?\n",
            "Assistant: 첫 질문은 \"대한민국의 대통령은 누구야?\"였습니다.\n",
            "User: q\n",
            "Goodbye!\n"
          ]
        }
      ]
    },
    {
      "cell_type": "markdown",
      "source": [
        "thread id에 따라서 대화 저장이 결정됨"
      ],
      "metadata": {
        "id": "eleRNnCG2RdL"
      }
    },
    {
      "cell_type": "code",
      "source": [
        "from IPython.display import display, Image\n",
        "\n",
        "display(Image(graph.get_graph().draw_mermaid_png()))"
      ],
      "metadata": {
        "colab": {
          "base_uri": "https://localhost:8080/",
          "height": 266
        },
        "id": "6tBfHMZc2BBo",
        "outputId": "2fd40fe2-916f-4f9e-c3a5-5a3657900023"
      },
      "execution_count": 8,
      "outputs": [
        {
          "output_type": "display_data",
          "data": {
            "image/png": "[encoded data removed]",
            "text/plain": [
              "<IPython.core.display.Image object>"
            ]
          },
          "metadata": {}
        }
      ]
    },
    {
      "cell_type": "code",
      "source": [
        "snapshot = graph.get_state(config)\n",
        "snapshot"
      ],
      "metadata": {
        "colab": {
          "base_uri": "https://localhost:8080/"
        },
        "id": "xB_7ZpBj2Zya",
        "outputId": "f8753be5-b463-42c1-fa90-47a3837b0040"
      },
      "execution_count": 9,
      "outputs": [
        {
          "output_type": "execute_result",
          "data": {
            "text/plain": [
              "StateSnapshot(values={'messages': [HumanMessage(content='대한민국의 대통령은 누구야?', additional_kwargs={}, response_metadata={}, id='39da4695-9d82-4df6-a582-0a2681713070'), AIMessage(content='', additional_kwargs={'tool_calls': [{'id': 'call_o9aBAoRcQKbcLaHWDSkFqzWX', 'function': {'arguments': '{\"query\":\"current president of South Korea\"}', 'name': 'tavily_search_results_json'}, 'type': 'function'}], 'refusal': None}, response_metadata={'token_usage': {'completion_tokens': 23, 'prompt_tokens': 87, 'total_tokens': 110, 'completion_tokens_details': {'accepted_prediction_tokens': 0, 'audio_tokens': 0, 'reasoning_tokens': 0, 'rejected_prediction_tokens': 0}, 'prompt_tokens_details': {'audio_tokens': 0, 'cached_tokens': 0}}, 'model_name': 'gpt-4o-mini-2024-07-18', 'system_fingerprint': 'fp_72ed7ab54c', 'finish_reason': 'tool_calls', 'logprobs': None}, id='run-9ed64939-d74d-402d-a5ac-565ef988f218-0', tool_calls=[{'name': 'tavily_search_results_json', 'args': {'query': 'current president of South Korea'}, 'id': 'call_o9aBAoRcQKbcLaHWDSkFqzWX', 'type': 'tool_call'}], usage_metadata={'input_tokens': 87, 'output_tokens': 23, 'total_tokens': 110, 'input_token_details': {'audio': 0, 'cache_read': 0}, 'output_token_details': {'audio': 0, 'reasoning': 0}}), ToolMessage(content='[{\"url\": \"https://en.wikipedia.org/wiki/President_of_South_Korea\", \"content\": \"The current president, Yoon Suk Yeol, a former prosecutor general and member of the conservative People Power Party, assumed office on 10 May 2022,[3][4] after defeating the Democratic Party\\'s nominee Lee Jae-myung with a narrow 48.5% plurality in the 2022 South Korean presidential election.[5]\\\\nHistory[edit]\\\\nPrior to the establishment of the First Republic in 1948, the Provisional Government of the Republic of Korea established in Shanghai in September 1919 as the continuation of several governments proclaimed in the aftermath of March 1st Movement earlier that year coordinated resistance against Japanese rule. However, such individuals are still entitled to retain security protection under the Presidential Security Act.[15]\\\\nOrder of succession[edit]\\\\nArticle 71 of the Constitution of South Korea states, \\'In the event of the president not being able to discharge the duties of his/her office, the Prime Minister and ministers in line of the order of succession shall be the acting president.\\' Chaired by the president, the council in 1990 had as its statutory members the prime minister, the deputy prime minister, the ministers for foreign affairs, home affairs, finance, and national defense, the director of the Agency for National Security Planning (ANSP) which was known as the Korean Central Intelligence Agency (KCIA) until December 1980, and others designated by the president. In the case of the President, the motion must be proposed by a majority and approved by two thirds or more of the total members of the National Assembly, meaning that 200 of 300 members of the parliament must approve the bill. Contents\\\\nPresident of South Korea\\\\nThe president of the Republic of Korea (Korean:\\xa0대한민국 대통령; RR:\\xa0Daehanmin-guk daetongnyeong), also known as the president of South Korea (Korean:\\xa0대통령), is the head of state and head of government of the Republic of Korea.\"}, {\"url\": \"https://en.wikipedia.org/wiki/List_of_presidents_of_South_Korea\", \"content\": \"List of presidents of South Korea - Wikipedia (1917–1979) | 27 December 1972 | 26 October 1979[n 1] | 6\\xa0years, 304\\xa0days | Democratic Republican | 8th (1972) (1931–2021) | 25 February 1981 | 24 February 1988 | 7\\xa0years, 0\\xa0days | Democratic Justice | 12th (1981) | (1927–2015) | 25 February 1993 | 24 February 1998 | 5\\xa0years, 0\\xa0days | Democratic Liberal |  | Conservative | 9 | 21628 days[a] | Choi Kyu-hah, Chun Doo-hwan, Kim Young-sam, Lee Myung-bak, Park Chung Hee, Park Geun-hye, Roh Tae-woo, Syngman Rhee, and Yoon Suk Yeol (incumbent) | List of presidents of South Korea by time in office List of presidents of the Provisional Government of the Republic of Korea\"}]', name='tavily_search_results_json', id='e136aa0e-f0e1-432f-8e80-b9842e759987', tool_call_id='call_o9aBAoRcQKbcLaHWDSkFqzWX', artifact={'query': 'current president of South Korea', 'follow_up_questions': None, 'answer': None, 'images': [], 'results': [{'title': 'President of South Korea - Wikipedia', 'url': 'https://en.wikipedia.org/wiki/President_of_South_Korea', 'content': \"The current president, Yoon Suk Yeol, a former prosecutor general and member of the conservative People Power Party, assumed office on 10 May 2022,[3][4] after defeating the Democratic Party's nominee Lee Jae-myung with a narrow 48.5% plurality in the 2022 South Korean presidential election.[5]\\nHistory[edit]\\nPrior to the establishment of the First Republic in 1948, the Provisional Government of the Republic of Korea established in Shanghai in September 1919 as the continuation of several governments proclaimed in the aftermath of March 1st Movement earlier that year coordinated resistance against Japanese rule. However, such individuals are still entitled to retain security protection under the Presidential Security Act.[15]\\nOrder of succession[edit]\\nArticle 71 of the Constitution of South Korea states, 'In the event of the president not being able to discharge the duties of his/her office, the Prime Minister and ministers in line of the order of succession shall be the acting president.' Chaired by the president, the council in 1990 had as its statutory members the prime minister, the deputy prime minister, the ministers for foreign affairs, home affairs, finance, and national defense, the director of the Agency for National Security Planning (ANSP) which was known as the Korean Central Intelligence Agency (KCIA) until December 1980, and others designated by the president. In the case of the President, the motion must be proposed by a majority and approved by two thirds or more of the total members of the National Assembly, meaning that 200 of 300 members of the parliament must approve the bill. Contents\\nPresident of South Korea\\nThe president of the Republic of Korea (Korean:\\xa0대한민국 대통령; RR:\\xa0Daehanmin-guk daetongnyeong), also known as the president of South Korea (Korean:\\xa0대통령), is the head of state and head of government of the Republic of Korea.\", 'score': 0.94808257, 'raw_content': None}, {'title': 'List of presidents of South Korea - Wikipedia', 'url': 'https://en.wikipedia.org/wiki/List_of_presidents_of_South_Korea', 'content': 'List of presidents of South Korea - Wikipedia (1917–1979) | 27 December 1972 | 26 October 1979[n 1] | 6\\xa0years, 304\\xa0days | Democratic Republican | 8th (1972) (1931–2021) | 25 February 1981 | 24 February 1988 | 7\\xa0years, 0\\xa0days | Democratic Justice | 12th (1981) | (1927–2015) | 25 February 1993 | 24 February 1998 | 5\\xa0years, 0\\xa0days | Democratic Liberal |  | Conservative | 9 | 21628 days[a] | Choi Kyu-hah, Chun Doo-hwan, Kim Young-sam, Lee Myung-bak, Park Chung Hee, Park Geun-hye, Roh Tae-woo, Syngman Rhee, and Yoon Suk Yeol (incumbent) | List of presidents of South Korea by time in office List of presidents of the Provisional Government of the Republic of Korea', 'score': 0.84948516, 'raw_content': None}], 'response_time': 2.02}), AIMessage(content='현재 대한민국의 대통령은 윤석열입니다. 그는 2022년 5월 10일에 취임하였으며, 보수 정당인 국민의힘 소속입니다. 윤석열은 더불어민주당의 후보인 이재명과의 2022년 대통령 선거에서 근소한 차이로 승리하였습니다. \\n\\n자세한 내용은 [위키백과](https://en.wikipedia.org/wiki/President_of_South_Korea)에서 확인할 수 있습니다.', additional_kwargs={'refusal': None}, response_metadata={'token_usage': {'completion_tokens': 111, 'prompt_tokens': 800, 'total_tokens': 911, 'completion_tokens_details': {'accepted_prediction_tokens': 0, 'audio_tokens': 0, 'reasoning_tokens': 0, 'rejected_prediction_tokens': 0}, 'prompt_tokens_details': {'audio_tokens': 0, 'cached_tokens': 0}}, 'model_name': 'gpt-4o-mini-2024-07-18', 'system_fingerprint': 'fp_72ed7ab54c', 'finish_reason': 'stop', 'logprobs': None}, id='run-524fb206-006a-403f-90cf-829eb8e79d38-0', usage_metadata={'input_tokens': 800, 'output_tokens': 111, 'total_tokens': 911, 'input_token_details': {'audio': 0, 'cache_read': 0}, 'output_token_details': {'audio': 0, 'reasoning': 0}}), HumanMessage(content='첫 질문이 뭐였어?', additional_kwargs={}, response_metadata={}, id='eadbb3c4-a7a6-43a8-ae21-3ce87b4a2b05'), AIMessage(content='첫 질문은 \"대한민국의 대통령은 누구야?\"였습니다.', additional_kwargs={'refusal': None}, response_metadata={'token_usage': {'completion_tokens': 16, 'prompt_tokens': 924, 'total_tokens': 940, 'completion_tokens_details': {'accepted_prediction_tokens': 0, 'audio_tokens': 0, 'reasoning_tokens': 0, 'rejected_prediction_tokens': 0}, 'prompt_tokens_details': {'audio_tokens': 0, 'cached_tokens': 0}}, 'model_name': 'gpt-4o-mini-2024-07-18', 'system_fingerprint': 'fp_72ed7ab54c', 'finish_reason': 'stop', 'logprobs': None}, id='run-56c90479-5d9a-487c-9f86-586358ef40c2-0', usage_metadata={'input_tokens': 924, 'output_tokens': 16, 'total_tokens': 940, 'input_token_details': {'audio': 0, 'cache_read': 0}, 'output_token_details': {'audio': 0, 'reasoning': 0}})]}, next=(), config={'configurable': {'thread_id': '1', 'checkpoint_ns': '', 'checkpoint_id': '1efe0a63-67a2-69e7-8006-767be5d67afd'}}, metadata={'source': 'loop', 'writes': {'chatbot': {'messages': [AIMessage(content='첫 질문은 \"대한민국의 대통령은 누구야?\"였습니다.', additional_kwargs={'refusal': None}, response_metadata={'token_usage': {'completion_tokens': 16, 'prompt_tokens': 924, 'total_tokens': 940, 'completion_tokens_details': {'accepted_prediction_tokens': 0, 'audio_tokens': 0, 'reasoning_tokens': 0, 'rejected_prediction_tokens': 0}, 'prompt_tokens_details': {'audio_tokens': 0, 'cached_tokens': 0}}, 'model_name': 'gpt-4o-mini-2024-07-18', 'system_fingerprint': 'fp_72ed7ab54c', 'finish_reason': 'stop', 'logprobs': None}, id='run-56c90479-5d9a-487c-9f86-586358ef40c2-0', usage_metadata={'input_tokens': 924, 'output_tokens': 16, 'total_tokens': 940, 'input_token_details': {'audio': 0, 'cache_read': 0}, 'output_token_details': {'audio': 0, 'reasoning': 0}})]}}, 'thread_id': '1', 'step': 6, 'parents': {}}, created_at='2025-02-01T14:09:55.494300+00:00', parent_config={'configurable': {'thread_id': '1', 'checkpoint_ns': '', 'checkpoint_id': '1efe0a63-5d8e-6b44-8005-23b79ce9586c'}}, tasks=())"
            ]
          },
          "metadata": {},
          "execution_count": 9
        }
      ]
    },
    {
      "cell_type": "code",
      "source": [
        "config2 = {\"configurable\": {\"thread_id\": \"2\"}}\n",
        "\n",
        "graph.invoke({\"messages\": [{\"role\":\"user\", \"content\": \"내가 한 첫 질문이 뭐였어?\"}]}, config2)"
      ],
      "metadata": {
        "colab": {
          "base_uri": "https://localhost:8080/"
        },
        "id": "XC2wl3jj2dcg",
        "outputId": "e70149f8-07c4-4876-f33c-a657b99ec0bc"
      },
      "execution_count": 10,
      "outputs": [
        {
          "output_type": "execute_result",
          "data": {
            "text/plain": [
              "{'messages': [HumanMessage(content='내가 한 첫 질문이 뭐였어?', additional_kwargs={}, response_metadata={}, id='b9c2cc3e-860e-4aaf-94a7-62095069587f'),\n",
              "  AIMessage(content='죄송하지만, 이전 대화 내용을 기억하거나 저장할 수는 없습니다. 하지만 새로 질문해 주시면 최대한 도움을 드리겠습니다!', additional_kwargs={'refusal': None}, response_metadata={'token_usage': {'completion_tokens': 33, 'prompt_tokens': 89, 'total_tokens': 122, 'completion_tokens_details': {'accepted_prediction_tokens': 0, 'audio_tokens': 0, 'reasoning_tokens': 0, 'rejected_prediction_tokens': 0}, 'prompt_tokens_details': {'audio_tokens': 0, 'cached_tokens': 0}}, 'model_name': 'gpt-4o-mini-2024-07-18', 'system_fingerprint': 'fp_bd83329f63', 'finish_reason': 'stop', 'logprobs': None}, id='run-a6a8b2d6-39d5-4dda-b90d-12066b5c57b5-0', usage_metadata={'input_tokens': 89, 'output_tokens': 33, 'total_tokens': 122, 'input_token_details': {'audio': 0, 'cache_read': 0}, 'output_token_details': {'audio': 0, 'reasoning': 0}})]}"
            ]
          },
          "metadata": {},
          "execution_count": 10
        }
      ]
    },
    {
      "cell_type": "code",
      "source": [
        "def filter_messages(messages: list):\n",
        "  return messages[-2:]\n",
        "\n",
        "def chatbot(state: State):\n",
        "  messages = filter_messages(state[\"messages\"])\n",
        "  result = llm_with_tools.invoke(messages)\n",
        "  return {\"messages\": [result]}\n",
        "\n",
        "graph_builder = StateGraph(State)\n",
        "\n",
        "graph_builder.add_node('chatbot', chatbot)\n",
        "graph_builder.add_node('tools', tool_node)\n",
        "graph_builder.add_edge('chatbot', 'tools')\n",
        "graph_builder.add_conditional_edges('chatbot', tools_condition)\n",
        "graph_builder.set_entry_point('chatbot')\n",
        "\n",
        "graph = graph_builder.compile(checkpointer=memory)"
      ],
      "metadata": {
        "id": "qYW4lF_T3C4A"
      },
      "execution_count": 11,
      "outputs": []
    },
    {
      "cell_type": "code",
      "source": [
        "from langchain_core.messages import HumanMessage\n",
        "\n",
        "config = {\"configurable\": {\"thread_id\": \"20\"}}\n",
        "input_message = HumanMessage(content=\"hi! I'm bob and I like soccer\")\n",
        "for event in graph.stream({\"messages\": [input_message]}, config, stream_mode=\"values\"):\n",
        "    event[\"messages\"][-1].pretty_print()\n",
        "\n",
        "# This will now not remember the previous messages\n",
        "# (because we set `messages[-1:]` in the filter messages argument)\n",
        "input_message = HumanMessage(content=\"what's my name?\")\n",
        "for event in graph.stream({\"messages\": [input_message]}, config, stream_mode=\"values\"):\n",
        "    event[\"messages\"][-1].pretty_print()\n",
        "\n",
        "input_message = HumanMessage(content=\"what's my name?\")\n",
        "for event in graph.stream({\"messages\": [input_message]}, config, stream_mode=\"values\"):\n",
        "    event[\"messages\"][-1].pretty_print()\n",
        "\n",
        "input_message = HumanMessage(content=\"what's my favorite?\")\n",
        "for event in graph.stream({\"messages\": [input_message]}, config, stream_mode=\"values\"):\n",
        "    event[\"messages\"][-1].pretty_print()"
      ],
      "metadata": {
        "colab": {
          "base_uri": "https://localhost:8080/"
        },
        "id": "xn8Z-Y3q4Aop",
        "outputId": "5067585e-2cc9-4284-9378-dbbc6e9fb5ea"
      },
      "execution_count": 12,
      "outputs": [
        {
          "output_type": "stream",
          "name": "stdout",
          "text": [
            "================================\u001b[1m Human Message \u001b[0m=================================\n",
            "\n",
            "hi! I'm bob and I like soccer\n",
            "==================================\u001b[1m Ai Message \u001b[0m==================================\n",
            "\n",
            "Hi Bob! That's great to hear! Soccer is an exciting sport with a rich history and a huge fan base worldwide. Do you have a favorite team or player?\n",
            "==================================\u001b[1m Ai Message \u001b[0m==================================\n",
            "\n",
            "Hi Bob! That's great to hear! Soccer is an exciting sport with a rich history and a huge fan base worldwide. Do you have a favorite team or player?\n",
            "================================\u001b[1m Human Message \u001b[0m=================================\n",
            "\n",
            "what's my name?\n",
            "==================================\u001b[1m Ai Message \u001b[0m==================================\n",
            "\n",
            "Your name is Bob!\n",
            "==================================\u001b[1m Ai Message \u001b[0m==================================\n",
            "\n",
            "Your name is Bob!\n",
            "================================\u001b[1m Human Message \u001b[0m=================================\n",
            "\n",
            "what's my name?\n",
            "==================================\u001b[1m Ai Message \u001b[0m==================================\n",
            "\n",
            "Your name is Bob!\n",
            "==================================\u001b[1m Ai Message \u001b[0m==================================\n",
            "\n",
            "Your name is Bob!\n",
            "================================\u001b[1m Human Message \u001b[0m=================================\n",
            "\n",
            "what's my favorite?\n",
            "==================================\u001b[1m Ai Message \u001b[0m==================================\n",
            "\n",
            "I don't have access to your personal preferences or favorites. If you'd like to share what your favorites are, I can help you with information related to them!\n",
            "==================================\u001b[1m Ai Message \u001b[0m==================================\n",
            "\n",
            "I don't have access to your personal preferences or favorites. If you'd like to share what your favorites are, I can help you with information related to them!\n"
          ]
        }
      ]
    },
    {
      "cell_type": "code",
      "source": [],
      "metadata": {
        "id": "3ju5nhYg4Cfs"
      },
      "execution_count": null,
      "outputs": []
    }
  ]
}