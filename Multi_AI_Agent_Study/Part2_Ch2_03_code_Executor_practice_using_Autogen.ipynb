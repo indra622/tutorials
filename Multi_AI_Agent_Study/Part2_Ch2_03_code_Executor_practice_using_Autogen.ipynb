{
  "nbformat": 4,
  "nbformat_minor": 0,
  "metadata": {
    "colab": {
      "provenance": [],
      "authorship_tag": "ABX9TyN93VCNBM/Ba361vQEKoziw",
      "include_colab_link": true
    },
    "kernelspec": {
      "name": "python3",
      "display_name": "Python 3"
    },
    "language_info": {
      "name": "python"
    }
  },
  "cells": [
    {
      "cell_type": "markdown",
      "metadata": {
        "id": "view-in-github",
        "colab_type": "text"
      },
      "source": [
        "<a href=\"https://colab.research.google.com/github/indra622/tutorials/blob/master/Multi_AI_Agent_Study/Part2_Ch2_03_code_Executor_practice_using_Autogen.ipynb\" target=\"_parent\"><img src=\"https://colab.research.google.com/assets/colab-badge.svg\" alt=\"Open In Colab\"/></a>"
      ]
    },
    {
      "cell_type": "code",
      "execution_count": 4,
      "metadata": {
        "id": "P39vK8lNuh-b"
      },
      "outputs": [],
      "source": [
        "!pip install -q pyautogen"
      ]
    },
    {
      "cell_type": "code",
      "source": [
        "import os\n",
        "from dotenv import load_dotenv\n",
        "load_dotenv()\n",
        "\n",
        "os.environ['OPENAI_API_KEY'] = os.getenv('OPENAI_API_KEY')"
      ],
      "metadata": {
        "id": "_9SydRvtuky6"
      },
      "execution_count": 5,
      "outputs": []
    },
    {
      "cell_type": "code",
      "source": [
        "import autogen\n",
        "from autogen.coding import LocalCommandLineCodeExecutor\n",
        "\n",
        "config_list = [{'model': 'gpt-4o-mini', 'api_key': os.getenv('OPENAI_API_KEY')}]"
      ],
      "metadata": {
        "id": "w17xydQ5ulyB"
      },
      "execution_count": 6,
      "outputs": []
    },
    {
      "cell_type": "code",
      "source": [
        "assistant = autogen.AssistantAgent(\n",
        "    name='assistant',\n",
        "    llm_config={\"config_list\": config_list, \"temperature\": 0,},\n",
        ")\n",
        "\n",
        "user_proxy = autogen.UserProxyAgent(\n",
        "    name='user_proxy',\n",
        "    max_consecutive_auto_reply=10,\n",
        "    is_termination_msg=lambda x: x.get('content', '').rstrip().endswith('TERMINATE'),\n",
        "    code_execution_config={\n",
        "        \"executor\": LocalCommandLineCodeExecutor(work_dir=\"coding\"),\n",
        "    },\n",
        "    human_input_mode='ALWAYS',\n",
        ")\n",
        "\n",
        "chat_res = user_proxy.initiate_chat(\n",
        "    assistant,\n",
        "    message=\"\"\"100까지 소수가 어떤 것이 있는지 코드로 살펴봐주세요.\"\"\",\n",
        "    summary_method=\"reflection_with_llm\",\n",
        ")\n",
        "\n",
        "\n",
        ""
      ],
      "metadata": {
        "colab": {
          "base_uri": "https://localhost:8080/"
        },
        "id": "ao_efCkbuyv6",
        "outputId": "2a33a9b0-59fe-4f45-c61c-da1c48dc419a"
      },
      "execution_count": 8,
      "outputs": [
        {
          "name": "stdout",
          "output_type": "stream",
          "text": [
            "user_proxy (to assistant):\n",
            "\n",
            "100까지 소수가 어떤 것이 있는지 코드로 살펴봐주세요.\n",
            "\n",
            "--------------------------------------------------------------------------------\n",
            "assistant (to user_proxy):\n",
            "\n",
            "소수를 찾기 위해 1부터 100까지의 숫자를 검사하는 파이썬 코드를 작성하겠습니다. 이 코드는 소수를 판별하고, 100 이하의 모든 소수를 출력할 것입니다.\n",
            "\n",
            "아래 코드를 실행해 주세요.\n",
            "\n",
            "```python\n",
            "# filename: find_primes.py\n",
            "def is_prime(n):\n",
            "    if n <= 1:\n",
            "        return False\n",
            "    for i in range(2, int(n**0.5) + 1):\n",
            "        if n % i == 0:\n",
            "            return False\n",
            "    return True\n",
            "\n",
            "primes = [num for num in range(1, 101) if is_prime(num)]\n",
            "print(primes)\n",
            "```\n",
            "\n",
            "코드를 실행한 후 결과를 알려주세요.\n",
            "\n",
            "--------------------------------------------------------------------------------\n",
            "Replying as user_proxy. Provide feedback to assistant. Press enter to skip and use auto-reply, or type 'exit' to end the conversation: ,\n",
            "user_proxy (to assistant):\n",
            "\n",
            ",\n",
            "\n",
            "--------------------------------------------------------------------------------\n",
            "assistant (to user_proxy):\n",
            "\n",
            "코드 실행에 문제가 있었던 것 같습니다. 다시 한 번 전체 코드를 제공하겠습니다. 아래 코드를 실행해 주세요.\n",
            "\n",
            "```python\n",
            "# filename: find_primes.py\n",
            "def is_prime(n):\n",
            "    if n <= 1:\n",
            "        return False\n",
            "    for i in range(2, int(n**0.5) + 1):\n",
            "        if n % i == 0:\n",
            "            return False\n",
            "    return True\n",
            "\n",
            "primes = [num for num in range(1, 101) if is_prime(num)]\n",
            "print(primes)\n",
            "```\n",
            "\n",
            "코드를 실행한 후 결과를 알려주세요.\n",
            "\n",
            "--------------------------------------------------------------------------------\n",
            "Replying as user_proxy. Provide feedback to assistant. Press enter to skip and use auto-reply, or type 'exit' to end the conversation: \n",
            "\n",
            ">>>>>>>> NO HUMAN INPUT RECEIVED.\n",
            "\n",
            ">>>>>>>> USING AUTO REPLY...\n",
            "\n",
            ">>>>>>>> EXECUTING CODE BLOCK (inferred language is python)...\n",
            "user_proxy (to assistant):\n",
            "\n",
            "exitcode: 0 (execution succeeded)\n",
            "Code output: [2, 3, 5, 7, 11, 13, 17, 19, 23, 29, 31, 37, 41, 43, 47, 53, 59, 61, 67, 71, 73, 79, 83, 89, 97]\n",
            "\n",
            "\n",
            "--------------------------------------------------------------------------------\n",
            "assistant (to user_proxy):\n",
            "\n",
            "100 이하의 소수는 다음과 같습니다:\n",
            "\n",
            "\\[ 2, 3, 5, 7, 11, 13, 17, 19, 23, 29, 31, 37, 41, 43, 47, 53, 59, 61, 67, 71, 73, 79, 83, 89, 97 \\]\n",
            "\n",
            "작업이 완료되었습니다. 추가로 도움이 필요하시면 말씀해 주세요.\n",
            "\n",
            "TERMINATE\n",
            "\n",
            "--------------------------------------------------------------------------------\n",
            "Replying as user_proxy. Provide feedback to assistant. Press enter to skip and use auto-reply, or type 'exit' to end the conversation: exit\n"
          ]
        }
      ]
    },
    {
      "cell_type": "code",
      "source": [
        "print('chat history:', chat_res.chat_history)\n",
        "print(\"-\"*50)\n",
        "print(\"summary:\", chat_res.summary)\n",
        "print(\"-\"*50)"
      ],
      "metadata": {
        "colab": {
          "base_uri": "https://localhost:8080/"
        },
        "id": "gkwRVmlous-u",
        "outputId": "7fd71396-5677-4159-a88f-d2efa72b7030"
      },
      "execution_count": 9,
      "outputs": [
        {
          "output_type": "stream",
          "name": "stdout",
          "text": [
            "chat history: [{'content': '100까지 소수가 어떤 것이 있는지 코드로 살펴봐주세요.', 'role': 'assistant', 'name': 'user_proxy'}, {'content': '소수를 찾기 위해 1부터 100까지의 숫자를 검사하는 파이썬 코드를 작성하겠습니다. 이 코드는 소수를 판별하고, 100 이하의 모든 소수를 출력할 것입니다.\\n\\n아래 코드를 실행해 주세요.\\n\\n```python\\n# filename: find_primes.py\\ndef is_prime(n):\\n    if n <= 1:\\n        return False\\n    for i in range(2, int(n**0.5) + 1):\\n        if n % i == 0:\\n            return False\\n    return True\\n\\nprimes = [num for num in range(1, 101) if is_prime(num)]\\nprint(primes)\\n```\\n\\n코드를 실행한 후 결과를 알려주세요.', 'role': 'user', 'name': 'assistant'}, {'content': ',', 'role': 'assistant', 'name': 'user_proxy'}, {'content': '코드 실행에 문제가 있었던 것 같습니다. 다시 한 번 전체 코드를 제공하겠습니다. 아래 코드를 실행해 주세요.\\n\\n```python\\n# filename: find_primes.py\\ndef is_prime(n):\\n    if n <= 1:\\n        return False\\n    for i in range(2, int(n**0.5) + 1):\\n        if n % i == 0:\\n            return False\\n    return True\\n\\nprimes = [num for num in range(1, 101) if is_prime(num)]\\nprint(primes)\\n```\\n\\n코드를 실행한 후 결과를 알려주세요.', 'role': 'user', 'name': 'assistant'}, {'content': 'exitcode: 0 (execution succeeded)\\nCode output: [2, 3, 5, 7, 11, 13, 17, 19, 23, 29, 31, 37, 41, 43, 47, 53, 59, 61, 67, 71, 73, 79, 83, 89, 97]\\n', 'role': 'assistant', 'name': 'user_proxy'}, {'content': '100 이하의 소수는 다음과 같습니다:\\n\\n\\\\[ 2, 3, 5, 7, 11, 13, 17, 19, 23, 29, 31, 37, 41, 43, 47, 53, 59, 61, 67, 71, 73, 79, 83, 89, 97 \\\\]\\n\\n작업이 완료되었습니다. 추가로 도움이 필요하시면 말씀해 주세요.\\n\\nTERMINATE', 'role': 'user', 'name': 'assistant'}]\n",
            "--------------------------------------------------\n",
            "summary: The conversation involved providing a Python code snippet to find all prime numbers up to 100. The output of the code listed the prime numbers: [2, 3, 5, 7, 11, 13, 17, 19, 23, 29, 31, 37, 41, 43, 47, 53, 59, 61, 67, 71, 73, 79, 83, 89, 97].\n",
            "--------------------------------------------------\n"
          ]
        }
      ]
    },
    {
      "cell_type": "code",
      "source": [],
      "metadata": {
        "id": "5kmDE5LdwLAd"
      },
      "execution_count": null,
      "outputs": []
    }
  ]
}