{
 "cells": [
  {
   "cell_type": "code",
   "execution_count": 1,
   "metadata": {},
   "outputs": [],
   "source": [
    "import os\n",
    "from dotenv import load_dotenv\n",
    "\n",
    "load_dotenv()  # .env 파일에서 환경 변수를 읽어와 시스템 환경 변수에 추가\n",
    "\n",
    "api_key = os.getenv(\"GEMINI_API_KEY\")\n",
    "vanna_api_key = os.getenv(\"MY_VANNA_API_KEY\")\n",
    "\n",
    "\n",
    "from vanna.vannadb import VannaDB_VectorStore\n",
    "from vanna.google import GoogleGeminiChat"
   ]
  },
  {
   "cell_type": "code",
   "execution_count": 2,
   "metadata": {},
   "outputs": [
    {
     "name": "stderr",
     "output_type": "stream",
     "text": [
      "/Users/hosung/anaconda3/envs/vanna/lib/python3.11/site-packages/tqdm/auto.py:21: TqdmWarning: IProgress not found. Please update jupyter and ipywidgets. See https://ipywidgets.readthedocs.io/en/stable/user_install.html\n",
      "  from .autonotebook import tqdm as notebook_tqdm\n"
     ]
    }
   ],
   "source": [
    "class MyVanna(VannaDB_VectorStore, GoogleGeminiChat):\n",
    "    def __init__(self, config=None):\n",
    "        MY_VANNA_MODEL = 'hosung_test' # Your model name from https://vanna.ai/account/profile\n",
    "        VannaDB_VectorStore.__init__(self, vanna_model=MY_VANNA_MODEL, vanna_api_key=vanna_api_key, config=config)\n",
    "        GoogleGeminiChat.__init__(self, config={'api_key': api_key, 'model': 'gemini-2.0-flash-exp'})\n",
    "\n",
    "vn = MyVanna()"
   ]
  },
  {
   "cell_type": "code",
   "execution_count": 3,
   "metadata": {},
   "outputs": [],
   "source": [
    "vn.connect_to_mysql(host='127.0.0.1', dbname='hosungdb', user='root', password='hosung-secret', port=3306)\n"
   ]
  },
  {
   "cell_type": "code",
   "execution_count": 5,
   "metadata": {},
   "outputs": [],
   "source": [
    "# The information schema query may need some tweaking depending on your database. This is a good starting point.\n",
    "df_information_schema = vn.run_sql(\"SELECT * FROM INFORMATION_SCHEMA.COLUMNS\")\n",
    "\n",
    "# This will break up the information schema into bite-sized chunks that can be referenced by the LLM\n",
    "plan = vn.get_training_plan_generic(df_information_schema)\n",
    "plan\n",
    "\n",
    "# If you like the plan, then uncomment this and run it to train\n",
    "vn.train(plan=plan)"
   ]
  },
  {
   "cell_type": "code",
   "execution_count": 9,
   "metadata": {},
   "outputs": [
    {
     "ename": "TypeError",
     "evalue": "'NoneType' object is not iterable",
     "output_type": "error",
     "traceback": [
      "\u001b[0;31m---------------------------------------------------------------------------\u001b[0m",
      "\u001b[0;31mTypeError\u001b[0m                                 Traceback (most recent call last)",
      "Cell \u001b[0;32mIn[9], line 4\u001b[0m\n\u001b[1;32m      1\u001b[0m \u001b[38;5;66;03m# The following are methods for adding training data. Make sure you modify the examples to match your database.\u001b[39;00m\n\u001b[1;32m      2\u001b[0m \n\u001b[1;32m      3\u001b[0m \u001b[38;5;66;03m# DDL statements are powerful because they specify table names, colume names, types, and potentially relationships\u001b[39;00m\n\u001b[0;32m----> 4\u001b[0m \u001b[43mvn\u001b[49m\u001b[38;5;241;43m.\u001b[39;49m\u001b[43mrun_sql\u001b[49m\u001b[43m(\u001b[49m\u001b[38;5;124;43m\"\"\"\u001b[39;49m\n\u001b[1;32m      5\u001b[0m \u001b[38;5;124;43m    CREATE TABLE IF NOT EXISTS `my-table` (\u001b[39;49m\n\u001b[1;32m      6\u001b[0m \u001b[38;5;124;43m        id INT PRIMARY KEY,\u001b[39;49m\n\u001b[1;32m      7\u001b[0m \u001b[38;5;124;43m        name VARCHAR(100),\u001b[39;49m\n\u001b[1;32m      8\u001b[0m \u001b[38;5;124;43m        age INT\u001b[39;49m\n\u001b[1;32m      9\u001b[0m \u001b[38;5;124;43m    )\u001b[39;49m\n\u001b[1;32m     10\u001b[0m \u001b[38;5;124;43m\"\"\"\u001b[39;49m\u001b[43m)\u001b[49m\n\u001b[1;32m     13\u001b[0m \u001b[38;5;66;03m# Sometimes you may want to add documentation about your business terminology or definitions.\u001b[39;00m\n\u001b[1;32m     14\u001b[0m vn\u001b[38;5;241m.\u001b[39mtrain(documentation\u001b[38;5;241m=\u001b[39m\u001b[38;5;124m\"\u001b[39m\u001b[38;5;124mOur business defines OTIF score as the percentage of orders that are delivered on time and in full\u001b[39m\u001b[38;5;124m\"\u001b[39m)\n",
      "File \u001b[0;32m~/anaconda3/envs/vanna/lib/python3.11/site-packages/vanna/base/base.py:1071\u001b[0m, in \u001b[0;36mVannaBase.connect_to_mysql.<locals>.run_sql_mysql\u001b[0;34m(sql)\u001b[0m\n\u001b[1;32m   1069\u001b[0m \u001b[38;5;28;01mexcept\u001b[39;00m \u001b[38;5;167;01mException\u001b[39;00m \u001b[38;5;28;01mas\u001b[39;00m e:\n\u001b[1;32m   1070\u001b[0m     conn\u001b[38;5;241m.\u001b[39mrollback()\n\u001b[0;32m-> 1071\u001b[0m     \u001b[38;5;28;01mraise\u001b[39;00m e\n",
      "File \u001b[0;32m~/anaconda3/envs/vanna/lib/python3.11/site-packages/vanna/base/base.py:1061\u001b[0m, in \u001b[0;36mVannaBase.connect_to_mysql.<locals>.run_sql_mysql\u001b[0;34m(sql)\u001b[0m\n\u001b[1;32m   1057\u001b[0m     results \u001b[38;5;241m=\u001b[39m cs\u001b[38;5;241m.\u001b[39mfetchall()\n\u001b[1;32m   1059\u001b[0m     \u001b[38;5;66;03m# Create a pandas dataframe from the results\u001b[39;00m\n\u001b[1;32m   1060\u001b[0m     df \u001b[38;5;241m=\u001b[39m pd\u001b[38;5;241m.\u001b[39mDataFrame(\n\u001b[0;32m-> 1061\u001b[0m         results, columns\u001b[38;5;241m=\u001b[39m\u001b[43m[\u001b[49m\u001b[43mdesc\u001b[49m\u001b[43m[\u001b[49m\u001b[38;5;241;43m0\u001b[39;49m\u001b[43m]\u001b[49m\u001b[43m \u001b[49m\u001b[38;5;28;43;01mfor\u001b[39;49;00m\u001b[43m \u001b[49m\u001b[43mdesc\u001b[49m\u001b[43m \u001b[49m\u001b[38;5;129;43;01min\u001b[39;49;00m\u001b[43m \u001b[49m\u001b[43mcs\u001b[49m\u001b[38;5;241;43m.\u001b[39;49m\u001b[43mdescription\u001b[49m\u001b[43m]\u001b[49m\n\u001b[1;32m   1062\u001b[0m     )\n\u001b[1;32m   1063\u001b[0m     \u001b[38;5;28;01mreturn\u001b[39;00m df\n\u001b[1;32m   1065\u001b[0m \u001b[38;5;28;01mexcept\u001b[39;00m pymysql\u001b[38;5;241m.\u001b[39mError \u001b[38;5;28;01mas\u001b[39;00m e:\n",
      "\u001b[0;31mTypeError\u001b[0m: 'NoneType' object is not iterable"
     ]
    }
   ],
   "source": [
    "# The following are methods for adding training data. Make sure you modify the examples to match your database.\n",
    "\n",
    "# DDL statements are powerful because they specify table names, colume names, types, and potentially relationships\n",
    "vn.train(ddl=\"\"\"\n",
    "    CREATE TABLE IF NOT EXISTS my-table (\n",
    "        id INT PRIMARY KEY,\n",
    "        name VARCHAR(100),\n",
    "        age INT\n",
    "    )\n",
    "\"\"\")\n",
    "\n",
    "\n",
    "# Sometimes you may want to add documentation about your business terminology or definitions.\n",
    "vn.train(documentation=\"Our business defines OTIF score as the percentage of orders that are delivered on time and in full\")\n",
    "\n",
    "# You can also add SQL queries to your training data. This is useful if you have some queries already laying around. You can just copy and paste those from your editor to begin generating new SQL.\n",
    "vn.train(sql=\"SELECT * FROM my-table WHERE name = 'John Doe'\")"
   ]
  },
  {
   "cell_type": "code",
   "execution_count": null,
   "metadata": {},
   "outputs": [],
   "source": [
    "# At any time you can inspect what training data the package is able to reference\n",
    "training_data = vn.get_training_data()\n",
    "training_data"
   ]
  },
  {
   "cell_type": "code",
   "execution_count": null,
   "metadata": {},
   "outputs": [],
   "source": [
    "training_data"
   ]
  },
  {
   "cell_type": "code",
   "execution_count": null,
   "metadata": {},
   "outputs": [],
   "source": [
    "training_data"
   ]
  },
  {
   "cell_type": "code",
   "execution_count": null,
   "metadata": {},
   "outputs": [],
   "source": [
    "# You can remove training data if there's obsolete/incorrect information. \n",
    "vn.remove_training_data(id='455835-ddl')"
   ]
  },
  {
   "cell_type": "code",
   "execution_count": null,
   "metadata": {},
   "outputs": [],
   "source": [
    "vn.ask(question=...)"
   ]
  },
  {
   "cell_type": "code",
   "execution_count": null,
   "metadata": {},
   "outputs": [],
   "source": [
    "from vanna.flask import VannaFlaskApp\n",
    "app = VannaFlaskApp(vn)\n",
    "app.run()"
   ]
  },
  {
   "cell_type": "code",
   "execution_count": null,
   "metadata": {},
   "outputs": [],
   "source": []
  }
 ],
 "metadata": {
  "kernelspec": {
   "display_name": "vanna",
   "language": "python",
   "name": "python3"
  },
  "language_info": {
   "codemirror_mode": {
    "name": "ipython",
    "version": 3
   },
   "file_extension": ".py",
   "mimetype": "text/x-python",
   "name": "python",
   "nbconvert_exporter": "python",
   "pygments_lexer": "ipython3",
   "version": "3.11.11"
  }
 },
 "nbformat": 4,
 "nbformat_minor": 2
}
