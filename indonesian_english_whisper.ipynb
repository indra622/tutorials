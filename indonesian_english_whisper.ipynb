{
 "cells": [
  {
   "cell_type": "code",
   "execution_count": 16,
   "metadata": {},
   "outputs": [],
   "source": [
    "# Select CUDA device index\n",
    "import os\n",
    "import torch\n",
    "from transformers import WhisperProcessor, WhisperForConditionalGeneration, pipeline\n",
    "from datasets import load_dataset\n",
    "\n",
    "import torchaudio\n",
    "import torchaudio.transforms as T\n",
    "\n",
    "#model_name_or_path = \"openai/whisper-large-v3\"\n",
    "model_name_or_path = \"distil-whisper/distil-large-v3\"\n",
    "language = \"id\"\n",
    "\n",
    "\n",
    "\n",
    "device = \"cuda:1\" if torch.cuda.is_available() else \"cpu\"\n",
    "torch_dtype = torch.float16 if torch.cuda.is_available() else torch.float32\n",
    "\n",
    "model = WhisperForConditionalGeneration.from_pretrained(\n",
    "    model_name_or_path, torch_dtype=torch.float32, low_cpu_mem_usage=True, use_safetensors=True,\n",
    ")\n",
    "model.to(device)\n",
    "\n",
    "processor = WhisperProcessor.from_pretrained(model_name_or_path)\n",
    "\n",
    "\n",
    "def transcribe(procesor, model, file, language='en'):\n",
    "    audio, rate = torchaudio.load(file)\n",
    "\n",
    "    if rate != 16000:\n",
    "        resampler = T.Resample(orig_freq=rate, new_freq=16000)\n",
    "        audio = resampler(audio)\n",
    "        rate = 16000\n",
    "\n",
    "    input_features = processor(audio.squeeze(), sampling_rate=rate, return_tensors=\"pt\").input_features.to(device)\n",
    "    forced_decoder_ids = processor.tokenizer.get_decoder_prompt_ids(language=language, task=\"transcribe\")\n",
    "    generated_ids = model.generate(input_features, forced_decoder_ids=forced_decoder_ids)\n",
    "    transcription = processor.batch_decode(generated_ids, skip_special_tokens=True)[0]\n",
    "\n",
    "    return transcription\n"
   ]
  },
  {
   "cell_type": "code",
   "execution_count": 17,
   "metadata": {},
   "outputs": [],
   "source": [
    "def file_list(folder_path):\n",
    "    try:\n",
    "        files = os.listdir(folder_path)\n",
    "        return [os.path.abspath(os.path.join(folder_path, file)) for file in files if os.path.isfile(os.path.join(folder_path, file))]\n",
    "    except FileNotFoundError:\n",
    "        return f\"Error: {folder_path} not found\""
   ]
  },
  {
   "cell_type": "code",
   "execution_count": 18,
   "metadata": {},
   "outputs": [
    {
     "name": "stderr",
     "output_type": "stream",
     "text": [
      "You have passed task=transcribe, but also have set `forced_decoder_ids` to [(1, 50259), (2, 50360), (3, 50364)] which creates a conflict. `forced_decoder_ids` will be ignored in favor of task=transcribe.\n"
     ]
    },
    {
     "name": "stdout",
     "output_type": "stream",
     "text": [
      "[' Please call Stella, ask her to bring these things with her from the store, 6-spon, fresno pe, 5-takes slab of blue cheese, and a maybe snack for her brother Bob. We also need a small plastic snake and a big toy frog for the kid. She can scoop these things into three red bags, and we will go meet her Wednesday at the train station.', ' Please call Stella, ask her to bring this thing with her from the store, six spoon of the fresh snow-piece, five thick slab of the blue cheese, and maybe snack for her brother Bob. We also need small plastic snake and the big toy fork for the kid. She can scoop this thing into three red bag and we will go meet her Wednesday at the train station.', ' I have a lunch day unit that has never given me any trouble.', ' please call stella ask her to bring these things with her from the store six spoons of fresh snow-piece five thick-slaps of blue cheese and maybe snack for her brother bob we also need a small plastic snake and a big toy frog for the kids she can scoop these things into three red bags and we will go meet her wednesday at the train station', ' please call stella us to bring these things with her from the store six spoons of fresh snow peas five thick slabs of blue cheese and maybe a snack for her brother bob we also need a small plaza snake and a big toy frog for the kids she can scoop these things into three red bags and we will go meet her wednesday at the train station', ' Please call Stella, ask her to bring these things with her from the store, six spoons of fresh snow peas, five chick slabs of blue cheese, and maybe a snack for her brother Bob. We also need a small plastic snake and a big toy frogs for the kids. She can scoop these things into three red bags and we will go meet her Wednesday at the train station.', ' I got some snacks, a few beers and I get ready to watch.', ' Please call Stella. Ask her to bring these things with her from the store. Six spoons of fresh nosepiece, five thick slabs of blue cheese and maybe a snack for her brother Bob. We also need a small plastic snake and a big toy frog for the kids. She can scoop these things into three red bags and we will go to meet her Wednesday at the train station.', ' Fam, percent.', ' Beautiful, myself.', ' Please call Stella. Ask her to bring these things with her from the store. Six spoons of fresh snow peas, five thick slabs of blue cheese and maybe a snake for her brother pop. We also need a small plastic snake, a big toy frock for the kids. She can scoop these things into three red bags and we will go meet her Wednesday at a train station.', ' Please call Stella, ask her to bring this thing with her from the store. Six spoons of fresh snowpiece, five thick slabs of blue cheese, and maybe a snack for her brother Bob. We also need a small plastic snake and a big toy frog for the kids. She can scoop this thing into three red bags and we will go meet her Wednesday at the train station.', ' Please call Stella. Ask her to bring these things with her from the store. Six spoons of fresh snow peas, five thick slabs of blue cheese, and maybe snack for her brother Bob. We also need a small plastic and snake and a big toy frog for the kids. She can scoop these things into three red bags and we will go meet her Wednesday at the train station.', ' Please call Stella, ask her to bring these things with her from the store, 6 spoons of fresh snow peas, 5 thick slaps of blue cheese, and maybe a snack for her brother Bob. We also need a small plastic snake and a big toy frog for the kids. She can scoop these things into 3 red bags, and we will go meet her when I stay at the train station.', ' Greenhouse, Discover.', ' Please call Stella, ask her to bring these things with her from the store, six spoons of fresh snow peas, five thick slabs of blue cheese, and maybe a snake for her brother Bob. We also need a small plastic snake and a big toy frog for the kids. She can scope these things into three red bags and we will go meet her Wednesday at the', ' The doctor said he had already been a lot better now.']\n"
     ]
    }
   ],
   "source": [
    "#fl = file_list(\"../indonesian-english\")\n",
    "fl = file_list(\"../cambodian-english\")\n",
    "hyps = []\n",
    "for r in fl:\n",
    "    hyps.append(transcribe(processor, model, r, language='en'))\n",
    "print(hyps)"
   ]
  },
  {
   "cell_type": "code",
   "execution_count": 19,
   "metadata": {},
   "outputs": [],
   "source": [
    "# Indonesian\n",
    "# ref_str = \"\"\"Please call Stella.  Ask her to bring these things with her from the store:  Six spoons of fresh snow peas, five thick slabs of blue cheese, and maybe a snack for her brother Bob.  We also need a small plastic snake and a big toy frog for the kids.  She can scoop these things into three red bags, and we will go meet her Wednesday at the train station.\n",
    "# Please call Stella.  Ask her to bring these things with her from the store:  Six spoons of fresh snow peas, five thick slabs of blue cheese, and maybe a snack for her brother Bob.  We also need a small plastic snake and a big toy frog for the kids.  She can scoop these things into three red bags, and we will go meet her Wednesday at the train station.\n",
    "# I got some snacks, a few beers and I get ready to watch.\n",
    "# Please call Stella.  Ask her to bring these things with her from the store:  Six spoons of fresh snow peas, five thick slabs of blue cheese, and maybe a snack for her brother Bob.  We also need a small plastic snake and a big toy frog for the kids.  She can scoop these things into three red bags, and we will go meet her Wednesday at the train station.\n",
    "# Please call Stella.  Ask her to bring these things with her from the store:  Six spoons of fresh snow peas, five thick slabs of blue cheese, and maybe a snack for her brother Bob.  We also need a small plastic snake and a big toy frog for the kids.  She can scoop these things into three red bags, and we will go meet her Wednesday at the train station.\n",
    "# Please call Stella.  Ask her to bring these things with her from the store:  Six spoons of fresh snow peas, five thick slabs of blue cheese, and maybe a snack for her brother Bob.  We also need a small plastic snake and a big toy frog for the kids.  She can scoop these things into three red bags, and we will go meet her Wednesday at the train station.\n",
    "# I have launched their unit that had never given me any trouble.\n",
    "# Please call Stella.  Ask her to bring these things with her from the store:  Six spoons of fresh snow peas, five thick slabs of blue cheese, and maybe a snack for her brother Bob.  We also need a small plastic snake and a big toy frog for the kids.  She can scoop these things into three red bags, and we will go meet her Wednesday at the train station.\n",
    "# Farm percent\n",
    "# beautiful-myself\n",
    "# Please call Stella.  Ask her to bring these things with her from the store:  Six spoons of fresh snow peas, five thick slabs of blue cheese, and maybe a snack for her brother Bob.  We also need a small plastic snake and a big toy frog for the kids.  She can scoop these things into three red bags, and we will go meet her Wednesday at the train station.\n",
    "# Please call Stella.  Ask her to bring these things with her from the store:  Six spoons of fresh snow peas, five thick slabs of blue cheese, and maybe a snack for her brother Bob.  We also need a small plastic snake and a big toy frog for the kids.  She can scoop these things into three red bags, and we will go meet her Wednesday at the train station.\n",
    "# Please call Stella.  Ask her to bring these things with her from the store:  Six spoons of fresh snow peas, five thick slabs of blue cheese, and maybe a snack for her brother Bob.  We also need a small plastic snake and a big toy frog for the kids.  She can scoop these things into three red bags, and we will go meet her Wednesday at the train station.\n",
    "# Please call Stella.  Ask her to bring these things with her from the store:  Six spoons of fresh snow peas, five thick slabs of blue cheese, and maybe a snack for her brother Bob.  We also need a small plastic snake and a big toy frog for the kids.  She can scoop these things into three red bags, and we will go meet her Wednesday at the train station.\n",
    "# greenhouse discover\n",
    "# Please call Stella.  Ask her to bring these things with her from the store:  Six spoons of fresh snow peas, five thick slabs of blue cheese, and maybe a snack for her brother Bob.  We also need a small plastic snake and a big toy frog for the kids.  She can scoop these things into three red bags, and we will go meet her Wednesday at the train station.\n",
    "# the-doctor-said-he-had-already-been-a-lot-better-now\"\"\"\n",
    "\n",
    "# Cambodian\n",
    "ref_str = \"\"\"Please call Stella.  Ask her to bring these things with her from the store:  Six spoons of fresh snow peas, five thick slabs of blue cheese, and maybe a snack for her brother Bob.  We also need a small plastic snake and a big toy frog for the kids.  She can scoop these things into three red bags, and we will go meet her Wednesday at the train station.\n",
    "Please call Stella.  Ask her to bring these things with her from the store:  Six spoons of fresh snow peas, five thick slabs of blue cheese, and maybe a snack for her brother Bob.  We also need a small plastic snake and a big toy frog for the kids.  She can scoop these things into three red bags, and we will go meet her Wednesday at the train station.\n",
    "Please call Stella.  Ask her to bring these things with her from the store:  Six spoons of fresh snow peas, five thick slabs of blue cheese, and maybe a snack for her brother Bob.  We also need a small plastic snake and a big toy frog for the kids.  She can scoop these things into three red bags, and we will go meet her Wednesday at the train station.\n",
    "Please call Stella.  Ask her to bring these things with her from the store:  Six spoons of fresh snow peas, five thick slabs of blue cheese, and maybe a snack for her brother Bob.  We also need a small plastic snake and a big toy frog for the kids.  She can scoop these things into three red bags, and we will go meet her Wednesday at the train station.\n",
    "Please call Stella.  Ask her to bring these things with her from the store:  Six spoons of fresh snow peas, five thick slabs of blue cheese, and maybe a snack for her brother Bob.  We also need a small plastic snake and a big toy frog for the kids.  She can scoop these things into three red bags, and we will go meet her Wednesday at the train station.\n",
    "Please call Stella.  Ask her to bring these things with her from the store:  Six spoons of fresh snow peas, five thick slabs of blue cheese, and maybe a snack for her brother Bob.  We also need a small plastic snake and a big toy frog for the kids.  She can scoop these things into three red bags, and we will go meet her Wednesday at the train station.\n",
    "Please call Stella.  Ask her to bring these things with her from the store:  Six spoons of fresh snow peas, five thick slabs of blue cheese, and maybe a snack for her brother Bob.  We also need a small plastic snake and a big toy frog for the kids.  She can scoop these things into three red bags, and we will go meet her Wednesday at the train station.\n",
    "Please call Stella.  Ask her to bring these things with her from the store:  Six spoons of fresh snow peas, five thick slabs of blue cheese, and maybe a snack for her brother Bob.  We also need a small plastic snake and a big toy frog for the kids.  She can scoop these things into three red bags, and we will go meet her Wednesday at the train station.\n",
    "Please call Stella.  Ask her to bring these things with her from the store:  Six spoons of fresh snow peas, five thick slabs of blue cheese, and maybe a snack for her brother Bob.  We also need a small plastic snake and a big toy frog for the kids.  She can scoop these things into three red bags, and we will go meet her Wednesday at the train station.\"\"\"\n",
    "\n",
    "\n",
    "refs = ref_str.splitlines()"
   ]
  },
  {
   "cell_type": "code",
   "execution_count": 20,
   "metadata": {},
   "outputs": [
    {
     "name": "stdout",
     "output_type": "stream",
     "text": [
      "WER = 20.88607594936709\n",
      "CER = 9.31480126798342\n"
     ]
    }
   ],
   "source": [
    "import jiwer\n",
    "\n",
    "wer = jiwer.wer(refs, hyps)\n",
    "print(f'WER = {wer*100}')\n",
    "cer = jiwer.cer(refs, hyps)\n",
    "print(f'CER = {cer*100}')"
   ]
  },
  {
   "cell_type": "code",
   "execution_count": 21,
   "metadata": {},
   "outputs": [
    {
     "name": "stdout",
     "output_type": "stream",
     "text": [
      " Please call Stella, ask her to bring these things with her from the store, 6-spon, fresno pe, 5-takes slab of blue cheese, and a maybe snack for her brother Bob. We also need a small plastic snake and a big toy frog for the kid. She can scoop these things into three red bags, and we will go meet her Wednesday at the train station.\n",
      " Please call Stella, ask her to bring this thing with her from the store, six spoon of the fresh snow-piece, five thick slab of the blue cheese, and maybe snack for her brother Bob. We also need small plastic snake and the big toy fork for the kid. She can scoop this thing into three red bag and we will go meet her Wednesday at the train station.\n",
      " I have a lunch day unit that has never given me any trouble.\n",
      " please call stella ask her to bring these things with her from the store six spoons of fresh snow-piece five thick-slaps of blue cheese and maybe snack for her brother bob we also need a small plastic snake and a big toy frog for the kids she can scoop these things into three red bags and we will go meet her wednesday at the train station\n",
      " please call stella us to bring these things with her from the store six spoons of fresh snow peas five thick slabs of blue cheese and maybe a snack for her brother bob we also need a small plaza snake and a big toy frog for the kids she can scoop these things into three red bags and we will go meet her wednesday at the train station\n",
      " Please call Stella, ask her to bring these things with her from the store, six spoons of fresh snow peas, five chick slabs of blue cheese, and maybe a snack for her brother Bob. We also need a small plastic snake and a big toy frogs for the kids. She can scoop these things into three red bags and we will go meet her Wednesday at the train station.\n",
      " I got some snacks, a few beers and I get ready to watch.\n",
      " Please call Stella. Ask her to bring these things with her from the store. Six spoons of fresh nosepiece, five thick slabs of blue cheese and maybe a snack for her brother Bob. We also need a small plastic snake and a big toy frog for the kids. She can scoop these things into three red bags and we will go to meet her Wednesday at the train station.\n",
      " Fam, percent.\n",
      " Beautiful, myself.\n",
      " Please call Stella. Ask her to bring these things with her from the store. Six spoons of fresh snow peas, five thick slabs of blue cheese and maybe a snake for her brother pop. We also need a small plastic snake, a big toy frock for the kids. She can scoop these things into three red bags and we will go meet her Wednesday at a train station.\n",
      " Please call Stella, ask her to bring this thing with her from the store. Six spoons of fresh snowpiece, five thick slabs of blue cheese, and maybe a snack for her brother Bob. We also need a small plastic snake and a big toy frog for the kids. She can scoop this thing into three red bags and we will go meet her Wednesday at the train station.\n",
      " Please call Stella. Ask her to bring these things with her from the store. Six spoons of fresh snow peas, five thick slabs of blue cheese, and maybe snack for her brother Bob. We also need a small plastic and snake and a big toy frog for the kids. She can scoop these things into three red bags and we will go meet her Wednesday at the train station.\n",
      " Please call Stella, ask her to bring these things with her from the store, 6 spoons of fresh snow peas, 5 thick slaps of blue cheese, and maybe a snack for her brother Bob. We also need a small plastic snake and a big toy frog for the kids. She can scoop these things into 3 red bags, and we will go meet her when I stay at the train station.\n",
      " Greenhouse, Discover.\n",
      " Please call Stella, ask her to bring these things with her from the store, six spoons of fresh snow peas, five thick slabs of blue cheese, and maybe a snake for her brother Bob. We also need a small plastic snake and a big toy frog for the kids. She can scope these things into three red bags and we will go meet her Wednesday at the\n",
      " The doctor said he had already been a lot better now.\n"
     ]
    }
   ],
   "source": [
    "for i in range(len(refs)):\n",
    "    #print(f\"{i+1}: {refs[i]}\\t{hyps[i]}\")\n",
    "    print(f\"{hyps[i]}\")"
   ]
  },
  {
   "cell_type": "code",
   "execution_count": null,
   "metadata": {},
   "outputs": [],
   "source": []
  }
 ],
 "metadata": {
  "kernelspec": {
   "display_name": "whisper",
   "language": "python",
   "name": "python3"
  },
  "language_info": {
   "codemirror_mode": {
    "name": "ipython",
    "version": 3
   },
   "file_extension": ".py",
   "mimetype": "text/x-python",
   "name": "python",
   "nbconvert_exporter": "python",
   "pygments_lexer": "ipython3",
   "version": "3.11.9"
  }
 },
 "nbformat": 4,
 "nbformat_minor": 2
}
