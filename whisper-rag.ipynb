{
 "cells": [
  {
   "cell_type": "code",
   "execution_count": null,
   "metadata": {},
   "outputs": [],
   "source": [
    "!pip install yt_dlp pydub transformers langchain langchain-community chromadb ffmpeg-python sentence-transformers\n"
   ]
  },
  {
   "cell_type": "code",
   "execution_count": 1,
   "metadata": {},
   "outputs": [
    {
     "name": "stderr",
     "output_type": "stream",
     "text": [
      "/Users/hosung/anaconda3/envs/whisper-rag/lib/python3.11/site-packages/tqdm/auto.py:21: TqdmWarning: IProgress not found. Please update jupyter and ipywidgets. See https://ipywidgets.readthedocs.io/en/stable/user_install.html\n",
      "  from .autonotebook import tqdm as notebook_tqdm\n",
      "/Users/hosung/anaconda3/envs/whisper-rag/lib/python3.11/site-packages/threadpoolctl.py:1214: RuntimeWarning: \n",
      "Found Intel OpenMP ('libiomp') and LLVM OpenMP ('libomp') loaded at\n",
      "the same time. Both libraries are known to be incompatible and this\n",
      "can cause random crashes or deadlocks on Linux when loaded in the\n",
      "same Python program.\n",
      "Using threadpoolctl may cause crashes or deadlocks. For more\n",
      "information and possible workarounds, please see\n",
      "    https://github.com/joblib/threadpoolctl/blob/master/multiple_openmp.md\n",
      "\n",
      "  warnings.warn(msg, RuntimeWarning)\n"
     ]
    }
   ],
   "source": [
    "import yt_dlp as youtube_dl\n",
    "from pydub import AudioSegment\n",
    "from transformers import pipeline, LlamaForCausalLM, LlamaTokenizer\n",
    "from langchain.chains import RetrievalQA\n",
    "from langchain.vectorstores import Chroma\n",
    "from langchain.embeddings import HuggingFaceEmbeddings\n",
    "from langchain.llms import HuggingFacePipeline\n",
    "from langchain.text_splitter import CharacterTextSplitter\n",
    "import os\n"
   ]
  },
  {
   "cell_type": "code",
   "execution_count": 2,
   "metadata": {},
   "outputs": [],
   "source": [
    "def download_audio_from_youtube(youtube_url, output_format='wav'):\n",
    "    ydl_opts = {\n",
    "        'format': 'bestaudio/best',\n",
    "        'postprocessors': [{\n",
    "            'key': 'FFmpegExtractAudio',\n",
    "            'preferredcodec': output_format,\n",
    "            'preferredquality': '192',\n",
    "        }],\n",
    "        'outtmpl': '%(id)s.%(ext)s',\n",
    "    }\n",
    "\n",
    "    with youtube_dl.YoutubeDL(ydl_opts) as ydl:\n",
    "        info_dict = ydl.extract_info(youtube_url, download=True)\n",
    "        audio_file = ydl.prepare_filename(info_dict).replace('.webm', f'.{output_format}')\n",
    "        \n",
    "    return audio_file\n",
    "\n",
    "def transcribe_audio_with_pipeline(audio_file):\n",
    "    transcriber = pipeline(task=\"automatic-speech-recognition\", model=\"openai/whisper-base\")\n",
    "    result = transcriber(audio_file)\n",
    "    return result['text']\n",
    "\n"
   ]
  },
  {
   "cell_type": "code",
   "execution_count": 3,
   "metadata": {},
   "outputs": [
    {
     "name": "stdout",
     "output_type": "stream",
     "text": [
      "[youtube] Extracting URL: https://youtu.be/W6peueGxp9g\n",
      "[youtube] W6peueGxp9g: Downloading webpage\n",
      "[youtube] W6peueGxp9g: Downloading ios player API JSON\n",
      "[youtube] W6peueGxp9g: Downloading player f9c66401\n",
      "[youtube] W6peueGxp9g: Downloading m3u8 information\n",
      "[info] W6peueGxp9g: Downloading 1 format(s): 251\n",
      "[download] Destination: W6peueGxp9g.webm\n",
      "[download] 100% of    7.68MiB in 00:00:00 at 10.44MiB/s  \n",
      "[ExtractAudio] Destination: W6peueGxp9g.wav\n",
      "Deleting original file W6peueGxp9g.webm (pass -k to keep)\n"
     ]
    },
    {
     "name": "stderr",
     "output_type": "stream",
     "text": [
      "Special tokens have been added in the vocabulary, make sure the associated word embeddings are fine-tuned or trained.\n",
      "Due to a bug fix in https://github.com/huggingface/transformers/pull/28687 transcription using a multilingual Whisper will default to language detection followed by transcription instead of translation to English.This might be a breaking change for your use case. If you want to instead always translate your audio to English, make sure to pass `language='en'`.\n"
     ]
    }
   ],
   "source": [
    "# 유튜브 URL 입력 받기\n",
    "youtube_url = \"https://youtu.be/W6peueGxp9g\"\n",
    "# 오디오 파일 다운로드 및 변환\n",
    "audio_file = download_audio_from_youtube(youtube_url)\n",
    "# 오디오 파일을 텍스트로 변환\n",
    "transcription = transcribe_audio_with_pipeline(audio_file)"
   ]
  },
  {
   "cell_type": "code",
   "execution_count": 4,
   "metadata": {},
   "outputs": [
    {
     "name": "stdout",
     "output_type": "stream",
     "text": [
      " 예전 영상에서 신입부터 5년차까지 뭐가 중요한 수단 얘기를 했는데 그 다음 5년은 본격적으로 커리어의 날개를 피기 위한 준비와 훈련을 하면서 인정도 받아야 되는 중요한 식이라고 생각을 합니다. 그래서 오늘은 커리어 5년에서 10년차까지는 뭐가 중요하고 뭘 챙겨야 되는지 이야기 보려고 합니다. 첫 5년차까지는 내가 뭘 좋아하고 뭘 잘하고 장기적으로는 어떤 길을 걷고 싶은지 찾아야 되는 시기란 얘기를 했어요. 그다음 5년차는 그렇게 찾은 내가 되고 싶은 모습을 본격적으로 만들어가는 시기라고 생각합니다. 집 내 전문성을 쌓는 시기이고 나는 모하는 사람인지를 만들어가는 시기인 거죠. 그럼 첫 번째로 해야 되는 질문은 내가 지금 하고 있는 일이 장기적으로 전문성을 쌓고 싶은 1인이라는 거죠. 첫 5년은 다양한 경험을 하는 것도 좋지만 그 다음 5년은 깊게 들어가야 하기 때문에 필요하다면 부소를 옮기던가 이지글에서 변화를 줘야 되는 거죠. 이런 변화를 주는 과정은 준비가 오래 걸리기 때문에 하루라도 빨리 시작하면 좋은 것 같습니다. 저는 제가 원하는 컬을 위해서 경력 4년 반차 때 대학원 유학을 가서 큰 변화를 주었고 이 과정은 제가 이전 영상에서 자세하게 얘기했으니 참고해주세요. 그렇게 변화를 주었다면 이전의 전문성을 싸악하기 시작해야 돼요. 저는 실리콘 벨리 테크 기업에 취업은 성공을 했는데 막상 이를 시작해보니까 미국 동료를 사이에서 현지인도 아닌 내가 어떤 전문성을 가져가야 될지 고민이 많이 되더라고요. 그러면서 내 전문성을 쌓는 과정은 마치 농구 선수가 전문성을 쌓는 과정과 비슷한 생각을 했어요. 모든 걸 다 자라면 물론 좋지만 3.2 수술 잘 쏘는 선수, 리바운드를 잘하는 선수처럼 내 전문 분야가 있으면 오랫동안 필요한 선수가 되잖아요. 저도 이걸 찾아야겠다는 생각을 했고 제가 찾은 답은 미국 회사에서 아시아 기업들과 일을 잘하는 포지션이었어요. 그래서 아시아 기업과 제유를 하면서 제품을 출시하는 일은 미국 동료들보다는 내가 더 잘할 수 있는 일이 없고 또 제가 재밌어 하는 일이기도 했으면서 아시아 출장도 자주 갈 수 있으니까 저에게는 딱이라는 생각을 했습니다. 그래서 아시아 기업과 일할 기회가 있다면 그건 작건 제가 무조건 손을 들었고 어떻게든 좋은 결과를 보여주기 위해서 열심히 일을 했습니다. 2000년대 후반에 구구리 오픈 소셜이라는 SNS용 제품을 개발하고 있었고 제가 한국이랑 일본 파트너는 내가 가서 들어오겠다라고 손을 들었습니다. 그래서 많은 한국과 일본의 SNS 기업들과 제율을 매졌고 당시 한국의 1등 SNS였던 사이월드랑도 제율을 매져서 신문의 얼굴이 나아 보기도 했어요. 그리고 당연히 이런 결과가 나올 때마다 내부 홍보를 엄청나게 열심히 했고 아시아 기업이랑 뭐 해야 돼? 아 그러면 아시켜줘. 이런 포지션을 만들어갔습니다. 마친 애가 3점 슈슬 넣는 농구 선수라면은 3점 슈슬 넣을 기회를 많이 만들어대는 것처럼 내가 전문성을 싸울 수 있는 기회를 최대한 많이 만드는 게 중요하다고 생각을 합니다. 그리고 그렇게 아시아이를 하는 사람 포지션을 잘 만들어 가니까 제가 한 경력 9년차 정도 됐을 때 회사 내부에서 큰 비밀 프로젝트가 있었고 그 프로젝트에서 아시아 회사와 제외할 사람이 필요하니까 연락이 오더라고요. 그래서 운도 실력이라고 생각을 해요. 이런 기회가 왔을 때 주변에서는 운이 좋아서 그랬다고 생각을 하지만 한 단계 깊게 들어가 보면 그 사람은 그만큼 준비를 하고 있었기 때문에 그 운을 기회를 만들 수 있었다고 저는 생각합니다. 그래서 주변에서 내가 질투나는 저 사람 너무 운이 좋은 것 같다고 생각하는 사람이 있다면 그 사람과 친해져서 어떤 내가 모르는 준비를 했는지 한 번 팝오는 것도 저는 커리어 개발에 좋은 방법이라고 생각을 해요. 그렇게 내 전문성을 키워가는 5년에서 10년 차쯤에 또 마지막에 딜레맥을 하나가 있어요. 내 스킬과 패션 사이에 딜레마예요. 여기서 말하는 스킬이랑 조직에서 요구하는 능력 중에서 내가 이거 좀 잘하는데 하는 능력이에요. 내가 잘하는 회사일이고 이게 내 전문성이었죠. 반면에 패션을 조금 달라요. 굳이 조직에서 요구하는 능력은 아닌데 내가 너무 열정을 느껴서 누가 시키지도 않았는데 갑자기 자답게 해서 하는 거 있잖아요. 이런 게 패션이에요. 이 두 가지가 완벽하게 하나라면 이건 완벽한 덩어빛이라고 생각하지만 그런 사람은 많이 없을 거라고 생각을 하고 많은 분들이 한 5년 이상 정도이라면 내 스킬과 패션이 나눠지는 것을 경험하실 것 같고 저도 그랬어요. 제 경우는 미국 기업에 소속되서 아시아 기업디랑 일추진 않은 거는 아 이거 좀 내가 잘하는데 라는 생각을 했고 또 미국 기업 내에서 미국 시 커뮤니케이션 하는 것도 어 이거 내가 좀 잘하는데 라고 저 혼자 생각했습니다. 반면에 이때부터 커리어 하나 실리콘 벨리 관련끌같이 제 콘텐트를 만들기 시작했고 마리나 글로 내 콘텐트를 만드는 일에 큰 열정을 느끼기 시작했어요. 이게 제 패션이었죠? 그럼 스킬과 패션 사이에 어떤 균형을 잡아야 되는지가 중요하고 제가 찾았던 답은 돈을 기준으로 삼쩌였어요. 당시 제 상황은 당연히 제 스킬 즉 회사일 때문에 돈이 들어왔고 패션에서는 당시에는 돈이 들어오지 않았단 말이에요. 그럼 돈이 들어오는 회사일에 열심히 일하자가 우선순이었고 내 패션은 취미로 취미로 취미로 다하자가 자연스러운 결론이었어요. 커리어를 싸우고 내가 열정을 느낀을 패션을 찾는 거는 중요하다고 생각을 하고 이런 게 있는 사람이 훨씬 더 멋있고 행복한 삶을 산다고 생각을 합니다. 하지만 내 패션이 내 본업보다 나한테 돈을 더 많이 벌어주는 게 아니라면 내 패션이 본업을 흔들지 않는 게 굉장히 중요해요. 특히 5년에서 10년 차 사이는 내 스킬을 싸우면서 내 전문성을 키워야 되는 시기기 때문에 더 중요한 것 같아요. 그래서 커리어 조언을 한다고 너의 열정을 찾아가 라고 말하는 거는 저는 무책이만 좋은이라고 생각을 해요. 그리고 내가 패션이라고 느끼는 게 내 본업이 됐을 때도 과연 내 패션입니까 또 모른다고 생각하거든요. 그래서 내 패션은 개인 프로젝트로 잘 키우가면서 잘 즐기다가 커리어에서 어느 정도 이루고 싶은 거 다 이른 다음에 제가 그랬던 것처럼 후욱 넘어와도 늦지 않다고 생각합니다. 예전에 강지영 안아온 소화 영상에서도 한 얘기인데 또 5년에서 10년차가 중간에 껴있는 시기예요. 밑으로 후배들 많고 빠른 분들은 밑에 팀원분이 있는 분들도 계실 거고 위로는 10년 차 이상 분들이 수두룩하죠. 그래서 나도 리더티를 내고 싶지만 위던 아래든 나를 리더로 생각해 주시 않는 시기가 5년에서 10년 차예요. 괜히 간부 흉에 내면서 실무 챙기기보다는 밑에 분들한테 조언하는데 집중하다 보면 밑에서 실물을 꽉지고 있는 후배 분들과 위에 리더분들 사이에서 경쟁력을 이룰 수 있을 뿐만 아니라 내 전문성을 싸울 기회도 놓치는 최악의 스내력을 나올 수 있습니다. 마치 낫나지 곰을 던져야 되는 농구 선수인데 괜히 코치 용을 내면서 후배들 지도하다가 막상 나는 꼴을 못 는 필요가 없는 선수가 되는 거랑 비슷한 거죠. 제가 이 당시에 맡았던 또 다른 프로젝트가 그때 막 출시�했던 크롬 프로젝트였어요. 크롬 프로젝트의 확장 프로그램을 담당하는 일을 했고 용의 꼬리 같은 작은 프로젝트였지만 제거라고 생각하고 열심히 이랬습니다. 근데 그때 이 일을 같이 한 저보다 연차가 조금 높은 한 분이 계셨어요. 중국의 미국인 분이었는데 미국 기업에서는 연차가 높다고 상하관계가 결정되지는 않지만 이분은 당시 리더 형리를 내려고 했어요. 근데 이 일을 저랑 둘이 하니까 이분이 리더 형리를 낸다는 말은 자꾸 저한테 와서 제일 참결하는 거였어요. 그래서 그때 너무 청나게 짜증이 났던 기억이 납니다. 아주 기억나. 채냐 이름이. 얼굴도 너무 늦게 웃나 진짜. 이분은 자꾸 리더 형리만 낼라 그러니까 선장을 뛰지를 않는 거예요. 이분은 코치용레만 되니까 실무는 제가 다 챙길 수 있었고 실무는 내가 다아보 있다는 티를 팍팍 냈습니다. 그렇게 몇 달을 하다 보면 주변에서도 이른 누가 하고 있는지 확실하게 알게 되고 결국 이분은 다른 회사로 이지 그랬어요. 중간에 껴있기 때문에 더 더 확실한 내 거를 만드는 게 중요한 시기가 5년에서 10년 차라고 생각을 하고 너무너를 증명해야 돼 스트레스를 받는 거는 안 좋지만 나를 증명해야 된다가 큰 동기부여가 되는 시기도 5년에서 10년 차라고 생각을 합니다. 그래서 힘들기도 하지만 이 시기 때 쌓는 많은 것들이 그 다음에 진짜 리더로 올라가는 발판을 마련해 준다고 생각을 해요. 또한 이 시기는 어쩌면 커리어에서 마지막으로 내 성과만 잘 챙기면 돼요. 그 다음 부터는 내 팀의 성과를 챙겨야 되는 시기가 시작이 되거든요. 그래서 돌아보면은 아 그냥 내 꽃만 잘 챙기는 되는 시기가 참 좋았구나 라는 생각이 드니까 또 그걸 잘 즐기는 것도 필요하다고 생각을 합니다 저희가 10년차 이훼는 오해 신경을 써야 되는지 영상도 언젠가 만들어 볼게요 오늘 소개하고 싶은 아이템은 스펜서 존슨의 선물이라는 책이에요 제가 5년에서 10년차 사이에 우연이 있고 너무나 많은 도움과 영감과 감명을 받은 책입니다 그 시기가 진짜 바보고 스트레스도 많이 받는 시기인데 어떻게 과거에서 배우고 현재의 충실하고 미래를 그의감은 좋은지에 대해서 잘 담겨있는 책이고 워낙 짧기 때문에 이 책 아직 안 읽어보신 분이라면 추천드리고 싶습니다. 오늘 5년에서 10년차 커리어에 대한 얘기를 해봤는데 여러분들의 커리어 고민도 답글에 나눠주시면 좋을 것 같습니다. 그럼 저는 다음 시간에 더 재밌고 유칸진으로 돌아오도록 하겠습니다. 감사합니다. 이곳은\n"
     ]
    }
   ],
   "source": [
    "print(transcription)"
   ]
  },
  {
   "cell_type": "code",
   "execution_count": null,
   "metadata": {},
   "outputs": [],
   "source": [
    "def correct_text_with_llm(text):\n",
    "    model_name = \"meta-llama/Llama-2-7b-hf\"\n",
    "    tokenizer = LlamaTokenizer.from_pretrained(model_name)\n",
    "    model = LlamaForCausalLM.from_pretrained(model_name)\n",
    "    corrector = pipeline(\"text-generation\", model=model, tokenizer=tokenizer)\n",
    "    \n",
    "    # 텍스트 보정 실행\n",
    "    corrected_text = corrector(text, max_length=512, num_return_sequences=1)[0]['generated_text']\n",
    "    return corrected_text"
   ]
  },
  {
   "cell_type": "code",
   "execution_count": null,
   "metadata": {},
   "outputs": [],
   "source": [
    "corrected_transcription = correct_text_with_llm(transcription)"
   ]
  },
  {
   "cell_type": "code",
   "execution_count": null,
   "metadata": {},
   "outputs": [],
   "source": [
    "\n",
    "\n",
    "# RAG 시스템 초기화 함수 정의\n",
    "def initialize_rag_system(documents):\n",
    "    embeddings = HuggingFaceEmbeddings(model_name=\"sentence-transformers/all-MiniLM-L6-v2\")\n",
    "    vectorstore = Chroma.from_texts(texts=documents, embedding=embeddings)\n",
    "    \n",
    "    model_name = \"meta-llama/Llama-2-7b-hf\"  # 사용할 LLaMA 모델 이름\n",
    "    tokenizer = LlamaTokenizer.from_pretrained(model_name)\n",
    "    model = LlamaForCausalLM.from_pretrained(model_name)\n",
    "    llm_pipeline = pipeline(\"text-generation\", model=model, tokenizer=tokenizer)\n",
    "    llm = HuggingFacePipeline(pipeline=llm_pipeline)\n",
    "    \n",
    "    qa_chain = RetrievalQA(llm=llm, retriever=vectorstore.as_retriever())\n",
    "    return qa_chain\n",
    "\n",
    "# 텍스트를 문서 리스트로 변환\n",
    "text_splitter = CharacterTextSplitter(chunk_size=1000, chunk_overlap=200)\n",
    "documents = text_splitter.split_text(corrected_transcription)\n",
    "\n",
    "# RAG 시스템 초기화\n",
    "qa_chain = initialize_rag_system(documents)\n",
    "\n",
    "# 질의 예시\n",
    "query = \"해당 영상의 주요 내용은 무엇인가요?\"\n",
    "response = qa_chain.run(query)\n",
    "\n",
    "# 결과 출력\n",
    "print(\"Query:\", query)\n",
    "print(\"Response:\", response)\n",
    "\n",
    "# 임시 오디오 파일 삭제\n",
    "os.remove(audio_file)\n"
   ]
  },
  {
   "cell_type": "code",
   "execution_count": null,
   "metadata": {},
   "outputs": [],
   "source": []
  },
  {
   "cell_type": "code",
   "execution_count": null,
   "metadata": {},
   "outputs": [],
   "source": []
  }
 ],
 "metadata": {
  "kernelspec": {
   "display_name": "Python 3",
   "language": "python",
   "name": "python3"
  },
  "language_info": {
   "codemirror_mode": {
    "name": "ipython",
    "version": 3
   },
   "file_extension": ".py",
   "mimetype": "text/x-python",
   "name": "python",
   "nbconvert_exporter": "python",
   "pygments_lexer": "ipython3",
   "version": "3.11.9"
  }
 },
 "nbformat": 4,
 "nbformat_minor": 2
}
